{
 "cells": [
  {
   "cell_type": "code",
   "execution_count": 1,
   "metadata": {
    "colab": {
     "base_uri": "https://localhost:8080/",
     "height": 51
    },
    "colab_type": "code",
    "executionInfo": {
     "elapsed": 581,
     "status": "ok",
     "timestamp": 1598312068381,
     "user": {
      "displayName": "Abhinav Gupta",
      "photoUrl": "https://lh3.googleusercontent.com/a-/AOh14GgMtMT5ccMf8GLgQ3yu6fAY2d6upCEZXfzS-5A6Cg=s64",
      "userId": "02552889854388316189"
     },
     "user_tz": 240
    },
    "id": "dLs_9-sXH-LZ",
    "outputId": "c06d10e3-a2b9-4f7b-94d9-49eaff134f8b"
   },
   "outputs": [],
   "source": [
    "basedir = '/home/abhinavgupta0110/NeuralODEs_ROM_Closure'\n",
    "\n",
    "import os\n",
    "\n",
    "is_google_colab = False\n",
    "is_use_GPU = False"
   ]
  },
  {
   "cell_type": "markdown",
   "metadata": {
    "colab_type": "text",
    "id": "jworEiRYIIyo"
   },
   "source": [
    "### Mount the drive"
   ]
  },
  {
   "cell_type": "code",
   "execution_count": 2,
   "metadata": {
    "colab": {
     "base_uri": "https://localhost:8080/",
     "height": 51
    },
    "colab_type": "code",
    "executionInfo": {
     "elapsed": 568,
     "status": "ok",
     "timestamp": 1598312068383,
     "user": {
      "displayName": "Abhinav Gupta",
      "photoUrl": "https://lh3.googleusercontent.com/a-/AOh14GgMtMT5ccMf8GLgQ3yu6fAY2d6upCEZXfzS-5A6Cg=s64",
      "userId": "02552889854388316189"
     },
     "user_tz": 240
    },
    "id": "FPfpRsk6IKqU",
    "outputId": "1c43779f-5f36-4ea6-8889-5fa16b203bb6"
   },
   "outputs": [],
   "source": [
    "if is_use_GPU:\n",
    "    gpu_info = !nvidia-smi\n",
    "    gpu_info = '\\n'.join(gpu_info)\n",
    "    if gpu_info.find('failed') >= 0:\n",
    "        print('No GPU found!')\n",
    "    else:\n",
    "        print(gpu_info)\n",
    "\n",
    "if is_google_colab:\n",
    "    from google.colab import drive\n",
    "    drive.mount('/content/drive')\n",
    "\n",
    "    %pip install quadpy\n",
    "    \n",
    "os.chdir(os.path.join(basedir, 'neuralClosureModels'))"
   ]
  },
  {
   "cell_type": "markdown",
   "metadata": {
    "colab_type": "text",
    "id": "i6XbE7zIIXsD"
   },
   "source": [
    "### Load modules"
   ]
  },
  {
   "cell_type": "code",
   "execution_count": 3,
   "metadata": {
    "colab": {},
    "colab_type": "code",
    "executionInfo": {
     "elapsed": 2568,
     "status": "ok",
     "timestamp": 1598312070394,
     "user": {
      "displayName": "Abhinav Gupta",
      "photoUrl": "https://lh3.googleusercontent.com/a-/AOh14GgMtMT5ccMf8GLgQ3yu6fAY2d6upCEZXfzS-5A6Cg=s64",
      "userId": "02552889854388316189"
     },
     "user_tz": 240
    },
    "id": "_m_4It5jIPt8"
   },
   "outputs": [],
   "source": [
    "from src.utilities.DDE_Solver import ddeinttf \n",
    "from src.utilities.helper_classes import * \n",
    "import src.solvers.neuralDDE_with_adjoint_accel as ndde\n",
    "import src.advec_diff_case.advec_diff_eqn_modcall as adeq\n",
    "\n",
    "import time\n",
    "import sys\n",
    "import os\n",
    "from IPython.core.debugger import set_trace\n",
    "\n",
    "import numpy as np\n",
    "import tensorflow as tf\n",
    "import matplotlib.pyplot as plt\n",
    "from matplotlib import cm\n",
    "from mpl_toolkits.mplot3d import Axes3D\n",
    "\n",
    "tf.keras.backend.set_floatx('float32')"
   ]
  },
  {
   "cell_type": "markdown",
   "metadata": {
    "colab_type": "text",
    "id": "PtyZ5Gz6I17z"
   },
   "source": [
    "## Define some useful classes"
   ]
  },
  {
   "cell_type": "code",
   "execution_count": 4,
   "metadata": {},
   "outputs": [],
   "source": [
    "### Define a custom plotting function\n",
    "class custom_plot:\n",
    "\n",
    "    def __init__(self, x, t):\n",
    "        self.t = t\n",
    "        self.X, self.T = np.meshgrid(x.numpy(), t.numpy())\n",
    "        self.x = x\n",
    "            \n",
    "    def plot(self, u, title='Hello', t_max = None):\n",
    "        fig = plt.figure(figsize=(7, 4.5), facecolor='white')\n",
    "        ax_u_lowres = fig.add_subplot(111)\n",
    "        \n",
    "        ax_u_lowres.cla()\n",
    "        ax_u_lowres.set_title(title, fontsize=14)\n",
    "        ax_u_lowres.set_xlabel('x', fontsize=14)\n",
    "        ax_u_lowres.set_ylabel('t', fontsize=14)\n",
    "        plot = ax_u_lowres.contourf(self.X, self.T, u, cmap=cm.coolwarm,\n",
    "                           antialiased=False, levels=np.linspace(0, 0.5, 40), extend='min')\n",
    "        ax_u_lowres.set_xlim(self.x[0], self.x[-1])\n",
    "        if t_max == None:\n",
    "            ax_u_lowres.set_ylim(self.t[0], self.t[-1])\n",
    "        else:\n",
    "            ax_u_lowres.set_ylim(self.t[0], t_max)\n",
    "        plt.colorbar(plot, ax=ax_u_lowres, shrink=0.5, aspect=10)\n",
    "        \n",
    "        plt.show"
   ]
  },
  {
   "cell_type": "markdown",
   "metadata": {
    "colab_type": "text",
    "id": "1RDd5ElWI5qU"
   },
   "source": [
    "### Initial conditions"
   ]
  },
  {
   "cell_type": "code",
   "execution_count": 5,
   "metadata": {
    "colab": {},
    "colab_type": "code",
    "executionInfo": {
     "elapsed": 2562,
     "status": "ok",
     "timestamp": 1598312070397,
     "user": {
      "displayName": "Abhinav Gupta",
      "photoUrl": "https://lh3.googleusercontent.com/a-/AOh14GgMtMT5ccMf8GLgQ3yu6fAY2d6upCEZXfzS-5A6Cg=s64",
      "userId": "02552889854388316189"
     },
     "user_tz": 240
    },
    "id": "TrJbzm05I8Jm"
   },
   "outputs": [],
   "source": [
    "class initial_cond:\n",
    "\n",
    "    def __init__(self, x, app):\n",
    "        self.x = x\n",
    "        self.app = app\n",
    "\n",
    "    def __call__(self, t):\n",
    "        u0 = self.x / (1. + np.sqrt(1./self.app.t0) * np.exp(self.app.Re * self.x**2 / 4., dtype = np.float64))\n",
    "        return tf.convert_to_tensor([u0], dtype=tf.float32)"
   ]
  },
  {
   "cell_type": "markdown",
   "metadata": {
    "colab_type": "text",
    "id": "ipE09RRLJFyb"
   },
   "source": [
    "## Main part starts here"
   ]
  },
  {
   "cell_type": "markdown",
   "metadata": {
    "colab_type": "text",
    "id": "QRXqZ_l1JIF5"
   },
   "source": [
    "### User-defined parameters and create objects"
   ]
  },
  {
   "cell_type": "code",
   "execution_count": 6,
   "metadata": {
    "colab": {},
    "colab_type": "code",
    "executionInfo": {
     "elapsed": 2543,
     "status": "ok",
     "timestamp": 1598312070399,
     "user": {
      "displayName": "Abhinav Gupta",
      "photoUrl": "https://lh3.googleusercontent.com/a-/AOh14GgMtMT5ccMf8GLgQ3yu6fAY2d6upCEZXfzS-5A6Cg=s64",
      "userId": "02552889854388316189"
     },
     "user_tz": 240
    },
    "id": "CJjsbj2LJKqF"
   },
   "outputs": [],
   "source": [
    "app = adeq.ad_eqn_args(T = 4.0, nt = 400, L = 1., nx = 100, Re = 1000, u_bc_0 = 0., u_bc_L =0., multi_solve_size = 1)\n",
    "\n",
    "x = tf.linspace(0., app.L, app.nx)\n",
    "u0 = initial_cond(x, app) # Initial conditions\n",
    "t = tf.linspace(0., app.T, app.nt) # Time array\n",
    "\n",
    "op = adeq.operators(app)"
   ]
  },
  {
   "cell_type": "markdown",
   "metadata": {
    "colab_type": "text",
    "id": "tM8JvryeJdfF"
   },
   "source": [
    "### Solve and plot"
   ]
  },
  {
   "cell_type": "code",
   "execution_count": 7,
   "metadata": {
    "colab": {},
    "colab_type": "code",
    "executionInfo": {
     "elapsed": 55598,
     "status": "ok",
     "timestamp": 1598312123464,
     "user": {
      "displayName": "Abhinav Gupta",
      "photoUrl": "https://lh3.googleusercontent.com/a-/AOh14GgMtMT5ccMf8GLgQ3yu6fAY2d6upCEZXfzS-5A6Cg=s64",
      "userId": "02552889854388316189"
     },
     "user_tz": 240
    },
    "id": "VnVvbhe9xWGf"
   },
   "outputs": [],
   "source": [
    "u = ddeinttf(adeq.ad_eqn(op, app), u0, t)"
   ]
  },
  {
   "cell_type": "code",
   "execution_count": 8,
   "metadata": {
    "colab": {
     "base_uri": "https://localhost:8080/",
     "height": 248
    },
    "colab_type": "code",
    "executionInfo": {
     "elapsed": 57175,
     "status": "ok",
     "timestamp": 1598312125052,
     "user": {
      "displayName": "Abhinav Gupta",
      "photoUrl": "https://lh3.googleusercontent.com/a-/AOh14GgMtMT5ccMf8GLgQ3yu6fAY2d6upCEZXfzS-5A6Cg=s64",
      "userId": "02552889854388316189"
     },
     "user_tz": 240
    },
    "id": "wIe3IVpAJPJI",
    "outputId": "1f23592b-0330-4ad5-b1f9-370ed78dac3d"
   },
   "outputs": [
    {
     "data": {
      "image/png": "[encoded data removed]",
      "text/plain": [
       "<Figure size 504x324 with 2 Axes>"
      ]
     },
     "metadata": {},
     "output_type": "display_data"
    }
   ],
   "source": [
    "cp = custom_plot(x, t)\n",
    "\n",
    "cp.plot(tf.squeeze(u, axis=1).numpy(), '')"
   ]
  },
  {
   "cell_type": "code",
   "execution_count": 9,
   "metadata": {},
   "outputs": [],
   "source": [
    "from matplotlib.animation import FuncAnimation, PillowWriter\n",
    "from numpy import random "
   ]
  },
  {
   "cell_type": "code",
   "execution_count": 10,
   "metadata": {},
   "outputs": [
    {
     "data": {
      "image/png": "[encoded data removed]",
      "text/plain": [
       "<Figure size 432x288 with 1 Axes>"
      ]
     },
     "metadata": {
      "needs_background": "light"
     },
     "output_type": "display_data"
    }
   ],
   "source": [
    "fig, ax = plt.subplots()\n",
    "line, = plt.plot([], [], 'o-', lw=2)\n",
    "labels = ['High-Res']\n",
    "\n",
    "plotlays, plotcols = [3], [\"blue\"]\n",
    "lines = []\n",
    "for index in range(1):\n",
    "    lobj = ax.plot([],[], 'o-', lw=2,color=plotcols[index])[0]\n",
    "    lines.append(lobj)\n",
    "\n",
    "def init():\n",
    "    ax.set_xlim(0, 1.)\n",
    "    ax.set_ylim(0, 0.5)\n",
    "    ax.set_xlabel('x')\n",
    "    ax.set_ylabel('u')\n",
    "    \n",
    "    for line in lines:\n",
    "        line.set_data([],[])\n",
    "    return lines\n",
    "\n",
    "def update(frame):\n",
    "    xdata = [x.numpy()]\n",
    "    ydata = [tf.squeeze(u, axis=1).numpy()[frame, :]]\n",
    "    \n",
    "    for lnum,line in enumerate(lines):\n",
    "        line.set_data(xdata[lnum], ydata[lnum]) # set data for each line separately.\n",
    "#         line.set_label(labels[lnum])\n",
    "#         ax.legend(loc=\"upper right\")\n",
    "\n",
    "        fig.gca().autoscale_view()\n",
    "        fig.gca().relim()\n",
    "    return lines \n",
    "\n",
    "ani = FuncAnimation(fig, update, frames=np.arange(len(t.numpy())),\n",
    "                    init_func=init, blit=True, interval=60)\n",
    "\n",
    "ani.save('filename_fom.gif', writer=PillowWriter(fps=24))"
   ]
  },
  {
   "cell_type": "code",
   "execution_count": null,
   "metadata": {},
   "outputs": [],
   "source": []
  }
 ],
 "metadata": {
  "colab": {
   "authorship_tag": "ABX9TyMqDkM2ghw5rT80hMSFyDaI",
   "collapsed_sections": [],
   "name": "Advec_Diff_Eqn_Example.ipynb",
   "provenance": []
  },
  "kernelspec": {
   "display_name": "Python 3",
   "language": "python",
   "name": "python3"
  },
  "language_info": {
   "codemirror_mode": {
    "name": "ipython",
    "version": 3
   },
   "file_extension": ".py",
   "mimetype": "text/x-python",
   "name": "python",
   "nbconvert_exporter": "python",
   "pygments_lexer": "ipython3",
   "version": "3.8.10"
  }
 },
 "nbformat": 4,
 "nbformat_minor": 1
}
