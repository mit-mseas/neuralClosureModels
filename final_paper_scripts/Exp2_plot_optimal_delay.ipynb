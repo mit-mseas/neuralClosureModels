{
 "cells": [
  {
   "cell_type": "code",
   "execution_count": 1,
   "metadata": {
    "colab": {},
    "colab_type": "code",
    "executionInfo": {
     "elapsed": 787,
     "status": "ok",
     "timestamp": 1599663105288,
     "user": {
      "displayName": "Abhinav Gupta",
      "photoUrl": "https://lh3.googleusercontent.com/a-/AOh14GgMtMT5ccMf8GLgQ3yu6fAY2d6upCEZXfzS-5A6Cg=s64",
      "userId": "02552889854388316189"
     },
     "user_tz": 240
    },
    "id": "h3hhd3d3jH0f"
   },
   "outputs": [],
   "source": [
    "basedir = '/home/abhinavgupta0110/NeuralODEs_ROM_Closure'\n",
    "\n",
    "import os\n",
    "\n",
    "is_google_colab = False"
   ]
  },
  {
   "cell_type": "markdown",
   "metadata": {
    "colab_type": "text",
    "id": "89oENAJjWO8q"
   },
   "source": [
    "### Mount the Google drive if needed"
   ]
  },
  {
   "cell_type": "code",
   "execution_count": 2,
   "metadata": {
    "colab": {
     "base_uri": "https://localhost:8080/",
     "height": 428
    },
    "colab_type": "code",
    "executionInfo": {
     "elapsed": 33734,
     "status": "ok",
     "timestamp": 1599663142448,
     "user": {
      "displayName": "Abhinav Gupta",
      "photoUrl": "https://lh3.googleusercontent.com/a-/AOh14GgMtMT5ccMf8GLgQ3yu6fAY2d6upCEZXfzS-5A6Cg=s64",
      "userId": "02552889854388316189"
     },
     "user_tz": 240
    },
    "id": "I1wjStEOWR0W",
    "outputId": "ea832cbf-c213-4382-cd44-9b358c108558"
   },
   "outputs": [],
   "source": [
    "if is_google_colab:\n",
    "    from google.colab import drive\n",
    "    drive.mount('/content/drive')\n",
    "    \n",
    "    %pip install quadpy\n",
    "\n",
    "os.chdir(os.path.join(basedir, 'neuralClosureModels'))"
   ]
  },
  {
   "cell_type": "code",
   "execution_count": 3,
   "metadata": {
    "colab": {},
    "colab_type": "code",
    "executionInfo": {
     "elapsed": 10707,
     "status": "ok",
     "timestamp": 1599663156809,
     "user": {
      "displayName": "Abhinav Gupta",
      "photoUrl": "https://lh3.googleusercontent.com/a-/AOh14GgMtMT5ccMf8GLgQ3yu6fAY2d6upCEZXfzS-5A6Cg=s64",
      "userId": "02552889854388316189"
     },
     "user_tz": 240
    },
    "id": "-x-ym6QTclLL"
   },
   "outputs": [],
   "source": [
    "from src.solvers.neuralDDE_with_adjoint_accel import history\n",
    "\n",
    "import sys\n",
    "import numpy as np\n",
    "import tensorflow as tf\n",
    "import matplotlib.pyplot as plt\n",
    "from IPython.core.debugger import set_trace"
   ]
  },
  {
   "cell_type": "code",
   "execution_count": 4,
   "metadata": {
    "colab": {},
    "colab_type": "code",
    "executionInfo": {
     "elapsed": 10143,
     "status": "ok",
     "timestamp": 1599663156813,
     "user": {
      "displayName": "Abhinav Gupta",
      "photoUrl": "https://lh3.googleusercontent.com/a-/AOh14GgMtMT5ccMf8GLgQ3yu6fAY2d6upCEZXfzS-5A6Cg=s64",
      "userId": "02552889854388316189"
     },
     "user_tz": 240
    },
    "id": "bf6cwMOji5HN"
   },
   "outputs": [],
   "source": [
    "os.chdir(basedir)"
   ]
  },
  {
   "cell_type": "code",
   "execution_count": 5,
   "metadata": {
    "colab": {},
    "colab_type": "code",
    "executionInfo": {
     "elapsed": 6552,
     "status": "ok",
     "timestamp": 1599663156816,
     "user": {
      "displayName": "Abhinav Gupta",
      "photoUrl": "https://lh3.googleusercontent.com/a-/AOh14GgMtMT5ccMf8GLgQ3yu6fAY2d6upCEZXfzS-5A6Cg=s64",
      "userId": "02552889854388316189"
     },
     "user_tz": 240
    },
    "id": "g0Up-uIib_jG"
   },
   "outputs": [],
   "source": [
    "class args:\n",
    "    def __init__(self, model_dir):\n",
    "        self.model_dir = model_dir"
   ]
  },
  {
   "cell_type": "code",
   "execution_count": 6,
   "metadata": {
    "colab": {},
    "colab_type": "code",
    "executionInfo": {
     "elapsed": 5394,
     "status": "ok",
     "timestamp": 1599663156817,
     "user": {
      "displayName": "Abhinav Gupta",
      "photoUrl": "https://lh3.googleusercontent.com/a-/AOh14GgMtMT5ccMf8GLgQ3yu6fAY2d6upCEZXfzS-5A6Cg=s64",
      "userId": "02552889854388316189"
     },
     "user_tz": 240
    },
    "id": "2mdZ6WAScBJw"
   },
   "outputs": [],
   "source": [
    "# class read_data:\n",
    "\n",
    "#     def __init__(self, last = 20):\n",
    "#         self.last = last\n",
    "\n",
    "#     def read(self, model_dir):\n",
    "\n",
    "#         data = []\n",
    "        \n",
    "#         for i in range(len(model_dir)):\n",
    "#             data.append([])\n",
    "#             for j in range(len(model_dir[i])):\n",
    "                \n",
    "#                 loss_history = history(args(model_dir[i][j]))\n",
    "#                 loss_history.read()\n",
    "                \n",
    "#                 data_to_add = np.mean(loss_history.val_loss[-1:-self.last:-1])\n",
    "                \n",
    "#                 if data_to_add >= 0.3: \n",
    "#                     pass\n",
    "#                 else:\n",
    "#                     data[i].append(data_to_add)\n",
    "                \n",
    "#         return data\n",
    "                            "
   ]
  },
  {
   "cell_type": "code",
   "execution_count": 7,
   "metadata": {},
   "outputs": [],
   "source": [
    "class read_data:\n",
    "\n",
    "    def __init__(self, last = 20):\n",
    "        self.last = last\n",
    "\n",
    "    def read(self, model_dir):\n",
    "\n",
    "        data = []\n",
    "        \n",
    "        for i in range(len(model_dir)):\n",
    "            data.append([])\n",
    "            for j in range(len(model_dir[i])):\n",
    "                \n",
    "                loss_history = history(args(model_dir[i][j]))\n",
    "                loss_history.read()\n",
    "                \n",
    "                for k in range(self.last):\n",
    "                    data_to_add = loss_history.val_loss[-1 - k]\n",
    "\n",
    "                    if data_to_add >= 0.3: \n",
    "                        pass\n",
    "                    else:\n",
    "                        data[i].append(data_to_add)\n",
    "                \n",
    "        return data"
   ]
  },
  {
   "cell_type": "code",
   "execution_count": 8,
   "metadata": {
    "colab": {},
    "colab_type": "code",
    "executionInfo": {
     "elapsed": 2881,
     "status": "ok",
     "timestamp": 1599663156818,
     "user": {
      "displayName": "Abhinav Gupta",
      "photoUrl": "https://lh3.googleusercontent.com/a-/AOh14GgMtMT5ccMf8GLgQ3yu6fAY2d6upCEZXfzS-5A6Cg=s64",
      "userId": "02552889854388316189"
     },
     "user_tz": 240
    },
    "id": "5dHfRS2cbTu_"
   },
   "outputs": [],
   "source": [
    "model_dirs = []\n",
    "\n",
    "model_dirs.append(['Res_nODE_testcase_v2/model_dir_case1', 'Res_nODE_testcase_v2/model_dir_case1b', \n",
    "                 'Res_nODE_testcase_v2/model_dir_case1c', 'Res_nODE_testcase_v2/model_dir_case1d', \n",
    "                   'Res_nODE_testcase_v2/model_dir_case1e', 'Res_nODE_testcase_v2/model_dir_case1f',\n",
    "                  'Res_nODE_testcase_v2/model_dir_case1g', 'Res_nODE_testcase_v2/model_dir_case1h'])\n",
    "\n",
    "model_dirs.append(['Res_nDistDDE_testcase_v3/model_dir_case3', 'Res_nDistDDE_testcase_v3/model_dir_case3b', \n",
    "                 'Res_nDistDDE_testcase_v3/model_dir_case3c', 'Res_nDistDDE_testcase_v3/model_dir_case3d', \n",
    "                 'Res_nDistDDE_testcase_v3/model_dir_case3e', 'Res_nDistDDE_testcase_v3/model_dir_case3f', \n",
    "                  'Res_nDistDDE_testcase_v3/model_dir_case3g', 'Res_nDistDDE_testcase_v3/model_dir_case3h',\n",
    "                  'Res_nDistDDE_testcase_v3/model_dir_case3i', 'Res_nDistDDE_testcase_v3/model_dir_case3j',\n",
    "                  'Res_nDistDDE_testcase_v3/model_dir_case3k', 'Res_nDistDDE_testcase_v3/model_dir_case3l',\n",
    "                  'Res_nDistDDE_testcase_v3/model_dir_case3m'])\n",
    "\n",
    "model_dirs.append(['Res_nDistDDE_testcase_v3/model_dir_case4', 'Res_nDistDDE_testcase_v3/model_dir_case4b', \n",
    "                 'Res_nDistDDE_testcase_v3/model_dir_case4c', 'Res_nDistDDE_testcase_v3/model_dir_case4d', \n",
    "                 'Res_nDistDDE_testcase_v3/model_dir_case4e', 'Res_nDistDDE_testcase_v3/model_dir_case4f',\n",
    "                  'Res_nDistDDE_testcase_v3/model_dir_case4g', 'Res_nDistDDE_testcase_v3/model_dir_case4h',\n",
    "                  'Res_nDistDDE_testcase_v3/model_dir_case4i', 'Res_nDistDDE_testcase_v3/model_dir_case4j',\n",
    "                  'Res_nDistDDE_testcase_v3/model_dir_case4k', 'Res_nDistDDE_testcase_v3/model_dir_case4l',\n",
    "                  'Res_nDistDDE_testcase_v3/model_dir_case4m'])\n",
    "\n",
    "model_dirs.append(['Res_nDistDDE_testcase_v3/model_dir_case5',  \n",
    "                 'Res_nDistDDE_testcase_v3/model_dir_case5c', 'Res_nDistDDE_testcase_v3/model_dir_case5d', \n",
    "                 'Res_nDistDDE_testcase_v3/model_dir_case5e', 'Res_nDistDDE_testcase_v3/model_dir_case5f', \n",
    "                   'Res_nDistDDE_testcase_v3/model_dir_case5g',\n",
    "                  'Res_nDistDDE_testcase_v3/model_dir_case5i', 'Res_nDistDDE_testcase_v3/model_dir_case5j',\n",
    "                  'Res_nDistDDE_testcase_v3/model_dir_case5k', \n",
    "                  'Res_nDistDDE_testcase_v3/model_dir_case5m', 'Res_nDistDDE_testcase_v3/model_dir_case5q',\n",
    "                   'Res_nDistDDE_testcase_v3/model_dir_case5r', 'Res_nDistDDE_testcase_v3/model_dir_case5s'])\n",
    "\n",
    "model_dirs.append(['Res_nDistDDE_testcase_v3/model_dir_case1', 'Res_nDistDDE_testcase_v3/model_dir_case1b', \n",
    "                 'Res_nDistDDE_testcase_v3/model_dir_case1c', 'Res_nDistDDE_testcase_v3/model_dir_case1d', \n",
    "                 'Res_nDistDDE_testcase_v3/model_dir_case1e', 'Res_nDistDDE_testcase_v3/model_dir_case1f', \n",
    "                   'Res_nDistDDE_testcase_v3/model_dir_case1g', 'Res_nDistDDE_testcase_v3/model_dir_case1h',\n",
    "                  'Res_nDistDDE_testcase_v3/model_dir_case1i', 'Res_nDistDDE_testcase_v3/model_dir_case1j',\n",
    "                  'Res_nDistDDE_testcase_v3/model_dir_case1k', \n",
    "                  'Res_nDistDDE_testcase_v3/model_dir_case1m', 'Res_nDistDDE_testcase_v3/model_dir_case1n',\n",
    "                   'Res_nDistDDE_testcase_v3/model_dir_case1q', 'Res_nDistDDE_testcase_v3/model_dir_case1r'])\n",
    "\n",
    "model_dirs.append(['Res_nDistDDE_testcase_v3/model_dir_case2', 'Res_nDistDDE_testcase_v3/model_dir_case2b', \n",
    "                 'Res_nDistDDE_testcase_v3/model_dir_case2c', 'Res_nDistDDE_testcase_v3/model_dir_case2d', \n",
    "                 'Res_nDistDDE_testcase_v3/model_dir_case2e', 'Res_nDistDDE_testcase_v3/model_dir_case2f', \n",
    "                   'Res_nDistDDE_testcase_v3/model_dir_case2g', 'Res_nDistDDE_testcase_v3/model_dir_case2h',\n",
    "                  'Res_nDistDDE_testcase_v3/model_dir_case2i', 'Res_nDistDDE_testcase_v3/model_dir_case2j',\n",
    "                  'Res_nDistDDE_testcase_v3/model_dir_case2k', 'Res_nDistDDE_testcase_v3/model_dir_case2l',\n",
    "                   'Res_nDistDDE_testcase_v3/model_dir_case2m'])\n",
    "\n",
    "times = [0.0, 0.025, 0.075, 0.125, 0.2, 0.3]"
   ]
  },
  {
   "cell_type": "code",
   "execution_count": 9,
   "metadata": {
    "colab": {
     "base_uri": "https://localhost:8080/",
     "height": 295
    },
    "colab_type": "code",
    "executionInfo": {
     "elapsed": 7616,
     "status": "ok",
     "timestamp": 1599663162691,
     "user": {
      "displayName": "Abhinav Gupta",
      "photoUrl": "https://lh3.googleusercontent.com/a-/AOh14GgMtMT5ccMf8GLgQ3yu6fAY2d6upCEZXfzS-5A6Cg=s64",
      "userId": "02552889854388316189"
     },
     "user_tz": 240
    },
    "id": "Hzmsuqrrf-vN",
    "outputId": "46d977c1-ada8-4b15-86fa-cab7b3efed71"
   },
   "outputs": [],
   "source": [
    "data = read_data(last=50).read(model_dirs)"
   ]
  },
  {
   "cell_type": "code",
   "execution_count": 11,
   "metadata": {},
   "outputs": [
    {
     "name": "stderr",
     "output_type": "stream",
     "text": [
      "/home/abhinavgupta0110/anaconda3/lib/python3.6/site-packages/numpy/core/_asarray.py:83: VisibleDeprecationWarning: Creating an ndarray from ragged nested sequences (which is a list-or-tuple of lists-or-tuples-or ndarrays with different lengths or shapes) is deprecated. If you meant to do this, you must specify 'dtype=object' when creating the ndarray\n",
      "  return array(a, dtype, copy=False, order=order)\n"
     ]
    },
    {
     "data": {
      "image/png": "[encoded data removed]",
      "text/plain": [
       "<Figure size 432x288 with 1 Axes>"
      ]
     },
     "metadata": {},
     "output_type": "display_data"
    }
   ],
   "source": [
    "fig = plt.figure(figsize=(6, 4), facecolor='white')\n",
    "ax = fig.add_subplot(111)\n",
    "\n",
    "ax.cla()\n",
    "ax.set_title('Validation Loss', fontsize=14)\n",
    "ax.set_xlabel('$\\\\tau_2$', fontsize=14)\n",
    "ax.set_ylabel('Time-Averaged $L_2$ Error', fontsize=14)\n",
    "\n",
    "ax.boxplot(data, positions = times, widths=0.03)\n",
    "\n",
    "ax.set_xlim(-0.025, 0.325)\n",
    "# ax.set_ylim(0.0, 0.3)\n",
    "\n",
    "plt.show() "
   ]
  },
  {
   "cell_type": "code",
   "execution_count": null,
   "metadata": {},
   "outputs": [],
   "source": []
  },
  {
   "cell_type": "code",
   "execution_count": null,
   "metadata": {},
   "outputs": [],
   "source": []
  }
 ],
 "metadata": {
  "colab": {
   "authorship_tag": "ABX9TyMJj21duMEIqivFRkoiTRgY",
   "name": "plot_loss_metrics.ipynb",
   "provenance": []
  },
  "kernelspec": {
   "display_name": "Python 3",
   "language": "python",
   "name": "python3"
  },
  "language_info": {
   "codemirror_mode": {
    "name": "ipython",
    "version": 3
   },
   "file_extension": ".py",
   "mimetype": "text/x-python",
   "name": "python",
   "nbconvert_exporter": "python",
   "pygments_lexer": "ipython3",
   "version": "3.8.10"
  }
 },
 "nbformat": 4,
 "nbformat_minor": 1
}
