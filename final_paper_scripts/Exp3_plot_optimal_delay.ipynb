{
 "cells": [
  {
   "cell_type": "code",
   "execution_count": 1,
   "metadata": {
    "colab": {},
    "colab_type": "code",
    "executionInfo": {
     "elapsed": 787,
     "status": "ok",
     "timestamp": 1599663105288,
     "user": {
      "displayName": "Abhinav Gupta",
      "photoUrl": "https://lh3.googleusercontent.com/a-/AOh14GgMtMT5ccMf8GLgQ3yu6fAY2d6upCEZXfzS-5A6Cg=s64",
      "userId": "02552889854388316189"
     },
     "user_tz": 240
    },
    "id": "h3hhd3d3jH0f"
   },
   "outputs": [],
   "source": [
    "basedir = '/home/abhinavgupta0110/NeuralODEs_ROM_Closure'\n",
    "\n",
    "import os\n",
    "\n",
    "is_google_colab = False"
   ]
  },
  {
   "cell_type": "markdown",
   "metadata": {
    "colab_type": "text",
    "id": "89oENAJjWO8q"
   },
   "source": [
    "### Mount the Google drive if needed"
   ]
  },
  {
   "cell_type": "code",
   "execution_count": 2,
   "metadata": {
    "colab": {
     "base_uri": "https://localhost:8080/",
     "height": 428
    },
    "colab_type": "code",
    "executionInfo": {
     "elapsed": 33734,
     "status": "ok",
     "timestamp": 1599663142448,
     "user": {
      "displayName": "Abhinav Gupta",
      "photoUrl": "https://lh3.googleusercontent.com/a-/AOh14GgMtMT5ccMf8GLgQ3yu6fAY2d6upCEZXfzS-5A6Cg=s64",
      "userId": "02552889854388316189"
     },
     "user_tz": 240
    },
    "id": "I1wjStEOWR0W",
    "outputId": "ea832cbf-c213-4382-cd44-9b358c108558"
   },
   "outputs": [],
   "source": [
    "if is_google_colab:\n",
    "    from google.colab import drive\n",
    "    drive.mount('/content/drive')\n",
    "    \n",
    "    %pip install quadpy\n",
    "\n",
    "os.chdir(os.path.join(basedir, 'neuralClosureModels'))"
   ]
  },
  {
   "cell_type": "code",
   "execution_count": 3,
   "metadata": {
    "colab": {},
    "colab_type": "code",
    "executionInfo": {
     "elapsed": 10707,
     "status": "ok",
     "timestamp": 1599663156809,
     "user": {
      "displayName": "Abhinav Gupta",
      "photoUrl": "https://lh3.googleusercontent.com/a-/AOh14GgMtMT5ccMf8GLgQ3yu6fAY2d6upCEZXfzS-5A6Cg=s64",
      "userId": "02552889854388316189"
     },
     "user_tz": 240
    },
    "id": "-x-ym6QTclLL"
   },
   "outputs": [],
   "source": [
    "from src.solvers.neuralDDE_with_adjoint_accel import history\n",
    "\n",
    "import sys\n",
    "import numpy as np\n",
    "import tensorflow as tf\n",
    "import matplotlib.pyplot as plt\n",
    "from IPython.core.debugger import set_trace"
   ]
  },
  {
   "cell_type": "code",
   "execution_count": 4,
   "metadata": {
    "colab": {},
    "colab_type": "code",
    "executionInfo": {
     "elapsed": 10143,
     "status": "ok",
     "timestamp": 1599663156813,
     "user": {
      "displayName": "Abhinav Gupta",
      "photoUrl": "https://lh3.googleusercontent.com/a-/AOh14GgMtMT5ccMf8GLgQ3yu6fAY2d6upCEZXfzS-5A6Cg=s64",
      "userId": "02552889854388316189"
     },
     "user_tz": 240
    },
    "id": "bf6cwMOji5HN"
   },
   "outputs": [],
   "source": [
    "os.chdir(basedir)"
   ]
  },
  {
   "cell_type": "code",
   "execution_count": 5,
   "metadata": {
    "colab": {},
    "colab_type": "code",
    "executionInfo": {
     "elapsed": 6552,
     "status": "ok",
     "timestamp": 1599663156816,
     "user": {
      "displayName": "Abhinav Gupta",
      "photoUrl": "https://lh3.googleusercontent.com/a-/AOh14GgMtMT5ccMf8GLgQ3yu6fAY2d6upCEZXfzS-5A6Cg=s64",
      "userId": "02552889854388316189"
     },
     "user_tz": 240
    },
    "id": "g0Up-uIib_jG"
   },
   "outputs": [],
   "source": [
    "class args:\n",
    "    def __init__(self, model_dir):\n",
    "        self.model_dir = model_dir"
   ]
  },
  {
   "cell_type": "code",
   "execution_count": 6,
   "metadata": {
    "colab": {},
    "colab_type": "code",
    "executionInfo": {
     "elapsed": 5394,
     "status": "ok",
     "timestamp": 1599663156817,
     "user": {
      "displayName": "Abhinav Gupta",
      "photoUrl": "https://lh3.googleusercontent.com/a-/AOh14GgMtMT5ccMf8GLgQ3yu6fAY2d6upCEZXfzS-5A6Cg=s64",
      "userId": "02552889854388316189"
     },
     "user_tz": 240
    },
    "id": "2mdZ6WAScBJw"
   },
   "outputs": [],
   "source": [
    "class read_data:\n",
    "\n",
    "    def __init__(self, last = 20):\n",
    "        self.last = last\n",
    "\n",
    "    def read(self, model_dir):\n",
    "\n",
    "        data = []\n",
    "        \n",
    "        for i in range(len(model_dir)):\n",
    "            data.append([])\n",
    "            for j in range(len(model_dir[i])):\n",
    "                \n",
    "                loss_history = history(args(model_dir[i][j]))\n",
    "                loss_history.read()\n",
    "#                 print(model_dir[i][j], len(loss_history.val_loss))\n",
    "                for k in range(self.last):\n",
    "                    data_to_add = loss_history.val_loss[-1 - k]\n",
    "\n",
    "                    if data_to_add >= 2.: \n",
    "                        pass\n",
    "                    else:\n",
    "                        data[i].append(data_to_add)\n",
    "                \n",
    "        return data\n",
    "                            "
   ]
  },
  {
   "cell_type": "code",
   "execution_count": 7,
   "metadata": {
    "colab": {},
    "colab_type": "code",
    "executionInfo": {
     "elapsed": 2881,
     "status": "ok",
     "timestamp": 1599663156818,
     "user": {
      "displayName": "Abhinav Gupta",
      "photoUrl": "https://lh3.googleusercontent.com/a-/AOh14GgMtMT5ccMf8GLgQ3yu6fAY2d6upCEZXfzS-5A6Cg=s64",
      "userId": "02552889854388316189"
     },
     "user_tz": 240
    },
    "id": "5dHfRS2cbTu_"
   },
   "outputs": [],
   "source": [
    "model_dirs = []\n",
    "\n",
    "model_dirs.append(['Bio_nODE_testcase_v3/model_dir_case2', 'Bio_nODE_testcase_v3/model_dir_case2b',\n",
    "                  'Bio_nODE_testcase_v3/model_dir_case2c', 'Bio_nODE_testcase_v3/model_dir_case2d',\n",
    "                  'Bio_nODE_testcase_v3/model_dir_case2e', 'Bio_nODE_testcase_v3/model_dir_case2f',\n",
    "                  'Bio_nODE_testcase_v3/model_dir_case2g', 'Bio_nODE_testcase_v3/model_dir_case2h',\n",
    "                  'Bio_nODE_testcase_v3/model_dir_case2i', 'Bio_nODE_testcase_v3/model_dir_case2j',\n",
    "                  'Bio_nODE_testcase_v3/model_dir_case2k', \n",
    "                   'Bio_nODE_testcase_v3/model_dir_case2l',\n",
    "                   'Bio_nODE_testcase_v3/model_dir_case2n'])\n",
    "\n",
    "model_dirs.append(['Bio_nDistDDE_testcase_v3/model_dir_case14', 'Bio_nDistDDE_testcase_v3/model_dir_case14b',\n",
    "                  'Bio_nDistDDE_testcase_v3/model_dir_case14c', 'Bio_nDistDDE_testcase_v3/model_dir_case14d',\n",
    "                  'Bio_nDistDDE_testcase_v3/model_dir_case14e', 'Bio_nDistDDE_testcase_v3/model_dir_case14f',\n",
    "                  'Bio_nDistDDE_testcase_v3/model_dir_case14g', 'Bio_nDistDDE_testcase_v3/model_dir_case14h',\n",
    "                  'Bio_nDistDDE_testcase_v3/model_dir_case14i', 'Bio_nDistDDE_testcase_v3/model_dir_case14j',\n",
    "                  'Bio_nDistDDE_testcase_v3/model_dir_case14k', \n",
    "                  'Bio_nDistDDE_testcase_v3/model_dir_case14m'])\n",
    "\n",
    "model_dirs.append(['Bio_nDistDDE_testcase_v3/model_dir_case13', 'Bio_nDistDDE_testcase_v3/model_dir_case13b',\n",
    "                  'Bio_nDistDDE_testcase_v3/model_dir_case13c', 'Bio_nDistDDE_testcase_v3/model_dir_case13d',\n",
    "                  'Bio_nDistDDE_testcase_v3/model_dir_case13e', 'Bio_nDistDDE_testcase_v3/model_dir_case13f',\n",
    "                  'Bio_nDistDDE_testcase_v3/model_dir_case13g', 'Bio_nDistDDE_testcase_v3/model_dir_case13h',\n",
    "                  'Bio_nDistDDE_testcase_v3/model_dir_case13j',\n",
    "                  'Bio_nDistDDE_testcase_v3/model_dir_case13k', \n",
    "                  'Bio_nDistDDE_testcase_v3/model_dir_case13m', \n",
    "                  ])\n",
    "\n",
    "model_dirs.append(['Bio_nDistDDE_testcase_v3/model_dir_case15', \n",
    "                  'Bio_nDistDDE_testcase_v3/model_dir_case15c', 'Bio_nDistDDE_testcase_v3/model_dir_case15d', \n",
    "                   'Bio_nDistDDE_testcase_v3/model_dir_case15e', 'Bio_nDistDDE_testcase_v3/model_dir_case15f',\n",
    "                  'Bio_nDistDDE_testcase_v3/model_dir_case15g', \n",
    "                  'Bio_nDistDDE_testcase_v3/model_dir_case15i', 'Bio_nDistDDE_testcase_v3/model_dir_case15j',\n",
    "                  'Bio_nDistDDE_testcase_v3/model_dir_case15k', 'Bio_nDistDDE_testcase_v3/model_dir_case15l',])\n",
    "\n",
    "\n",
    "times = [0.0, 1.0, 2.5, 5.0]"
   ]
  },
  {
   "cell_type": "code",
   "execution_count": 8,
   "metadata": {
    "colab": {
     "base_uri": "https://localhost:8080/",
     "height": 295
    },
    "colab_type": "code",
    "executionInfo": {
     "elapsed": 7616,
     "status": "ok",
     "timestamp": 1599663162691,
     "user": {
      "displayName": "Abhinav Gupta",
      "photoUrl": "https://lh3.googleusercontent.com/a-/AOh14GgMtMT5ccMf8GLgQ3yu6fAY2d6upCEZXfzS-5A6Cg=s64",
      "userId": "02552889854388316189"
     },
     "user_tz": 240
    },
    "id": "Hzmsuqrrf-vN",
    "outputId": "46d977c1-ada8-4b15-86fa-cab7b3efed71"
   },
   "outputs": [],
   "source": [
    "data = read_data(last=50).read(model_dirs)"
   ]
  },
  {
   "cell_type": "code",
   "execution_count": 13,
   "metadata": {},
   "outputs": [
    {
     "name": "stderr",
     "output_type": "stream",
     "text": [
      "/home/abhinavgupta0110/anaconda3/lib/python3.6/site-packages/numpy/core/_asarray.py:83: VisibleDeprecationWarning: Creating an ndarray from ragged nested sequences (which is a list-or-tuple of lists-or-tuples-or ndarrays with different lengths or shapes) is deprecated. If you meant to do this, you must specify 'dtype=object' when creating the ndarray\n",
      "  return array(a, dtype, copy=False, order=order)\n"
     ]
    },
    {
     "data": {
      "image/png": "[encoded data removed]",
      "text/plain": [
       "<Figure size 432x288 with 1 Axes>"
      ]
     },
     "metadata": {},
     "output_type": "display_data"
    }
   ],
   "source": [
    "fig = plt.figure(figsize=(6, 4), facecolor='white')\n",
    "ax = fig.add_subplot(111)\n",
    "\n",
    "ax.cla()\n",
    "ax.set_title('Validation Loss', fontsize=14)\n",
    "ax.set_xlabel('$\\\\tau_2$', fontsize=14)\n",
    "ax.set_ylabel('Time-Averaged $L_2$ Error', fontsize=14)\n",
    "\n",
    "ax.boxplot(data, positions = times)\n",
    "\n",
    "ax.set_xlim(-0.5, 5.5)\n",
    "\n",
    "plt.show() "
   ]
  },
  {
   "cell_type": "code",
   "execution_count": null,
   "metadata": {},
   "outputs": [],
   "source": []
  },
  {
   "cell_type": "code",
   "execution_count": null,
   "metadata": {},
   "outputs": [],
   "source": []
  }
 ],
 "metadata": {
  "colab": {
   "authorship_tag": "ABX9TyMJj21duMEIqivFRkoiTRgY",
   "name": "plot_loss_metrics.ipynb",
   "provenance": []
  },
  "kernelspec": {
   "display_name": "Python 3",
   "language": "python",
   "name": "python3"
  },
  "language_info": {
   "codemirror_mode": {
    "name": "ipython",
    "version": 3
   },
   "file_extension": ".py",
   "mimetype": "text/x-python",
   "name": "python",
   "nbconvert_exporter": "python",
   "pygments_lexer": "ipython3",
   "version": "3.8.9"
  }
 },
 "nbformat": 4,
 "nbformat_minor": 1
}
