{
 "cells": [
  {
   "cell_type": "code",
   "execution_count": 1,
   "metadata": {
    "colab": {
     "base_uri": "https://localhost:8080/",
     "height": 51
    },
    "executionInfo": {
     "elapsed": 537,
     "status": "ok",
     "timestamp": 1601132234850,
     "user": {
      "displayName": "Abhinav Gupta",
      "photoUrl": "https://lh3.googleusercontent.com/a-/AOh14GgMtMT5ccMf8GLgQ3yu6fAY2d6upCEZXfzS-5A6Cg=s64",
      "userId": "02552889854388316189"
     },
     "user_tz": 240
    },
    "id": "dLs_9-sXH-LZ",
    "outputId": "ff408b2f-1919-439e-df6f-83a2672a0b27"
   },
   "outputs": [],
   "source": [
    "basedir = '/home/abhinavgupta0110/NeuralODEs_ROM_Closure'\n",
    "\n",
    "import os\n",
    "\n",
    "is_google_colab = False\n",
    "is_use_GPU = False"
   ]
  },
  {
   "cell_type": "markdown",
   "metadata": {
    "id": "jworEiRYIIyo"
   },
   "source": [
    "### Mount the drive"
   ]
  },
  {
   "cell_type": "code",
   "execution_count": 2,
   "metadata": {
    "colab": {
     "base_uri": "https://localhost:8080/",
     "height": 51
    },
    "executionInfo": {
     "elapsed": 520,
     "status": "ok",
     "timestamp": 1601132234852,
     "user": {
      "displayName": "Abhinav Gupta",
      "photoUrl": "https://lh3.googleusercontent.com/a-/AOh14GgMtMT5ccMf8GLgQ3yu6fAY2d6upCEZXfzS-5A6Cg=s64",
      "userId": "02552889854388316189"
     },
     "user_tz": 240
    },
    "id": "FPfpRsk6IKqU",
    "outputId": "096b1360-67e1-4b64-b698-0e012ea6f565"
   },
   "outputs": [],
   "source": [
    "if is_use_GPU:\n",
    "    gpu_info = !nvidia-smi\n",
    "    gpu_info = '\\n'.join(gpu_info)\n",
    "    if gpu_info.find('failed') >= 0:\n",
    "        print('No GPU found!')\n",
    "    else:\n",
    "        print(gpu_info)\n",
    "\n",
    "if is_google_colab:\n",
    "    from google.colab import drive\n",
    "    drive.mount('/content/drive')\n",
    "\n",
    "    %pip install quadpy\n",
    "\n",
    "os.chdir(os.path.join(basedir, 'neuralClosureModels'))"
   ]
  },
  {
   "cell_type": "markdown",
   "metadata": {
    "id": "i6XbE7zIIXsD"
   },
   "source": [
    "### Load modules"
   ]
  },
  {
   "cell_type": "code",
   "execution_count": 3,
   "metadata": {
    "executionInfo": {
     "elapsed": 316,
     "status": "ok",
     "timestamp": 1601135688913,
     "user": {
      "displayName": "Abhinav Gupta",
      "photoUrl": "https://lh3.googleusercontent.com/a-/AOh14GgMtMT5ccMf8GLgQ3yu6fAY2d6upCEZXfzS-5A6Cg=s64",
      "userId": "02552889854388316189"
     },
     "user_tz": 240
    },
    "id": "_m_4It5jIPt8"
   },
   "outputs": [],
   "source": [
    "from src.utilities.DDE_Solver import ddeinttf \n",
    "import src.advec_diff_case.advec_diff_eqn_modcall as adeq\n",
    "import src.advec_diff_case.advec_diff_eqn_LES as les\n",
    "from src.advec_diff_case.AD_Eqn_Helper_Classes import * \n",
    "\n",
    "import time\n",
    "import sys\n",
    "import os\n",
    "from IPython.core.debugger import set_trace\n",
    "\n",
    "import numpy as np\n",
    "import tensorflow as tf\n",
    "import matplotlib.pyplot as plt\n",
    "from matplotlib import cm\n",
    "from mpl_toolkits.mplot3d import Axes3D\n",
    "import scipy as spy\n",
    "\n",
    "tf.keras.backend.set_floatx('float32')"
   ]
  },
  {
   "cell_type": "markdown",
   "metadata": {
    "id": "PtyZ5Gz6I17z"
   },
   "source": [
    "## Define some useful classes"
   ]
  },
  {
   "cell_type": "code",
   "execution_count": 13,
   "metadata": {
    "executionInfo": {
     "elapsed": 2438,
     "status": "ok",
     "timestamp": 1601132236793,
     "user": {
      "displayName": "Abhinav Gupta",
      "photoUrl": "https://lh3.googleusercontent.com/a-/AOh14GgMtMT5ccMf8GLgQ3yu6fAY2d6upCEZXfzS-5A6Cg=s64",
      "userId": "02552889854388316189"
     },
     "user_tz": 240
    },
    "id": "TrJbzm05I8Jm"
   },
   "outputs": [],
   "source": [
    "### Define a custom plotting function\n",
    "class custom_plot:\n",
    "\n",
    "    def __init__(self, x, t):\n",
    "        self.t = t\n",
    "        self.X, self.T = np.meshgrid(x.numpy(), t.numpy())\n",
    "        self.x = x\n",
    "            \n",
    "    def plot(self, u, title='Hello'):\n",
    "        fig = plt.figure(figsize=(7, 4.5), facecolor='white')\n",
    "        ax_u_lowres = fig.add_subplot(111)\n",
    "        \n",
    "        ax_u_lowres.cla()\n",
    "        ax_u_lowres.set_title(title, fontsize=14)\n",
    "        ax_u_lowres.set_xlabel('x', fontsize=14)\n",
    "        ax_u_lowres.set_ylabel('t', fontsize=14)\n",
    "        plot = ax_u_lowres.contourf(self.X, self.T, u, cmap=cm.coolwarm,\n",
    "                           antialiased=False, levels=np.linspace(0, 0.5, 40), extend='min')\n",
    "        ax_u_lowres.set_xlim(self.x[0], self.x[-1])\n",
    "        ax_u_lowres.set_ylim(self.t[0], self.t[-1])\n",
    "        plt.colorbar(plot, ax=ax_u_lowres, shrink=0.5, aspect=10)\n",
    "        \n",
    "        plt.show\n",
    "        \n",
    "    def pair(self, u1, title1, u2, title2):\n",
    "        fig = plt.figure(figsize=(14, 4.5), facecolor='white')\n",
    "        ax_u1 = fig.add_subplot(121)\n",
    "        ax_u2 = fig.add_subplot(122)\n",
    "        \n",
    "        ax_u1.cla()\n",
    "        ax_u1.set_title(title1, fontsize=14)\n",
    "        ax_u1.set_xlabel('x', fontsize=14)\n",
    "        ax_u1.set_ylabel('t', fontsize=14)\n",
    "        plot = ax_u1.contourf(self.X, self.T, u1, cmap=cm.coolwarm,\n",
    "                           antialiased=False, levels=np.linspace(0, 0.5, 40), extend='min')\n",
    "        ax_u1.set_xlim(self.x[0], self.x[-1])\n",
    "        ax_u1.set_ylim(self.t[0], self.t[-1])\n",
    "        plt.colorbar(plot, ax=ax_u1, shrink=0.5, aspect=10)\n",
    "        \n",
    "        ax_u2.cla()\n",
    "        ax_u2.set_title(title2, fontsize=14)\n",
    "        ax_u2.set_xlabel('x', fontsize=14)\n",
    "        ax_u2.set_ylabel('t', fontsize=14)\n",
    "        plot = ax_u2.contourf(self.X, self.T, u2, cmap=cm.coolwarm,\n",
    "                           antialiased=False, levels=np.linspace(0, 0.5, 40), extend='min')\n",
    "        ax_u2.set_xlim(self.x[0], self.x[-1])\n",
    "        ax_u2.set_ylim(self.t[0], self.t[-1])\n",
    "        plt.colorbar(plot, ax=ax_u2, shrink=0.5, aspect=10)\n",
    "        \n",
    "        plt.show"
   ]
  },
  {
   "cell_type": "markdown",
   "metadata": {
    "id": "ipE09RRLJFyb"
   },
   "source": [
    "## Main part starts here"
   ]
  },
  {
   "cell_type": "markdown",
   "metadata": {
    "id": "w4oPbRWJ5vsn"
   },
   "source": [
    "## Solve for high-resolution"
   ]
  },
  {
   "cell_type": "code",
   "execution_count": 5,
   "metadata": {
    "executionInfo": {
     "elapsed": 33483,
     "status": "ok",
     "timestamp": 1601132267849,
     "user": {
      "displayName": "Abhinav Gupta",
      "photoUrl": "https://lh3.googleusercontent.com/a-/AOh14GgMtMT5ccMf8GLgQ3yu6fAY2d6upCEZXfzS-5A6Cg=s64",
      "userId": "02552889854388316189"
     },
     "user_tz": 240
    },
    "id": "CJjsbj2LJKqF"
   },
   "outputs": [],
   "source": [
    "app = adeq.ad_eqn_args(T = 5.0, nt = 500, L = 1., nx = 100, Re = 1000, u_bc_0 = 0., u_bc_L =0., multi_solve_size = 1)\n",
    "\n",
    "x = tf.linspace(0., app.L, app.nx)\n",
    "u0 = initial_cond(x, app) # Initial conditions\n",
    "t = tf.linspace(0., app.T, app.nt) # Time array\n",
    "\n",
    "op = adeq.operators(app)\n",
    "\n",
    "u = ddeinttf(adeq.ad_eqn(op, app), u0, t, alg_name = 'vode', nsteps = -1)"
   ]
  },
  {
   "cell_type": "markdown",
   "metadata": {},
   "source": [
    "## Solve for the LES model"
   ]
  },
  {
   "cell_type": "code",
   "execution_count": 6,
   "metadata": {},
   "outputs": [],
   "source": [
    "app_les = les.ad_eqn_args(T = 5.0, nt = 500, L = 1., nx = 25, Re = 1000, u_bc_0 = 0., u_bc_L =0., multi_solve_size = 1, Cs = 1.)\n",
    "\n",
    "x_les = tf.linspace(0., app_les.L, app_les.nx)\n",
    "u0_les = initial_cond(x_les, app_les) # Initial conditions\n",
    "t_les = tf.linspace(0., app_les.T, app_les.nt) # Time array\n",
    "\n",
    "op_les = les.operators(app_les)\n",
    "\n",
    "u_les = ddeinttf(les.ad_eqn(op_les), u0_les, t_les, alg_name = 'vode', nsteps = -1)"
   ]
  },
  {
   "cell_type": "markdown",
   "metadata": {},
   "source": [
    "### Plots for Smagorinsky model"
   ]
  },
  {
   "cell_type": "code",
   "execution_count": 15,
   "metadata": {},
   "outputs": [
    {
     "data": {
      "image/png": "[encoded data removed]",
      "text/plain": [
       "<Figure size 504x324 with 2 Axes>"
      ]
     },
     "metadata": {},
     "output_type": "display_data"
    }
   ],
   "source": [
    "cp = custom_plot(x_les, t_les)\n",
    "\n",
    "cp.plot(tf.squeeze(u_les, axis=1).numpy(), 'Low-Res Solution with LES Model')"
   ]
  },
  {
   "cell_type": "markdown",
   "metadata": {},
   "source": [
    "## Difference between high-res solution interp on low-res grid and LES model"
   ]
  },
  {
   "cell_type": "code",
   "execution_count": 14,
   "metadata": {},
   "outputs": [
    {
     "data": {
      "image/png": "[encoded data removed]",
      "text/plain": [
       "<Figure size 1008x324 with 4 Axes>"
      ]
     },
     "metadata": {},
     "output_type": "display_data"
    }
   ],
   "source": [
    "X_les, T_les = np.meshgrid(x_les.numpy(), t_les.numpy())\n",
    "\n",
    "f = spy.interpolate.interp2d(x, t, tf.squeeze(u, axis=1).numpy(), kind='cubic')\n",
    "\n",
    "cp = custom_plot(x_les, t_les)\n",
    "\n",
    "cp.pair(tf.squeeze(u_les, axis=1).numpy(), 'Low-Res Solution with LES Model', tf.abs(f(x_les, t_les) - tf.squeeze(u_les, axis=1)).numpy(), '|Difference|')"
   ]
  },
  {
   "cell_type": "markdown",
   "metadata": {},
   "source": [
    "## Compute Errors for the LES model"
   ]
  },
  {
   "cell_type": "code",
   "execution_count": 9,
   "metadata": {},
   "outputs": [],
   "source": [
    "class compute_error():\n",
    "    \n",
    "    def __init__(self, truth, thres = 0.02):\n",
    "        self.truth = truth\n",
    "        self.thres = thres\n",
    "        \n",
    "    def l2_error(self, pred):\n",
    "        \n",
    "        error = tf.reduce_mean(tf.sqrt(tf.reduce_sum(tf.math.squared_difference(pred, self.truth), axis=-1)), axis=0)\n",
    "        \n",
    "        return error.numpy()\n",
    "    \n",
    "    def RMSE(self, pred):\n",
    "        \n",
    "        thres = tf.reduce_max(self.truth)*0.02\n",
    "        error = []\n",
    "        diff = pred - self.truth\n",
    "        \n",
    "        for i in range(1, pred.shape[0]):\n",
    "            diff_t = np.abs(np.squeeze(diff[i, :, :].numpy()))\n",
    "            error_t = diff_t[np.where(diff_t >= thres)]\n",
    "            if len(error_t) == 0: continue\n",
    "            error_t = np.sqrt(np.sum(error_t**2)/len(error_t))\n",
    "            error.append(error_t)\n",
    "\n",
    "        error = np.mean(np.array(error))\n",
    "        return error"
   ]
  },
  {
   "cell_type": "code",
   "execution_count": 10,
   "metadata": {},
   "outputs": [],
   "source": [
    "truth = f(x_les, t_les)\n",
    "truth = tf.expand_dims(tf.convert_to_tensor(truth, tf.float32), axis=1)\n",
    "\n",
    "err_obj = compute_error(truth)"
   ]
  },
  {
   "cell_type": "code",
   "execution_count": 11,
   "metadata": {},
   "outputs": [
    {
     "data": {
      "text/plain": [
       "array([0.109], dtype=float32)"
      ]
     },
     "execution_count": 11,
     "metadata": {},
     "output_type": "execute_result"
    }
   ],
   "source": [
    "np.round(err_obj.l2_error(u_les), 3)"
   ]
  },
  {
   "cell_type": "code",
   "execution_count": 12,
   "metadata": {},
   "outputs": [
    {
     "data": {
      "text/plain": [
       "0.05"
      ]
     },
     "execution_count": 12,
     "metadata": {},
     "output_type": "execute_result"
    }
   ],
   "source": [
    "np.round(err_obj.RMSE(u_les), 3)"
   ]
  },
  {
   "cell_type": "code",
   "execution_count": null,
   "metadata": {},
   "outputs": [],
   "source": []
  }
 ],
 "metadata": {
  "colab": {
   "authorship_tag": "ABX9TyMz8DvV63jvQTO1662cAB8d",
   "collapsed_sections": [],
   "name": "Advec_Diff_Eqn_Res_Comparison_Example.ipynb",
   "provenance": []
  },
  "kernelspec": {
   "display_name": "Python 3",
   "language": "python",
   "name": "python3"
  },
  "language_info": {
   "codemirror_mode": {
    "name": "ipython",
    "version": 3
   },
   "file_extension": ".py",
   "mimetype": "text/x-python",
   "name": "python",
   "nbconvert_exporter": "python",
   "pygments_lexer": "ipython3",
   "version": "3.8.3"
  }
 },
 "nbformat": 4,
 "nbformat_minor": 1
}
