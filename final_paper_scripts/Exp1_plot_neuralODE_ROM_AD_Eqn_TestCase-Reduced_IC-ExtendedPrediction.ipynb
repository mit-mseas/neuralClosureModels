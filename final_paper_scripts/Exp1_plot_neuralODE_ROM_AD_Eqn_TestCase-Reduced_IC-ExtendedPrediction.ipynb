{
 "cells": [
  {
   "cell_type": "code",
   "execution_count": 1,
   "metadata": {
    "executionInfo": {
     "elapsed": 473,
     "status": "ok",
     "timestamp": 1601157808403,
     "user": {
      "displayName": "Abhinav Gupta",
      "photoUrl": "https://lh3.googleusercontent.com/a-/AOh14GgMtMT5ccMf8GLgQ3yu6fAY2d6upCEZXfzS-5A6Cg=s64",
      "userId": "02552889854388316189"
     },
     "user_tz": 240
    },
    "id": "mgv1axkGNvut"
   },
   "outputs": [],
   "source": [
    "basedir = '/home/abhinavgupta0110/NeuralODEs_ROM_Closure'\n",
    "\n",
    "import os\n",
    "\n",
    "is_google_colab = False\n",
    "is_use_GPU = False"
   ]
  },
  {
   "cell_type": "markdown",
   "metadata": {
    "id": "Jq_2LQ9UHud0"
   },
   "source": [
    "### Mount the Google drive if needed"
   ]
  },
  {
   "cell_type": "code",
   "execution_count": 2,
   "metadata": {
    "colab": {
     "base_uri": "https://localhost:8080/",
     "height": 527
    },
    "executionInfo": {
     "elapsed": 3215,
     "status": "ok",
     "timestamp": 1601157811162,
     "user": {
      "displayName": "Abhinav Gupta",
      "photoUrl": "https://lh3.googleusercontent.com/a-/AOh14GgMtMT5ccMf8GLgQ3yu6fAY2d6upCEZXfzS-5A6Cg=s64",
      "userId": "02552889854388316189"
     },
     "user_tz": 240
    },
    "id": "IMm0YJf40nu4",
    "outputId": "9bbe83de-ba06-439f-c578-dc21947bab04"
   },
   "outputs": [],
   "source": [
    "if is_use_GPU:\n",
    "    gpu_info = !nvidia-smi\n",
    "    gpu_info = '\\n'.join(gpu_info)\n",
    "    if gpu_info.find('failed') >= 0:\n",
    "        print('No GPU found!')\n",
    "    else:\n",
    "        print(gpu_info)\n",
    "\n",
    "if is_google_colab:\n",
    "    from google.colab import drive\n",
    "    drive.mount('/content/drive')\n",
    "\n",
    "    %pip install quadpy\n",
    "    \n",
    "os.chdir(os.path.join(basedir, 'neuralDDE_ROM_Closure'))"
   ]
  },
  {
   "cell_type": "markdown",
   "metadata": {
    "id": "4Ypp2-6vHzUD"
   },
   "source": [
    "### Load modules"
   ]
  },
  {
   "cell_type": "code",
   "execution_count": 3,
   "metadata": {
    "executionInfo": {
     "elapsed": 6324,
     "status": "ok",
     "timestamp": 1601157814287,
     "user": {
      "displayName": "Abhinav Gupta",
      "photoUrl": "https://lh3.googleusercontent.com/a-/AOh14GgMtMT5ccMf8GLgQ3yu6fAY2d6upCEZXfzS-5A6Cg=s64",
      "userId": "02552889854388316189"
     },
     "user_tz": 240
    },
    "id": "-MrPJTQD3Xz4"
   },
   "outputs": [],
   "source": [
    "from src.utilities.DDE_Solver import ddeinttf \n",
    "import src.solvers.neuralDDE_with_adjoint as ndde\n",
    "import src.advec_diff_case.advec_diff_eqn as adeq\n",
    "import src.advec_diff_case.rom_advec_diff as rom\n",
    "\n",
    "import time\n",
    "import sys\n",
    "from IPython.core.debugger import set_trace\n",
    "\n",
    "import numpy as np\n",
    "import tensorflow as tf\n",
    "import matplotlib.pyplot as plt\n",
    "from shutil import move\n",
    "import pickle\n",
    "\n",
    "tf.keras.backend.set_floatx('float32')\n",
    "import logging\n",
    "tf.get_logger().setLevel(logging.ERROR)"
   ]
  },
  {
   "cell_type": "markdown",
   "metadata": {
    "id": "B6M2Jp_VH7k_"
   },
   "source": [
    "## Define some useful classes"
   ]
  },
  {
   "cell_type": "markdown",
   "metadata": {
    "id": "sAACaFzjH8tF"
   },
   "source": [
    "### Class for user-defined arguments"
   ]
  },
  {
   "cell_type": "code",
   "execution_count": 4,
   "metadata": {
    "executionInfo": {
     "elapsed": 6307,
     "status": "ok",
     "timestamp": 1601157814291,
     "user": {
      "displayName": "Abhinav Gupta",
      "photoUrl": "https://lh3.googleusercontent.com/a-/AOh14GgMtMT5ccMf8GLgQ3yu6fAY2d6upCEZXfzS-5A6Cg=s64",
      "userId": "02552889854388316189"
     },
     "user_tz": 240
    },
    "id": "SuiPlZi330MR"
   },
   "outputs": [],
   "source": [
    "class rom_ad_eq_nDDE_args(ndde.arguments, rom.rom_eqn_args):\n",
    "\n",
    "    def __init__(self, batch_time = 12, batch_time_skip = 2, batch_size = 5, epochs = 500, learning_rate = 0.05, decay_rate = 0.95, test_freq = 1, plot_freq = 2, \n",
    "                 d_max = 1.1, rnn_nmax = 3, rnn_dt = 0.5, state_dim = 2, adj_data_size = 2,\n",
    "                 model_dir = 'ROM_nODE_testcase/model_dir_test', restart = 0, val_percentage = 0.2,\n",
    "                 T = 2., nt = 200, L = 1., nx = 100, Re = 250, u_bc_0 = 0., u_bc_L =0., rom_dims = 2, isplot = True, reg_coeff = 0.001): # add more arguments as needed\n",
    "        \n",
    "        ndde.arguments.__init__(self, data_size = nt, batch_time = batch_time, batch_time_skip = batch_time_skip, batch_size = batch_size, epochs = epochs,\n",
    "                           learning_rate = learning_rate, decay_rate = decay_rate, test_freq = test_freq, plot_freq = plot_freq, d_max = d_max, rnn_nmax = rnn_nmax, \n",
    "                           rnn_dt = rnn_dt, state_dim = rom_dims, adj_data_size = rom_dims, model_dir = model_dir, restart = restart, val_percentage = val_percentage, isplot = isplot)\n",
    "\n",
    "        rom.rom_eqn_args.__init__(self, T = T, nt = nt, L = L, nx = nx, Re = Re, u_bc_0 = u_bc_0, u_bc_L = u_bc_L, rom_dims = rom_dims, \n",
    "                              rom_batch_size = batch_size, ad_eq_batch_size = 1)\n",
    "        \n",
    "        self.rom_args_for_plot = rom.rom_eqn_args(T = T, nt = nt, L = L, nx = nx, Re = Re, u_bc_0 = u_bc_0, u_bc_L = u_bc_L, rom_dims = rom_dims, \n",
    "                              rom_batch_size = 1, ad_eq_batch_size = 1)\n",
    "        \n",
    "        self.reg_coeff = reg_coeff"
   ]
  },
  {
   "cell_type": "markdown",
   "metadata": {
    "id": "Bgp85pBOIHjP"
   },
   "source": [
    "### Define the neural net architecture"
   ]
  },
  {
   "cell_type": "code",
   "execution_count": 5,
   "metadata": {
    "executionInfo": {
     "elapsed": 94566,
     "status": "ok",
     "timestamp": 1601157902651,
     "user": {
      "displayName": "Abhinav Gupta",
      "photoUrl": "https://lh3.googleusercontent.com/a-/AOh14GgMtMT5ccMf8GLgQ3yu6fAY2d6upCEZXfzS-5A6Cg=s64",
      "userId": "02552889854388316189"
     },
     "user_tz": 240
    },
    "id": "XAC5aK2hoPtM"
   },
   "outputs": [],
   "source": [
    "class create_mean_modes:\n",
    "    def __init__(self, fom_sol, app, t):\n",
    "        self.fom_sol = fom_sol\n",
    "        self.app = app\n",
    "        self.t = t\n",
    "\n",
    "    def __call__(self):\n",
    "\n",
    "        u_analy = tf.transpose(self.fom_sol)\n",
    "\n",
    "        u_mean = tf.expand_dims(tf.reduce_mean(u_analy, axis=-1), axis=1)\n",
    "\n",
    "        S, U, V = tf.linalg.svd(u_analy - tf.tile(u_mean, [1, len(self.t)]))\n",
    "\n",
    "        ui = U[:, 0:self.app.rom_dims]\n",
    "\n",
    "        return u_mean, ui"
   ]
  },
  {
   "cell_type": "markdown",
   "metadata": {
    "id": "jOxl52meIKf7"
   },
   "source": [
    "### Define a custom loss function"
   ]
  },
  {
   "cell_type": "markdown",
   "metadata": {
    "id": "COGAzukPIODg"
   },
   "source": [
    "### Define a custom plotting function"
   ]
  },
  {
   "cell_type": "code",
   "execution_count": 6,
   "metadata": {},
   "outputs": [],
   "source": [
    "class custom_plot:\n",
    "\n",
    "    def __init__(self, true_y, y_no_nn, t, args):\n",
    "        self.true_y = true_y\n",
    "        self.y_no_nn = y_no_nn\n",
    "        self.t = t\n",
    "        self.args = args\n",
    "        self.colors = ['b', 'g', 'r', 'k', 'c', 'm']\n",
    "\n",
    "    def plot(self, *pred_y):\n",
    "        fig = plt.figure(figsize=(6, 4), facecolor='white')\n",
    "        ax = fig.add_subplot(111)\n",
    "\n",
    "        ax.cla()\n",
    "        ax.set_title('Coefficients', fontsize=14)\n",
    "        ax.set_xlabel('t', fontsize=14)\n",
    "        ax.set_ylabel('$a_i$', fontsize=14)\n",
    "        ax.set_xlim(min(self.t.numpy()), max(self.t.numpy()))\n",
    "#         ax.set_ylim(-1, 1.1)\n",
    "\n",
    "        for i in range(self.args.rom_dims):\n",
    "            ax.plot(self.t.numpy(), self.true_y.numpy()[:, 0, i], self.colors[i % self.args.rom_dims]+'-', label = 'True Coeff. '+str(i+1))\n",
    "            ax.plot(self.t.numpy(), self.y_no_nn.numpy()[:, 0, i], self.colors[i % self.args.rom_dims]+'-.', label = 'POD-GP Coeff. '+str(i+1))\n",
    "            ax.plot(self.t.numpy(), pred_y[0].numpy()[:, 0, i], self.colors[i % self.args.rom_dims]+'--', label = 'Learned Coeff. '+str(i+1))\n",
    "\n",
    "        ax.legend(bbox_to_anchor=(1.04,1), loc=\"upper left\")\n",
    "        plt.show() "
   ]
  },
  {
   "cell_type": "markdown",
   "metadata": {
    "id": "MPytNA8cIf-S"
   },
   "source": [
    "### Initial Conditions"
   ]
  },
  {
   "cell_type": "code",
   "execution_count": 7,
   "metadata": {
    "executionInfo": {
     "elapsed": 6255,
     "status": "ok",
     "timestamp": 1601157814294,
     "user": {
      "displayName": "Abhinav Gupta",
      "photoUrl": "https://lh3.googleusercontent.com/a-/AOh14GgMtMT5ccMf8GLgQ3yu6fAY2d6upCEZXfzS-5A6Cg=s64",
      "userId": "02552889854388316189"
     },
     "user_tz": 240
    },
    "id": "XokaBF_C5HZh"
   },
   "outputs": [],
   "source": [
    "class initial_cond:\n",
    "\n",
    "    def __init__(self, x, app):\n",
    "        self.x = x\n",
    "        self.app = app\n",
    "\n",
    "    def __call__(self, t):\n",
    "        u0 = self.x / (1. + np.sqrt(1./self.app.t0) * np.exp(self.app.Re * self.x**2 / 4., dtype = np.float64))\n",
    "        return tf.convert_to_tensor([u0], dtype=tf.float32)"
   ]
  },
  {
   "cell_type": "code",
   "execution_count": 8,
   "metadata": {},
   "outputs": [],
   "source": [
    "class red_initial_cond:\n",
    "    \n",
    "    def __init__(self, ai_t0, u_mean, u_modes):\n",
    "        self.ai_t0 = ai_t0\n",
    "        self.u_mean = u_mean\n",
    "        self.u_modes = u_modes\n",
    "        \n",
    "    def __call__(self, t):\n",
    "\n",
    "        u0_rom = tf.transpose(self.u_mean, perm=[1, 0]) \\\n",
    "            + tf.cast(tf.einsum('ab, db -> da', tf.cast(self.u_modes, tf.float64), tf.cast(self.ai_t0(t), tf.float64)), tf.float32)\n",
    "        \n",
    "        return u0_rom"
   ]
  },
  {
   "cell_type": "markdown",
   "metadata": {
    "id": "55JqC28YIS6c"
   },
   "source": [
    "### Initialize model related parameters"
   ]
  },
  {
   "cell_type": "code",
   "execution_count": 9,
   "metadata": {
    "executionInfo": {
     "elapsed": 6247,
     "status": "ok",
     "timestamp": 1601157814295,
     "user": {
      "displayName": "Abhinav Gupta",
      "photoUrl": "https://lh3.googleusercontent.com/a-/AOh14GgMtMT5ccMf8GLgQ3yu6fAY2d6upCEZXfzS-5A6Cg=s64",
      "userId": "02552889854388316189"
     },
     "user_tz": 240
    },
    "id": "AYlTE72b4PE2"
   },
   "outputs": [],
   "source": [
    "args = rom_ad_eq_nDDE_args(batch_time = 6, batch_time_skip = 2, batch_size = 2, epochs = 500, learning_rate = 0.075, decay_rate = 0.97, test_freq = 1, plot_freq = 2,\n",
    "                    d_max = 0.2, rnn_nmax = 1, rnn_dt = 0.1, model_dir = 'ROM_nODE_testcase/model_dir_case16', restart = 0, val_percentage = 4.,\n",
    "                    T = 1.25, nt = 125, L = 1., nx = 100, Re = 1000, u_bc_0 = 0., u_bc_L =0., rom_dims = 3, reg_coeff = 0.0)"
   ]
  },
  {
   "cell_type": "markdown",
   "metadata": {
    "id": "c3D0icD8IV9O"
   },
   "source": [
    "### Copy the NN architecture from the save directory"
   ]
  },
  {
   "cell_type": "code",
   "execution_count": 10,
   "metadata": {},
   "outputs": [],
   "source": [
    "class DDEFunc(tf.keras.Model):\n",
    "\n",
    "    def __init__(self, rom_model, **kwargs):\n",
    "        super(DDEFunc, self).__init__(**kwargs)\n",
    "        \n",
    "        self.x1 = tf.keras.layers.Dense(5, activation='tanh',\n",
    "                                        kernel_initializer=tf.keras.initializers.TruncatedNormal(stddev=0.1), use_bias=True)\n",
    "        \n",
    "        self.x2 = tf.keras.layers.Dense(5, activation='tanh',\n",
    "                                        kernel_initializer=tf.keras.initializers.TruncatedNormal(stddev=0.1), use_bias=True)\n",
    "        \n",
    "        self.x3 = tf.keras.layers.Dense(5, activation='tanh',\n",
    "                                        kernel_initializer=tf.keras.initializers.TruncatedNormal(stddev=0.1), use_bias=True)\n",
    "        \n",
    "        self.x4 = tf.keras.layers.Dense(5, activation='tanh',\n",
    "                                        kernel_initializer=tf.keras.initializers.TruncatedNormal(stddev=0.1), use_bias=True)\n",
    "        \n",
    "        self.x5 = tf.keras.layers.Dense(5, activation='tanh',\n",
    "                                        kernel_initializer=tf.keras.initializers.TruncatedNormal(stddev=0.1), use_bias=True)\n",
    "        \n",
    "        self.out = tf.keras.layers.Dense(args.state_dim, activation='linear',\n",
    "                                        kernel_initializer=tf.keras.initializers.TruncatedNormal(stddev=0.1), use_bias=True)\n",
    "        \n",
    "        self.rom_model = rom_model\n",
    "\n",
    "\n",
    "    def call(self, y, t, d):\n",
    "        y_nn = y(t)\n",
    "        for i in range(len(self.layers)):\n",
    "            y_nn = self.layers[i](y_nn)\n",
    "        return y_nn + self.rom_model(y, t) + args.reg_coeff * tf.random.normal([y_nn.shape[0], args.state_dim])"
   ]
  },
  {
   "cell_type": "code",
   "execution_count": 11,
   "metadata": {},
   "outputs": [],
   "source": [
    "os.chdir(basedir)\n",
    "\n",
    "checkpoint_dir = os.path.join(args.model_dir, \"ckpt\")\n",
    "checkpoint_prefix = os.path.join(checkpoint_dir, \"cp-{epoch:04d}.ckpt\")"
   ]
  },
  {
   "cell_type": "markdown",
   "metadata": {
    "id": "CeBwqst9IqRq"
   },
   "source": [
    "### Solve for the high resolution model"
   ]
  },
  {
   "cell_type": "code",
   "execution_count": 12,
   "metadata": {
    "colab": {
     "base_uri": "https://localhost:8080/",
     "height": 34
    },
    "executionInfo": {
     "elapsed": 89107,
     "status": "ok",
     "timestamp": 1601157897174,
     "user": {
      "displayName": "Abhinav Gupta",
      "photoUrl": "https://lh3.googleusercontent.com/a-/AOh14GgMtMT5ccMf8GLgQ3yu6fAY2d6upCEZXfzS-5A6Cg=s64",
      "userId": "02552889854388316189"
     },
     "user_tz": 240
    },
    "id": "Qzk4Frf04QHp",
    "outputId": "087581dd-7eab-466b-edfe-f30465f33760"
   },
   "outputs": [
    {
     "name": "stdout",
     "output_type": "stream",
     "text": [
      "FOM done!\n"
     ]
    }
   ],
   "source": [
    "x = tf.linspace(0., args.L, args.nx)\n",
    "t = tf.linspace(0., args.T, args.nt) # Time array\n",
    "\n",
    "u0 = initial_cond(x, args) # Initial conditions\n",
    "\n",
    "op = adeq.operators(args)\n",
    "\n",
    "u_fom = ddeinttf(adeq.ad_eqn(op), u0, t)\n",
    "\n",
    "# Compute FOM for the validation time\n",
    "dt = t[1] - t[0]\n",
    "val_t_len_100perc =  1. * (t[-1] - t[0])\n",
    "n_val_100perc = np.ceil(np.abs(val_t_len_100perc/dt.numpy())).astype(int)\n",
    "val_t_100perc = tf.linspace(t[-1], t[-1] + val_t_len_100perc, n_val_100perc)\n",
    "\n",
    "val_u_fom_100perc = ddeinttf(adeq.ad_eqn(op), ndde.create_interpolator(u_fom, t), val_t_100perc)\n",
    "\n",
    "##########\n",
    "val_t_len =  args.val_percentage * (t[-1] - t[0])\n",
    "n_val = np.ceil(np.abs(val_t_len/dt.numpy())).astype(int)\n",
    "val_t = tf.linspace(t[-1], t[-1] + val_t_len, n_val)\n",
    "\n",
    "val_u_fom = ddeinttf(adeq.ad_eqn(op), ndde.create_interpolator(u_fom, t), val_t)\n",
    "\n",
    "print('FOM done!')"
   ]
  },
  {
   "cell_type": "markdown",
   "metadata": {
    "id": "zOz2tIzWIuQB"
   },
   "source": [
    "### Project FOM on the modes"
   ]
  },
  {
   "cell_type": "code",
   "execution_count": 13,
   "metadata": {
    "colab": {
     "base_uri": "https://localhost:8080/",
     "height": 34
    },
    "executionInfo": {
     "elapsed": 94574,
     "status": "ok",
     "timestamp": 1601157902650,
     "user": {
      "displayName": "Abhinav Gupta",
      "photoUrl": "https://lh3.googleusercontent.com/a-/AOh14GgMtMT5ccMf8GLgQ3yu6fAY2d6upCEZXfzS-5A6Cg=s64",
      "userId": "02552889854388316189"
     },
     "user_tz": 240
    },
    "id": "3wYyGI2FnUwt",
    "outputId": "bc6a4f86-0b05-4e65-dc2f-d8ab9d5042df"
   },
   "outputs": [],
   "source": [
    "# Create modes for the training and validation period combined\n",
    "u_mean, ui = create_mean_modes(tf.squeeze(tf.concat([u_fom, val_u_fom_100perc], axis=0), axis=1), args, tf.concat([t, val_t_100perc], axis=0))()\n",
    "\n",
    "ai_t0 = rom.initial_cond_rom(u0, ui, u_mean)\n",
    "\n",
    "true_ai = u_fom - tf.tile(tf.expand_dims(tf.transpose(u_mean, perm=[1, 0]), axis=0), [args.nt, args.multi_solve_size, 1])\n",
    "true_ai = tf.cast(tf.einsum('ab, cda -> cdb', tf.cast(ui, tf.float64), tf.cast(true_ai, tf.float64)), tf.float32)\n"
   ]
  },
  {
   "cell_type": "code",
   "execution_count": 14,
   "metadata": {
    "executionInfo": {
     "elapsed": 94556,
     "status": "ok",
     "timestamp": 1601157902652,
     "user": {
      "displayName": "Abhinav Gupta",
      "photoUrl": "https://lh3.googleusercontent.com/a-/AOh14GgMtMT5ccMf8GLgQ3yu6fAY2d6upCEZXfzS-5A6Cg=s64",
      "userId": "02552889854388316189"
     },
     "user_tz": 240
    },
    "id": "3Vk1e9Pq5EaD"
   },
   "outputs": [],
   "source": [
    "true_rom_model = rom.rom_ad_eqn(um = u_mean, ui = ui, op = op, app = args.rom_args_for_plot)\n",
    "ai_whole = ddeinttf(true_rom_model, ai_t0, tf.concat([t, val_t], axis=0))"
   ]
  },
  {
   "cell_type": "markdown",
   "metadata": {},
   "source": [
    "#### Create validation set"
   ]
  },
  {
   "cell_type": "code",
   "execution_count": 15,
   "metadata": {},
   "outputs": [],
   "source": [
    "val_obj = ndde.create_validation_set(ai_t0, t, args)\n",
    "\n",
    "ai, val_ai = val_obj.data_split(ai_whole)\n",
    "\n",
    "val_true_ai = val_u_fom - tf.tile(tf.expand_dims(tf.transpose(u_mean, perm=[1, 0]), axis=0), [val_obj.val_t.shape[0], args.multi_solve_size, 1])\n",
    "val_true_ai = tf.cast(tf.einsum('ab, cda -> cdb', tf.cast(ui, tf.float64), tf.cast(val_true_ai, tf.float64)), tf.float32)"
   ]
  },
  {
   "cell_type": "code",
   "execution_count": 16,
   "metadata": {},
   "outputs": [],
   "source": [
    "u0_red = red_initial_cond(ai_t0, u_mean, ui)\n",
    "\n",
    "u_fom_red_ic = ddeinttf(adeq.ad_eqn(op), u0_red, tf.concat([t, val_t], axis=0))"
   ]
  },
  {
   "cell_type": "code",
   "execution_count": 17,
   "metadata": {},
   "outputs": [],
   "source": [
    "true_ai_red = u_fom_red_ic - tf.tile(tf.expand_dims(tf.transpose(u_mean, perm=[1, 0]), axis=0), [args.nt + n_val, args.multi_solve_size, 1])\n",
    "true_ai_red = tf.cast(tf.einsum('ab, cda -> cdb', tf.cast(ui, tf.float64), tf.cast(true_ai_red, tf.float64)), tf.float32)\n",
    "\n",
    "true_ai_red, val_true_ai_red = val_obj.data_split(true_ai_red)"
   ]
  },
  {
   "cell_type": "markdown",
   "metadata": {
    "id": "o9mHAYKBI1vM"
   },
   "source": [
    "## Main part starts here"
   ]
  },
  {
   "cell_type": "markdown",
   "metadata": {
    "id": "pscaRbpsJE25"
   },
   "source": [
    "### Make objects and define learning-rate schedule"
   ]
  },
  {
   "cell_type": "code",
   "execution_count": 18,
   "metadata": {
    "executionInfo": {
     "elapsed": 94545,
     "status": "ok",
     "timestamp": 1601157902653,
     "user": {
      "displayName": "Abhinav Gupta",
      "photoUrl": "https://lh3.googleusercontent.com/a-/AOh14GgMtMT5ccMf8GLgQ3yu6fAY2d6upCEZXfzS-5A6Cg=s64",
      "userId": "02552889854388316189"
     },
     "user_tz": 240
    },
    "id": "cnb1m74W8a3l"
   },
   "outputs": [],
   "source": [
    "func = DDEFunc(rom.rom_ad_eqn(um = u_mean, ui = ui, op = op, app = args))"
   ]
  },
  {
   "cell_type": "markdown",
   "metadata": {
    "id": "Ni3vuuA4JLWc"
   },
   "source": [
    "### Plot training time"
   ]
  },
  {
   "cell_type": "code",
   "execution_count": 19,
   "metadata": {
    "colab": {
     "base_uri": "https://localhost:8080/",
     "height": 248
    },
    "executionInfo": {
     "elapsed": 95492,
     "status": "ok",
     "timestamp": 1601157903608,
     "user": {
      "displayName": "Abhinav Gupta",
      "photoUrl": "https://lh3.googleusercontent.com/a-/AOh14GgMtMT5ccMf8GLgQ3yu6fAY2d6upCEZXfzS-5A6Cg=s64",
      "userId": "02552889854388316189"
     },
     "user_tz": 240
    },
    "id": "KhCfEgh9HnJ5",
    "outputId": "11ad8a81-105f-4ebb-e5a7-4593a2bf5df4"
   },
   "outputs": [
    {
     "data": {
      "text/plain": [
       "<tensorflow.python.training.tracking.util.CheckpointLoadStatus at 0x7fc2a81b3510>"
      ]
     },
     "execution_count": 19,
     "metadata": {},
     "output_type": "execute_result"
    }
   ],
   "source": [
    "func.load_weights(tf.train.latest_checkpoint(checkpoint_dir))"
   ]
  },
  {
   "cell_type": "markdown",
   "metadata": {},
   "source": [
    "## Plot for the whole time"
   ]
  },
  {
   "cell_type": "code",
   "execution_count": 20,
   "metadata": {},
   "outputs": [],
   "source": [
    "pred_y_whole = ddeinttf(func, ai_t0, tf.concat([t, val_t], axis=0), fargs=([args.rnn_nmax, args.rnn_dt],))\n",
    "ai_whole = ddeinttf(true_rom_model, ai_t0, tf.concat([t, val_t], axis=0))"
   ]
  },
  {
   "cell_type": "code",
   "execution_count": 21,
   "metadata": {
    "scrolled": true
   },
   "outputs": [
    {
     "data": {
      "image/png": "[encoded data removed]",
      "text/plain": [
       "<Figure size 432x288 with 1 Axes>"
      ]
     },
     "metadata": {},
     "output_type": "display_data"
    }
   ],
   "source": [
    "plot_obj = custom_plot(tf.concat([true_ai_red, val_true_ai_red], axis=0), ai_whole, tf.concat([t, val_t], axis=0), args)\n",
    "plot_obj.plot(pred_y_whole)"
   ]
  },
  {
   "cell_type": "markdown",
   "metadata": {},
   "source": [
    "#### Save data for comparison"
   ]
  },
  {
   "cell_type": "code",
   "execution_count": 22,
   "metadata": {},
   "outputs": [],
   "source": [
    "os.chdir(basedir)\n",
    "\n",
    "with open(os.path.join('neuralDDE_ROM_Closure/final_paper_scripts', 'nODE_Exp1_extended.pkl'), 'wb') as output:\n",
    "    pickle.dump(pred_y_whole, output, pickle.HIGHEST_PROTOCOL)\n",
    "    \n",
    "with open(os.path.join('neuralDDE_ROM_Closure/final_paper_scripts', 'baseline_Exp1_extended.pkl'), 'wb') as output:\n",
    "    pickle.dump(tf.concat([true_ai_red, val_true_ai_red], axis=0), output, pickle.HIGHEST_PROTOCOL)\n",
    "    pickle.dump(ai_whole, output, pickle.HIGHEST_PROTOCOL)\n",
    "    pickle.dump(tf.concat([t, val_t], axis=0), output, pickle.HIGHEST_PROTOCOL)"
   ]
  }
 ],
 "metadata": {
  "accelerator": "GPU",
  "colab": {
   "collapsed_sections": [],
   "machine_shape": "hm",
   "name": "neuralODE_Res_AD_Eqn_TestCase.ipynb",
   "provenance": []
  },
  "kernelspec": {
   "display_name": "Python 3",
   "language": "python",
   "name": "python3"
  },
  "language_info": {
   "codemirror_mode": {
    "name": "ipython",
    "version": 3
   },
   "file_extension": ".py",
   "mimetype": "text/x-python",
   "name": "python",
   "nbconvert_exporter": "python",
   "pygments_lexer": "ipython3",
   "version": "3.7.6"
  }
 },
 "nbformat": 4,
 "nbformat_minor": 1
}
