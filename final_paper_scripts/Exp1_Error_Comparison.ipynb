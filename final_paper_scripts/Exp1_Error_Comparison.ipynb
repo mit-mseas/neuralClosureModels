{
 "cells": [
  {
   "cell_type": "code",
   "execution_count": 1,
   "metadata": {
    "colab": {
     "base_uri": "https://localhost:8080/",
     "height": 51
    },
    "colab_type": "code",
    "executionInfo": {
     "elapsed": 402,
     "status": "ok",
     "timestamp": 1598311434967,
     "user": {
      "displayName": "Abhinav Gupta",
      "photoUrl": "https://lh3.googleusercontent.com/a-/AOh14GgMtMT5ccMf8GLgQ3yu6fAY2d6upCEZXfzS-5A6Cg=s64",
      "userId": "02552889854388316189"
     },
     "user_tz": 240
    },
    "id": "XDWgrRegO_2W",
    "outputId": "65959776-7f7a-4b7d-9f9f-90f2c1e3c7a6"
   },
   "outputs": [],
   "source": [
    "basedir = '/home/abhinavgupta0110/NeuralODEs_ROM_Closure'\n",
    "\n",
    "import os\n",
    "\n",
    "is_google_colab = False\n",
    "is_use_GPU = False"
   ]
  },
  {
   "cell_type": "markdown",
   "metadata": {
    "colab_type": "text",
    "id": "OuuO0p7GPHgE"
   },
   "source": [
    "### Mount the drive"
   ]
  },
  {
   "cell_type": "code",
   "execution_count": 2,
   "metadata": {
    "colab": {
     "base_uri": "https://localhost:8080/",
     "height": 51
    },
    "colab_type": "code",
    "executionInfo": {
     "elapsed": 497,
     "status": "ok",
     "timestamp": 1598311435107,
     "user": {
      "displayName": "Abhinav Gupta",
      "photoUrl": "https://lh3.googleusercontent.com/a-/AOh14GgMtMT5ccMf8GLgQ3yu6fAY2d6upCEZXfzS-5A6Cg=s64",
      "userId": "02552889854388316189"
     },
     "user_tz": 240
    },
    "id": "JK_YPDIhPJab",
    "outputId": "a06bb14f-6e00-483e-ab86-9229f346ea0a"
   },
   "outputs": [],
   "source": [
    "if is_use_GPU:\n",
    "    gpu_info = !nvidia-smi\n",
    "    gpu_info = '\\n'.join(gpu_info)\n",
    "    if gpu_info.find('failed') >= 0:\n",
    "        print('No GPU found!')\n",
    "    else:\n",
    "        print(gpu_info)\n",
    "\n",
    "if is_google_colab:\n",
    "    from google.colab import drive\n",
    "    drive.mount('/content/drive')\n",
    "\n",
    "    %pip install quadpy\n",
    "    \n",
    "os.chdir(os.path.join(basedir, 'neuralClosureModels'))"
   ]
  },
  {
   "cell_type": "markdown",
   "metadata": {
    "colab_type": "text",
    "id": "pGrHii5-PMUO"
   },
   "source": [
    "### Load modules"
   ]
  },
  {
   "cell_type": "code",
   "execution_count": 3,
   "metadata": {
    "colab": {},
    "colab_type": "code",
    "executionInfo": {
     "elapsed": 2870,
     "status": "ok",
     "timestamp": 1598311441652,
     "user": {
      "displayName": "Abhinav Gupta",
      "photoUrl": "https://lh3.googleusercontent.com/a-/AOh14GgMtMT5ccMf8GLgQ3yu6fAY2d6upCEZXfzS-5A6Cg=s64",
      "userId": "02552889854388316189"
     },
     "user_tz": 240
    },
    "id": "zKsI9PDvPMvd"
   },
   "outputs": [],
   "source": [
    "import time\n",
    "import sys\n",
    "from IPython.core.debugger import set_trace\n",
    "\n",
    "import numpy as np\n",
    "import tensorflow as tf\n",
    "import matplotlib.pyplot as plt\n",
    "from shutil import move\n",
    "import pickle5 as pickle\n",
    "import scipy as sc\n",
    "from scipy import signal\n",
    "\n",
    "tf.keras.backend.set_floatx('float32')\n",
    "import logging\n",
    "tf.get_logger().setLevel(logging.ERROR)"
   ]
  },
  {
   "cell_type": "markdown",
   "metadata": {},
   "source": [
    "## Load data"
   ]
  },
  {
   "cell_type": "code",
   "execution_count": 4,
   "metadata": {},
   "outputs": [],
   "source": [
    "os.chdir(basedir)\n",
    "    \n",
    "with open(os.path.join('neuralClosureModels/final_paper_scripts', 'nODE_C1b_Exp1_predictions.pkl'), 'rb') as output:\n",
    "    nODE_dict = pickle.load(output)\n",
    "    \n",
    "with open(os.path.join('neuralClosureModels/final_paper_scripts', 'nDDE_C1c_Exp1_predictions.pkl'), 'rb') as output:\n",
    "    nDDE_dict = pickle.load(output)\n",
    "    \n",
    "with open(os.path.join('neuralClosureModels/final_paper_scripts', 'nDistDDE_C9_Exp1_predictions.pkl'), 'rb') as output:\n",
    "    nDistDDE_dict = pickle.load(output)"
   ]
  },
  {
   "cell_type": "markdown",
   "metadata": {},
   "source": [
    "## Plot Signed Differences"
   ]
  },
  {
   "cell_type": "code",
   "execution_count": 5,
   "metadata": {},
   "outputs": [],
   "source": [
    "# diff_colors = ['b', 'g', 'r', 'k', 'c', 'm']\n",
    "# rom_dims = 3\n",
    "\n",
    "# fig = plt.figure(figsize=(6, 4), facecolor='white')\n",
    "# ax = fig.add_subplot(111)\n",
    "\n",
    "# ax.cla()\n",
    "# ax.set_title('Error')\n",
    "# ax.set_xlabel('t')\n",
    "# ax.set_ylabel('True $a_i$ - *')\n",
    "# ax.set_xlim(min(t.numpy()), max(t.numpy()))\n",
    "# # ax.set_ylim(-1, 1)\n",
    "\n",
    "# for i in range(rom_dims):\n",
    "#     ax.plot(t.numpy(), true_ai_red[:, 0, i] - ai_whole[:, 0, i], diff_colors[i % rom_dims]+'-', label = '*POD-GP Coeff. '+str(i+1))\n",
    "#     ax.plot(t.numpy(), true_ai_red[:, 0, i] - pred_y_whole_nODE[:, 0, i], diff_colors[i % rom_dims]+'--', label = '*nODE Coeff. '+str(i+1))\n",
    "#     ax.plot(t.numpy(), true_ai_red[:, 0, i] - pred_y_whole_nDDE[:, 0, i], diff_colors[i % rom_dims]+'-.', label = '*Discrete-nDDE Coeff. '+str(i+1))\n",
    "#     ax.plot(t.numpy(), true_ai_red[:, 0, i] - pred_y_whole_nDistDDE[:, 0, i], diff_colors[i % rom_dims]+':', label = '*Distributed-nDDE Coeff. '+str(i+1))\n",
    "\n",
    "# ax.legend(bbox_to_anchor=(1.04,1), loc=\"upper left\")\n",
    "# plt.show() "
   ]
  },
  {
   "cell_type": "markdown",
   "metadata": {},
   "source": [
    "## Plot Unsigned Differences"
   ]
  },
  {
   "cell_type": "code",
   "execution_count": 6,
   "metadata": {},
   "outputs": [],
   "source": [
    "# diff_colors = ['b', 'g', 'r', 'k', 'c', 'm']\n",
    "# rom_dims = 3\n",
    "\n",
    "# fig = plt.figure(figsize=(6, 4), facecolor='white')\n",
    "# ax = fig.add_subplot(111)\n",
    "\n",
    "# ax.cla()\n",
    "# ax.set_title('Error')\n",
    "# ax.set_xlabel('t')\n",
    "# ax.set_ylabel('|True $a_i$ - *|')\n",
    "# ax.set_xlim(min(t.numpy()), max(t.numpy()))\n",
    "# # ax.set_ylim(-1, 1)\n",
    "\n",
    "# for i in range(rom_dims):\n",
    "#     ax.plot(t.numpy(), np.abs(true_ai_red[:, 0, i] - ai_whole[:, 0, i]), diff_colors[i % rom_dims]+'-', label = '*POD-GP Coeff. '+str(i+1))\n",
    "#     ax.plot(t.numpy(), np.abs(true_ai_red[:, 0, i] - pred_y_whole_nODE[:, 0, i]), diff_colors[i % rom_dims]+'--', label = '*nODE Coeff. '+str(i+1))\n",
    "#     ax.plot(t.numpy(), np.abs(true_ai_red[:, 0, i] - pred_y_whole_nDDE[:, 0, i]), diff_colors[i % rom_dims]+'-.', label = '*Discrete-nDDE Coeff. '+str(i+1))\n",
    "#     ax.plot(t.numpy(), np.abs(true_ai_red[:, 0, i] - pred_y_whole_nDistDDE[:, 0, i]), diff_colors[i % rom_dims]+':', label = '*Distributed-nDDE Coeff. '+str(i+1))\n",
    "\n",
    "# ax.legend(bbox_to_anchor=(1.04,1), loc=\"upper left\")\n",
    "# plt.show() "
   ]
  },
  {
   "cell_type": "markdown",
   "metadata": {},
   "source": [
    "## Plot RMSE "
   ]
  },
  {
   "cell_type": "code",
   "execution_count": 7,
   "metadata": {},
   "outputs": [],
   "source": [
    "t = tf.concat([nODE_dict['t'], nODE_dict['val_t']], axis=0)\n",
    "\n",
    "true_ai = tf.concat([nODE_dict['true_ai_red'], nODE_dict['val_true_ai_red']], axis=0)\n",
    "\n",
    "ai = tf.concat([nODE_dict['ai'], nODE_dict['val_ai']], axis=0)\n",
    "\n",
    "nODE_pred = nODE_dict['pred_y']\n",
    "nDDE_pred = nDDE_dict['pred_y']\n",
    "nDistDDE_pred = nDistDDE_dict['pred_y']"
   ]
  },
  {
   "cell_type": "code",
   "execution_count": 8,
   "metadata": {},
   "outputs": [],
   "source": [
    "POD_GP_error = tf.squeeze(tf.sqrt(tf.reduce_mean(tf.math.squared_difference(true_ai, ai), axis=-1)), axis=-1)\n",
    "nODE_error = tf.squeeze(tf.sqrt(tf.reduce_mean(tf.math.squared_difference(true_ai, nODE_pred), axis=-1)), axis=-1)\n",
    "nDDE_error = tf.squeeze(tf.sqrt(tf.reduce_mean(tf.math.squared_difference(true_ai, nDDE_pred), axis=-1)), axis=-1)\n",
    "nDistDDE_error = tf.squeeze(tf.sqrt(tf.reduce_mean(tf.math.squared_difference(true_ai, nDistDDE_pred), axis=-1)), axis=-1)"
   ]
  },
  {
   "cell_type": "code",
   "execution_count": 9,
   "metadata": {},
   "outputs": [
    {
     "data": {
      "text/plain": [
       "TensorShape([598, 1, 3])"
      ]
     },
     "execution_count": 9,
     "metadata": {},
     "output_type": "execute_result"
    }
   ],
   "source": [
    "true_ai.shape"
   ]
  },
  {
   "cell_type": "code",
   "execution_count": 10,
   "metadata": {},
   "outputs": [
    {
     "data": {
      "image/png": "[encoded data removed]",
      "text/plain": [
       "<Figure size 432x288 with 1 Axes>"
      ]
     },
     "metadata": {},
     "output_type": "display_data"
    }
   ],
   "source": [
    "diff_colors = ['b', 'g', 'r', 'k', 'c', 'm']\n",
    "rom_dims = 3\n",
    "\n",
    "fig = plt.figure(figsize=(6, 4), facecolor='white')\n",
    "ax = fig.add_subplot(111)\n",
    "\n",
    "ax.cla()\n",
    "ax.set_title('Error', fontsize=14)\n",
    "ax.set_xlabel('t', fontsize=14)\n",
    "ax.set_ylabel('RMSE w.r.t. True Coeffs.', fontsize=14)\n",
    "ax.set_xlim(min(t.numpy()), max(t.numpy()))\n",
    "# ax.set_ylim(-1, 1)\n",
    "\n",
    "ax.plot(t.numpy(), POD_GP_error.numpy(), 'b'+'-', label = 'POD-GP ')\n",
    "ax.plot(t.numpy(), nODE_error.numpy(), 'g'+'--', label = 'nODE')\n",
    "ax.plot(t.numpy(), nDDE_error.numpy(), 'r'+'-.', label = 'Discrete-nDDE')\n",
    "ax.plot(t.numpy(), nDistDDE_error.numpy(), 'k'+':', label = 'Distributed-nDDE')\n",
    "\n",
    "ax.legend(loc=\"upper left\")\n",
    "plt.show() "
   ]
  },
  {
   "cell_type": "code",
   "execution_count": null,
   "metadata": {},
   "outputs": [],
   "source": []
  }
 ],
 "metadata": {
  "colab": {
   "authorship_tag": "ABX9TyMQ7lAL7ubMTgd5E9GA5u0m",
   "name": "ROM_Advec_Diff_Example.ipynb",
   "provenance": []
  },
  "kernelspec": {
   "display_name": "Python 3",
   "language": "python",
   "name": "python3"
  },
  "language_info": {
   "codemirror_mode": {
    "name": "ipython",
    "version": 3
   },
   "file_extension": ".py",
   "mimetype": "text/x-python",
   "name": "python",
   "nbconvert_exporter": "python",
   "pygments_lexer": "ipython3",
   "version": "3.6.10"
  }
 },
 "nbformat": 4,
 "nbformat_minor": 1
}
