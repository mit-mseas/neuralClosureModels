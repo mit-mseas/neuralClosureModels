{
 "cells": [
  {
   "cell_type": "code",
   "execution_count": 1,
   "metadata": {
    "executionInfo": {
     "elapsed": 473,
     "status": "ok",
     "timestamp": 1601157808403,
     "user": {
      "displayName": "Abhinav Gupta",
      "photoUrl": "https://lh3.googleusercontent.com/a-/AOh14GgMtMT5ccMf8GLgQ3yu6fAY2d6upCEZXfzS-5A6Cg=s64",
      "userId": "02552889854388316189"
     },
     "user_tz": 240
    },
    "id": "mgv1axkGNvut"
   },
   "outputs": [],
   "source": [
    "basedir = '/home/abhinavgupta0110/NeuralODEs_ROM_Closure'\n",
    "\n",
    "import os\n",
    "\n",
    "is_google_colab = False\n",
    "is_use_GPU = False"
   ]
  },
  {
   "cell_type": "markdown",
   "metadata": {
    "id": "Jq_2LQ9UHud0"
   },
   "source": [
    "### Mount the Google drive if needed"
   ]
  },
  {
   "cell_type": "code",
   "execution_count": 2,
   "metadata": {
    "colab": {
     "base_uri": "https://localhost:8080/",
     "height": 527
    },
    "executionInfo": {
     "elapsed": 3215,
     "status": "ok",
     "timestamp": 1601157811162,
     "user": {
      "displayName": "Abhinav Gupta",
      "photoUrl": "https://lh3.googleusercontent.com/a-/AOh14GgMtMT5ccMf8GLgQ3yu6fAY2d6upCEZXfzS-5A6Cg=s64",
      "userId": "02552889854388316189"
     },
     "user_tz": 240
    },
    "id": "IMm0YJf40nu4",
    "outputId": "9bbe83de-ba06-439f-c578-dc21947bab04"
   },
   "outputs": [],
   "source": [
    "if is_use_GPU:\n",
    "    gpu_info = !nvidia-smi\n",
    "    gpu_info = '\\n'.join(gpu_info)\n",
    "    if gpu_info.find('failed') >= 0:\n",
    "        print('No GPU found!')\n",
    "    else:\n",
    "        print(gpu_info)\n",
    "\n",
    "if is_google_colab:\n",
    "    from google.colab import drive\n",
    "    drive.mount('/content/drive')\n",
    "\n",
    "    %pip install quadpy\n",
    "    \n",
    "os.chdir(os.path.join(basedir, 'neuralDDE_ROM_Closure'))"
   ]
  },
  {
   "cell_type": "markdown",
   "metadata": {
    "id": "4Ypp2-6vHzUD"
   },
   "source": [
    "### Load modules"
   ]
  },
  {
   "cell_type": "code",
   "execution_count": 3,
   "metadata": {
    "executionInfo": {
     "elapsed": 6324,
     "status": "ok",
     "timestamp": 1601157814287,
     "user": {
      "displayName": "Abhinav Gupta",
      "photoUrl": "https://lh3.googleusercontent.com/a-/AOh14GgMtMT5ccMf8GLgQ3yu6fAY2d6upCEZXfzS-5A6Cg=s64",
      "userId": "02552889854388316189"
     },
     "user_tz": 240
    },
    "id": "-MrPJTQD3Xz4"
   },
   "outputs": [],
   "source": [
    "from src.utilities.DDE_Solver import ddeinttf \n",
    "import src.solvers.neuralDDE_with_adjoint as ndde\n",
    "import src.advec_diff_case.advec_diff_eqn as adeq\n",
    "\n",
    "import time\n",
    "import sys\n",
    "from IPython.core.debugger import set_trace\n",
    "\n",
    "import numpy as np\n",
    "import scipy as spy\n",
    "import tensorflow as tf\n",
    "import matplotlib.pyplot as plt\n",
    "from matplotlib import cm\n",
    "from mpl_toolkits.mplot3d import Axes3D\n",
    "from shutil import move\n",
    "\n",
    "tf.keras.backend.set_floatx('float32')\n",
    "import logging\n",
    "tf.get_logger().setLevel(logging.ERROR)"
   ]
  },
  {
   "cell_type": "markdown",
   "metadata": {
    "id": "B6M2Jp_VH7k_"
   },
   "source": [
    "## Define some useful classes"
   ]
  },
  {
   "cell_type": "markdown",
   "metadata": {
    "id": "sAACaFzjH8tF"
   },
   "source": [
    "### Class for user-defined arguments"
   ]
  },
  {
   "cell_type": "code",
   "execution_count": 4,
   "metadata": {
    "executionInfo": {
     "elapsed": 6307,
     "status": "ok",
     "timestamp": 1601157814291,
     "user": {
      "displayName": "Abhinav Gupta",
      "photoUrl": "https://lh3.googleusercontent.com/a-/AOh14GgMtMT5ccMf8GLgQ3yu6fAY2d6upCEZXfzS-5A6Cg=s64",
      "userId": "02552889854388316189"
     },
     "user_tz": 240
    },
    "id": "SuiPlZi330MR"
   },
   "outputs": [],
   "source": [
    "class res_ad_eq_nDDE_args(ndde.arguments, adeq.ad_eqn_args):\n",
    "\n",
    "    def __init__(self, batch_time = 12, batch_time_skip = 2, batch_size = 5, epochs = 500, learning_rate = 0.05, decay_rate = 0.95, test_freq = 1, plot_freq = 2, \n",
    "                 d_max = 1.1, rnn_nmax = 3, rnn_dt = 0.5, state_dim = 2, adj_data_size = 2,\n",
    "                 model_dir = 'ROM_nODE_testcase/model_dir_test', restart = 0, val_percentage = 0.2,\n",
    "                 T = 2., nt = 200, L = 1., nx_high_res = 100, nx_low_res = 25, Re = 250, u_bc_0 = 0., u_bc_L =0., isplot = True): # add more arguments as needed\n",
    "        \n",
    "        ndde.arguments.__init__(self, data_size = nt, batch_time = batch_time, batch_time_skip = batch_time_skip, batch_size = batch_size, epochs = epochs,\n",
    "                           learning_rate = learning_rate, decay_rate = decay_rate, test_freq = test_freq, plot_freq = plot_freq, d_max = d_max, rnn_nmax = rnn_nmax, \n",
    "                           rnn_dt = rnn_dt, state_dim = nx_low_res, adj_data_size = nx_low_res, model_dir = model_dir, restart = restart, val_percentage = val_percentage, isplot = isplot)\n",
    "\n",
    "        adeq.ad_eqn_args.__init__(self, T = T, nt = nt, L = L, nx = nx_low_res, Re = Re, u_bc_0 = u_bc_0, u_bc_L = u_bc_L,\n",
    "                              multi_solve_size = batch_size)\n",
    "        \n",
    "        self.args_for_high_res = adeq.ad_eqn_args(T = T, nt = nt, L = L, nx = nx_high_res, Re = Re, u_bc_0 = u_bc_0, u_bc_L = u_bc_L, \n",
    "                              multi_solve_size = 1)\n",
    "        \n",
    "        self.args_for_low_res = adeq.ad_eqn_args(T = T, nt = nt, L = L, nx = nx_low_res, Re = Re, u_bc_0 = u_bc_0, u_bc_L = u_bc_L, \n",
    "                              multi_solve_size = 1)\n",
    "        \n",
    "        self.nx_high_res = nx_high_res\n",
    "        self.nx_low_res = nx_low_res"
   ]
  },
  {
   "cell_type": "markdown",
   "metadata": {
    "id": "Bgp85pBOIHjP"
   },
   "source": [
    "### Define the neural net architecture"
   ]
  },
  {
   "cell_type": "code",
   "execution_count": 5,
   "metadata": {
    "executionInfo": {
     "elapsed": 94566,
     "status": "ok",
     "timestamp": 1601157902651,
     "user": {
      "displayName": "Abhinav Gupta",
      "photoUrl": "https://lh3.googleusercontent.com/a-/AOh14GgMtMT5ccMf8GLgQ3yu6fAY2d6upCEZXfzS-5A6Cg=s64",
      "userId": "02552889854388316189"
     },
     "user_tz": 240
    },
    "id": "XAC5aK2hoPtM"
   },
   "outputs": [],
   "source": [
    "def interp_high_res_to_low_res(u_high_res, x_high_res, x_low_res, t):\n",
    "\n",
    "    f = spy.interpolate.interp2d(x_high_res, t, tf.squeeze(u_high_res, axis=1).numpy(), kind='cubic')\n",
    "\n",
    "    u_interp = tf.expand_dims(tf.convert_to_tensor(f(x_low_res, t), dtype=tf.float32), axis=1)\n",
    "\n",
    "    return u_interp"
   ]
  },
  {
   "cell_type": "markdown",
   "metadata": {
    "id": "jOxl52meIKf7"
   },
   "source": [
    "### Define a custom loss function"
   ]
  },
  {
   "cell_type": "markdown",
   "metadata": {
    "id": "COGAzukPIODg"
   },
   "source": [
    "### Define a custom plotting function"
   ]
  },
  {
   "cell_type": "code",
   "execution_count": 33,
   "metadata": {
    "executionInfo": {
     "elapsed": 6267,
     "status": "ok",
     "timestamp": 1601157814294,
     "user": {
      "displayName": "Abhinav Gupta",
      "photoUrl": "https://lh3.googleusercontent.com/a-/AOh14GgMtMT5ccMf8GLgQ3yu6fAY2d6upCEZXfzS-5A6Cg=s64",
      "userId": "02552889854388316189"
     },
     "user_tz": 240
    },
    "id": "348y9-Bf7AzH"
   },
   "outputs": [],
   "source": [
    "class custom_plot:\n",
    "\n",
    "    def __init__(self, true_y, y_no_nn, x, t, args):\n",
    "        self.true_y = true_y\n",
    "        self.y_no_nn = y_no_nn\n",
    "        self.t = t\n",
    "        self.args = args\n",
    "        self.X, self.T = np.meshgrid(x.numpy(), t.numpy())\n",
    "        self.x = x\n",
    "\n",
    "    def plot(self, *pred_y):\n",
    "        fig = plt.figure(figsize=(14, 4.5), facecolor='white')\n",
    "        ax_u_nn = fig.add_subplot(121, projection='3d')\n",
    "        ax_u_diff_nn = fig.add_subplot(122, projection='3d')\n",
    "\n",
    "        \n",
    "        ax_u_nn.cla()\n",
    "        ax_u_nn.set_title('Low-Res with nCM Solution', fontsize=14)\n",
    "        ax_u_nn.set_xlabel('x', fontsize=14)\n",
    "        ax_u_nn.set_ylabel('t', fontsize=14)\n",
    "        ax_u_nn.set_zlabel('u', fontsize=14)\n",
    "        plot = ax_u_nn.plot_surface(self.X, self.T, tf.squeeze(pred_y[0], axis=1).numpy(), cmap=cm.coolwarm,\n",
    "                            linewidth=0, antialiased=False, vmin=0, vmax=0.45)\n",
    "        ax_u_nn.set_xlim(self.x[0], self.x[-1])\n",
    "        ax_u_nn.set_ylim(self.t[0], self.t[-1])\n",
    "        ax_u_nn.set_zlim(0., 0.5)\n",
    "        plt.colorbar(plot, ax=ax_u_nn, shrink=0.5, aspect=10)\n",
    "\n",
    "        ax_u_diff_nn.cla()\n",
    "        ax_u_diff_nn.set_title('|Difference|', fontsize=14)\n",
    "        ax_u_diff_nn.set_xlabel('x', fontsize=14)\n",
    "        ax_u_diff_nn.set_ylabel('t', fontsize=14)\n",
    "        ax_u_diff_nn.set_zlabel('u', fontsize=14)\n",
    "        plot = ax_u_diff_nn.plot_surface(self.X, self.T, tf.abs(tf.squeeze(self.true_y - pred_y[0], axis=1)).numpy(), cmap=plt.get_cmap('coolwarm'),\n",
    "                            linewidth=0, antialiased=False,vmin=0, vmax=0.45)\n",
    "        ax_u_diff_nn.set_xlim(self.x[0], self.x[-1])\n",
    "        ax_u_diff_nn.set_ylim(self.t[0], self.t[-1])\n",
    "        ax_u_diff_nn.set_zlim(0., 0.5)\n",
    "        plt.colorbar(plot, ax=ax_u_diff_nn, shrink=0.5, aspect=10)\n",
    "\n",
    "        plt.show() \n",
    "        \n",
    "    def plot_contour(self, *pred_y):\n",
    "        fig = plt.figure(figsize=(14, 4.5), facecolor='white')\n",
    "        ax_u_nn = fig.add_subplot(121)\n",
    "        ax_u_diff_nn = fig.add_subplot(122)\n",
    "\n",
    "        \n",
    "        ax_u_nn.cla()\n",
    "        ax_u_nn.set_title('Low-Res with nCM Solution', fontsize=14)\n",
    "        ax_u_nn.set_xlabel('x', fontsize=14)\n",
    "        ax_u_nn.set_ylabel('t', fontsize=14)\n",
    "        plot = ax_u_nn.contourf(self.X, self.T, tf.squeeze(pred_y[0], axis=1).numpy(), cmap=cm.coolwarm,\n",
    "                           antialiased=False, levels=np.linspace(0, 0.5, 20), extend='min')\n",
    "        ax_u_nn.set_xlim(self.x[0], self.x[-1])\n",
    "        ax_u_nn.set_ylim(self.t[0], self.t[-1])\n",
    "        plt.colorbar(plot, ax=ax_u_nn, shrink=0.5, aspect=10)\n",
    "\n",
    "        ax_u_diff_nn.cla()\n",
    "        ax_u_diff_nn.set_title('|Difference|', fontsize=14)\n",
    "        ax_u_diff_nn.set_xlabel('x', fontsize=14)\n",
    "        ax_u_diff_nn.set_ylabel('t', fontsize=14)\n",
    "        plot = ax_u_diff_nn.contourf(self.X, self.T, tf.abs(tf.squeeze(self.true_y - pred_y[0], axis=1)).numpy(), cmap=plt.get_cmap('coolwarm'),\n",
    "                            antialiased=False, levels=np.linspace(0, 0.25, 20))\n",
    "        ax_u_diff_nn.set_xlim(self.x[0], self.x[-1])\n",
    "        ax_u_diff_nn.set_ylim(self.t[0], self.t[-1])\n",
    "        plt.colorbar(plot, ax=ax_u_diff_nn, shrink=0.5, aspect=10)\n",
    "\n",
    "        plt.show() "
   ]
  },
  {
   "cell_type": "markdown",
   "metadata": {
    "id": "MPytNA8cIf-S"
   },
   "source": [
    "### Initial Conditions"
   ]
  },
  {
   "cell_type": "code",
   "execution_count": 7,
   "metadata": {
    "executionInfo": {
     "elapsed": 6255,
     "status": "ok",
     "timestamp": 1601157814294,
     "user": {
      "displayName": "Abhinav Gupta",
      "photoUrl": "https://lh3.googleusercontent.com/a-/AOh14GgMtMT5ccMf8GLgQ3yu6fAY2d6upCEZXfzS-5A6Cg=s64",
      "userId": "02552889854388316189"
     },
     "user_tz": 240
    },
    "id": "XokaBF_C5HZh"
   },
   "outputs": [],
   "source": [
    "class initial_cond:\n",
    "\n",
    "    def __init__(self, x, app):\n",
    "        self.x = x\n",
    "        self.app = app\n",
    "\n",
    "    def __call__(self, t):\n",
    "        u0 = self.x / (1. + np.sqrt(1./self.app.t0) * np.exp(self.app.Re * self.x**2 / 4., dtype = np.float64))\n",
    "        return tf.convert_to_tensor([u0], dtype=tf.float32)"
   ]
  },
  {
   "cell_type": "markdown",
   "metadata": {
    "id": "55JqC28YIS6c"
   },
   "source": [
    "### Initialize model related parameters"
   ]
  },
  {
   "cell_type": "code",
   "execution_count": 8,
   "metadata": {
    "executionInfo": {
     "elapsed": 6247,
     "status": "ok",
     "timestamp": 1601157814295,
     "user": {
      "displayName": "Abhinav Gupta",
      "photoUrl": "https://lh3.googleusercontent.com/a-/AOh14GgMtMT5ccMf8GLgQ3yu6fAY2d6upCEZXfzS-5A6Cg=s64",
      "userId": "02552889854388316189"
     },
     "user_tz": 240
    },
    "id": "AYlTE72b4PE2"
   },
   "outputs": [],
   "source": [
    "args = res_ad_eq_nDDE_args(batch_time = 6, batch_time_skip = 2, batch_size = 8, epochs = 500, learning_rate = 0.075, decay_rate = 0.97, test_freq = 1, plot_freq = 2,\n",
    "                    d_max = 0.1, rnn_nmax = 1, rnn_dt = 0.1, model_dir = 'Res_nODE_testcase/model_dir_case6', restart = 0, val_percentage = 1.,\n",
    "                    T = 1.25, nt = 125, L = 1., nx_high_res = 100, nx_low_res = 25, Re = 1000, u_bc_0 = 0., u_bc_L =0.)"
   ]
  },
  {
   "cell_type": "markdown",
   "metadata": {
    "id": "c3D0icD8IV9O"
   },
   "source": [
    "### Copy the NN architecture from the save directory"
   ]
  },
  {
   "cell_type": "code",
   "execution_count": 9,
   "metadata": {},
   "outputs": [],
   "source": [
    "class DDEFunc(tf.keras.Model):\n",
    "\n",
    "    def __init__(self, gov_model, **kwargs):\n",
    "        super(DDEFunc, self).__init__(**kwargs)\n",
    "        \n",
    "        self.x1 = tf.keras.layers.Dense(20, activation='tanh',\n",
    "                                        kernel_initializer=tf.keras.initializers.TruncatedNormal(stddev=0.1), use_bias=True)\n",
    "    \n",
    "        self.x2 = tf.keras.layers.Dense(20, activation='tanh',\n",
    "                                        kernel_initializer=tf.keras.initializers.TruncatedNormal(stddev=0.1), use_bias=True)\n",
    "        \n",
    "        self.x3 = tf.keras.layers.Dense(20, activation='tanh',\n",
    "                                        kernel_initializer=tf.keras.initializers.TruncatedNormal(stddev=0.1), use_bias=True)\n",
    "        \n",
    "        self.x4 = tf.keras.layers.Dense(20, activation='tanh',\n",
    "                                        kernel_initializer=tf.keras.initializers.TruncatedNormal(stddev=0.1), use_bias=True)\n",
    "        \n",
    "        self.x5 = tf.keras.layers.Dense(20, activation='tanh',\n",
    "                                        kernel_initializer=tf.keras.initializers.TruncatedNormal(stddev=0.1), use_bias=True)\n",
    "        \n",
    "        self.out = tf.keras.layers.Dense(args.state_dim, activation='linear',\n",
    "                                        kernel_initializer=tf.keras.initializers.TruncatedNormal(stddev=0.1), use_bias=True)\n",
    "        \n",
    "        self.gov_model = gov_model\n",
    "\n",
    "\n",
    "    def call(self, y, t, d):\n",
    "        y_nn = y(t)\n",
    "        for i in range(len(self.layers)):\n",
    "            y_nn = self.layers[i](y_nn)\n",
    "        return y_nn + self.gov_model(y, t)"
   ]
  },
  {
   "cell_type": "code",
   "execution_count": 10,
   "metadata": {},
   "outputs": [],
   "source": [
    "os.chdir(basedir)\n",
    "\n",
    "checkpoint_dir = os.path.join(args.model_dir, \"ckpt\")\n",
    "checkpoint_prefix = os.path.join(checkpoint_dir, \"cp-{epoch:04d}.ckpt\")"
   ]
  },
  {
   "cell_type": "markdown",
   "metadata": {
    "id": "CeBwqst9IqRq"
   },
   "source": [
    "### Solve for the high resolution model"
   ]
  },
  {
   "cell_type": "code",
   "execution_count": 11,
   "metadata": {
    "colab": {
     "base_uri": "https://localhost:8080/",
     "height": 34
    },
    "executionInfo": {
     "elapsed": 89107,
     "status": "ok",
     "timestamp": 1601157897174,
     "user": {
      "displayName": "Abhinav Gupta",
      "photoUrl": "https://lh3.googleusercontent.com/a-/AOh14GgMtMT5ccMf8GLgQ3yu6fAY2d6upCEZXfzS-5A6Cg=s64",
      "userId": "02552889854388316189"
     },
     "user_tz": 240
    },
    "id": "Qzk4Frf04QHp",
    "outputId": "087581dd-7eab-466b-edfe-f30465f33760"
   },
   "outputs": [
    {
     "name": "stdout",
     "output_type": "stream",
     "text": [
      "High resolution model done!\n"
     ]
    }
   ],
   "source": [
    "x_high_res = tf.linspace(0., args.L, args.nx_high_res)\n",
    "t = tf.linspace(0., args.T, args.nt) # Time array\n",
    "\n",
    "u0 = initial_cond(x_high_res, args.args_for_high_res) # Initial conditions\n",
    "\n",
    "op = adeq.operators(args.args_for_high_res)\n",
    "\n",
    "u_high_res = ddeinttf(adeq.ad_eqn(op), u0, t)\n",
    "\n",
    "# Compute FOM for the validation time\n",
    "dt = t[1] - t[0]\n",
    "val_t_len =  args.val_percentage * (t[-1] - t[0])\n",
    "n_val = np.ceil(np.abs(val_t_len/dt.numpy())).astype(int)\n",
    "val_t = tf.linspace(t[-1], t[-1] + val_t_len, n_val)\n",
    "\n",
    "val_u_high_res = ddeinttf(adeq.ad_eqn(op), ndde.create_interpolator(u_high_res, t), val_t)\n",
    "\n",
    "print('High resolution model done!')"
   ]
  },
  {
   "cell_type": "markdown",
   "metadata": {
    "id": "zOz2tIzWIuQB"
   },
   "source": [
    "### Solve for low resolution model"
   ]
  },
  {
   "cell_type": "code",
   "execution_count": 12,
   "metadata": {
    "colab": {
     "base_uri": "https://localhost:8080/",
     "height": 34
    },
    "executionInfo": {
     "elapsed": 94574,
     "status": "ok",
     "timestamp": 1601157902650,
     "user": {
      "displayName": "Abhinav Gupta",
      "photoUrl": "https://lh3.googleusercontent.com/a-/AOh14GgMtMT5ccMf8GLgQ3yu6fAY2d6upCEZXfzS-5A6Cg=s64",
      "userId": "02552889854388316189"
     },
     "user_tz": 240
    },
    "id": "3wYyGI2FnUwt",
    "outputId": "bc6a4f86-0b05-4e65-dc2f-d8ab9d5042df"
   },
   "outputs": [
    {
     "name": "stdout",
     "output_type": "stream",
     "text": [
      "Low resolution model done!\n"
     ]
    }
   ],
   "source": [
    "x_low_res = tf.linspace(0., args.L, args.nx_low_res)\n",
    "\n",
    "u0 = initial_cond(x_low_res, args.args_for_low_res) # Initial conditions\n",
    "\n",
    "op = adeq.operators(args.args_for_low_res)\n",
    "\n",
    "u_low_res = ddeinttf(adeq.ad_eqn(op), u0, t)\n",
    "\n",
    "val_u_low_res = ddeinttf(adeq.ad_eqn(op), ndde.create_interpolator(u_low_res, t), val_t)\n",
    "\n",
    "print('Low resolution model done!')"
   ]
  },
  {
   "cell_type": "code",
   "execution_count": 13,
   "metadata": {},
   "outputs": [],
   "source": [
    "# Interpolate high resolution solution on low resolution grid\n",
    "\n",
    "true_u_low_res = interp_high_res_to_low_res(u_high_res, x_high_res, x_low_res, t)\n",
    "\n",
    "val_true_u_low_res = interp_high_res_to_low_res(val_u_high_res, x_high_res, x_low_res, val_t)"
   ]
  },
  {
   "cell_type": "markdown",
   "metadata": {
    "id": "o9mHAYKBI1vM"
   },
   "source": [
    "## Main part starts here"
   ]
  },
  {
   "cell_type": "markdown",
   "metadata": {
    "id": "pscaRbpsJE25"
   },
   "source": [
    "### Make objects and define learning-rate schedule"
   ]
  },
  {
   "cell_type": "code",
   "execution_count": 14,
   "metadata": {
    "executionInfo": {
     "elapsed": 94545,
     "status": "ok",
     "timestamp": 1601157902653,
     "user": {
      "displayName": "Abhinav Gupta",
      "photoUrl": "https://lh3.googleusercontent.com/a-/AOh14GgMtMT5ccMf8GLgQ3yu6fAY2d6upCEZXfzS-5A6Cg=s64",
      "userId": "02552889854388316189"
     },
     "user_tz": 240
    },
    "id": "cnb1m74W8a3l"
   },
   "outputs": [],
   "source": [
    "func = DDEFunc(adeq.ad_eqn(op = adeq.operators(args)))\n",
    "val_obj = ndde.create_validation_set(u0, t, args)"
   ]
  },
  {
   "cell_type": "markdown",
   "metadata": {
    "id": "Ni3vuuA4JLWc"
   },
   "source": [
    "### Plot training time"
   ]
  },
  {
   "cell_type": "code",
   "execution_count": 26,
   "metadata": {
    "colab": {
     "base_uri": "https://localhost:8080/",
     "height": 248
    },
    "executionInfo": {
     "elapsed": 95492,
     "status": "ok",
     "timestamp": 1601157903608,
     "user": {
      "displayName": "Abhinav Gupta",
      "photoUrl": "https://lh3.googleusercontent.com/a-/AOh14GgMtMT5ccMf8GLgQ3yu6fAY2d6upCEZXfzS-5A6Cg=s64",
      "userId": "02552889854388316189"
     },
     "user_tz": 240
    },
    "id": "KhCfEgh9HnJ5",
    "outputId": "11ad8a81-105f-4ebb-e5a7-4593a2bf5df4"
   },
   "outputs": [],
   "source": [
    "func.load_weights(tf.train.latest_checkpoint(checkpoint_dir))\n",
    "pred_y = ddeinttf(func, u0, tf.concat([t, val_t], axis=0), fargs=([args.rnn_nmax, args.rnn_dt],))"
   ]
  },
  {
   "cell_type": "code",
   "execution_count": 34,
   "metadata": {},
   "outputs": [],
   "source": [
    "plot_obj = custom_plot(tf.concat([true_u_low_res, val_true_u_low_res], axis=0), \n",
    "                       tf.concat([u_low_res, val_u_low_res], axis=0), x_low_res, tf.concat([t, val_t], axis=0), args)"
   ]
  },
  {
   "cell_type": "code",
   "execution_count": 35,
   "metadata": {},
   "outputs": [
    {
     "data": {
      "image/png": "[encoded data removed]",
      "text/plain": [
       "<Figure size 1008x324 with 4 Axes>"
      ]
     },
     "metadata": {},
     "output_type": "display_data"
    }
   ],
   "source": [
    "plot_obj.plot(pred_y)"
   ]
  },
  {
   "cell_type": "markdown",
   "metadata": {},
   "source": [
    "#### Make contour plots"
   ]
  },
  {
   "cell_type": "code",
   "execution_count": 32,
   "metadata": {},
   "outputs": [
    {
     "data": {
      "image/png": "[encoded data removed]",
      "text/plain": [
       "<Figure size 1008x324 with 4 Axes>"
      ]
     },
     "metadata": {},
     "output_type": "display_data"
    }
   ],
   "source": [
    "plot_obj.plot_contour(pred_y)"
   ]
  },
  {
   "cell_type": "markdown",
   "metadata": {},
   "source": [
    "### Print the network architecture"
   ]
  },
  {
   "cell_type": "code",
   "execution_count": 18,
   "metadata": {},
   "outputs": [
    {
     "name": "stdout",
     "output_type": "stream",
     "text": [
      "Model: \"dde_func\"\n",
      "_________________________________________________________________\n",
      "Layer (type)                 Output Shape              Param #   \n",
      "=================================================================\n",
      "dense (Dense)                multiple                  520       \n",
      "_________________________________________________________________\n",
      "dense_1 (Dense)              multiple                  420       \n",
      "_________________________________________________________________\n",
      "dense_2 (Dense)              multiple                  420       \n",
      "_________________________________________________________________\n",
      "dense_3 (Dense)              multiple                  420       \n",
      "_________________________________________________________________\n",
      "dense_4 (Dense)              multiple                  420       \n",
      "_________________________________________________________________\n",
      "dense_5 (Dense)              multiple                  525       \n",
      "=================================================================\n",
      "Total params: 2,725\n",
      "Trainable params: 2,725\n",
      "Non-trainable params: 0\n",
      "_________________________________________________________________\n"
     ]
    }
   ],
   "source": [
    "func.summary()"
   ]
  },
  {
   "cell_type": "markdown",
   "metadata": {},
   "source": [
    "### Compute the time-averaged L2 error for the prediction"
   ]
  },
  {
   "cell_type": "code",
   "execution_count": 36,
   "metadata": {},
   "outputs": [
    {
     "data": {
      "text/plain": [
       "<tf.Tensor: shape=(1,), dtype=float32, numpy=array([0.13449432], dtype=float32)>"
      ]
     },
     "execution_count": 36,
     "metadata": {},
     "output_type": "execute_result"
    }
   ],
   "source": [
    "tf.reduce_mean(tf.sqrt(tf.reduce_sum(tf.math.squared_difference(pred_y, tf.concat([true_u_low_res, val_true_u_low_res], axis=0)), axis=-1)), axis=0)"
   ]
  },
  {
   "cell_type": "markdown",
   "metadata": {},
   "source": [
    "### Compute time-averaged RMSE for points with error above a threshold for prediction"
   ]
  },
  {
   "cell_type": "code",
   "execution_count": 40,
   "metadata": {},
   "outputs": [
    {
     "data": {
      "text/plain": [
       "0.05258788171831056"
      ]
     },
     "execution_count": 40,
     "metadata": {},
     "output_type": "execute_result"
    }
   ],
   "source": [
    "thres = tf.reduce_max(true_u_low_res)*0.02\n",
    "error = []\n",
    "diff = pred_y - tf.concat([true_u_low_res, val_true_u_low_res], axis=0)\n",
    "\n",
    "for i in range(1, pred_y.shape[0]):\n",
    "    diff_t = np.abs(np.squeeze(diff[i, :, :].numpy()))\n",
    "    error_t = diff_t[np.where(diff_t >= thres)]\n",
    "    error_t = np.sqrt(np.sum(error_t**2)/len(error_t))\n",
    "    error.append(error_t)\n",
    "    \n",
    "np.mean(np.array(error))"
   ]
  },
  {
   "cell_type": "code",
   "execution_count": null,
   "metadata": {},
   "outputs": [],
   "source": []
  }
 ],
 "metadata": {
  "accelerator": "GPU",
  "colab": {
   "collapsed_sections": [],
   "machine_shape": "hm",
   "name": "neuralODE_Res_AD_Eqn_TestCase.ipynb",
   "provenance": []
  },
  "kernelspec": {
   "display_name": "Python 3",
   "language": "python",
   "name": "python3"
  },
  "language_info": {
   "codemirror_mode": {
    "name": "ipython",
    "version": 3
   },
   "file_extension": ".py",
   "mimetype": "text/x-python",
   "name": "python",
   "nbconvert_exporter": "python",
   "pygments_lexer": "ipython3",
   "version": "3.7.6"
  }
 },
 "nbformat": 4,
 "nbformat_minor": 1
}
