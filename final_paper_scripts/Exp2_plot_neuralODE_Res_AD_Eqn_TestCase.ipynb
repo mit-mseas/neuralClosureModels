{
 "cells": [
  {
   "cell_type": "code",
   "execution_count": 1,
   "metadata": {
    "executionInfo": {
     "elapsed": 473,
     "status": "ok",
     "timestamp": 1601157808403,
     "user": {
      "displayName": "Abhinav Gupta",
      "photoUrl": "https://lh3.googleusercontent.com/a-/AOh14GgMtMT5ccMf8GLgQ3yu6fAY2d6upCEZXfzS-5A6Cg=s64",
      "userId": "02552889854388316189"
     },
     "user_tz": 240
    },
    "id": "mgv1axkGNvut"
   },
   "outputs": [],
   "source": [
    "basedir = '/home/abhinavgupta0110/NeuralODEs_ROM_Closure'\n",
    "\n",
    "import os\n",
    "\n",
    "is_google_colab = False\n",
    "is_use_GPU = False"
   ]
  },
  {
   "cell_type": "markdown",
   "metadata": {
    "id": "Jq_2LQ9UHud0"
   },
   "source": [
    "### Mount the Google drive if needed"
   ]
  },
  {
   "cell_type": "code",
   "execution_count": 2,
   "metadata": {
    "colab": {
     "base_uri": "https://localhost:8080/",
     "height": 527
    },
    "executionInfo": {
     "elapsed": 3215,
     "status": "ok",
     "timestamp": 1601157811162,
     "user": {
      "displayName": "Abhinav Gupta",
      "photoUrl": "https://lh3.googleusercontent.com/a-/AOh14GgMtMT5ccMf8GLgQ3yu6fAY2d6upCEZXfzS-5A6Cg=s64",
      "userId": "02552889854388316189"
     },
     "user_tz": 240
    },
    "id": "IMm0YJf40nu4",
    "outputId": "9bbe83de-ba06-439f-c578-dc21947bab04"
   },
   "outputs": [],
   "source": [
    "if is_use_GPU:\n",
    "    gpu_info = !nvidia-smi\n",
    "    gpu_info = '\\n'.join(gpu_info)\n",
    "    if gpu_info.find('failed') >= 0:\n",
    "        print('No GPU found!')\n",
    "    else:\n",
    "        print(gpu_info)\n",
    "\n",
    "if is_google_colab:\n",
    "    from google.colab import drive\n",
    "    drive.mount('/content/drive')\n",
    "\n",
    "    %pip install quadpy\n",
    "    \n",
    "os.chdir(os.path.join(basedir, 'neuralClosureModels'))\n",
    "\n",
    "%load_ext autoreload"
   ]
  },
  {
   "cell_type": "markdown",
   "metadata": {
    "id": "4Ypp2-6vHzUD"
   },
   "source": [
    "### Load modules"
   ]
  },
  {
   "cell_type": "code",
   "execution_count": 3,
   "metadata": {
    "executionInfo": {
     "elapsed": 6324,
     "status": "ok",
     "timestamp": 1601157814287,
     "user": {
      "displayName": "Abhinav Gupta",
      "photoUrl": "https://lh3.googleusercontent.com/a-/AOh14GgMtMT5ccMf8GLgQ3yu6fAY2d6upCEZXfzS-5A6Cg=s64",
      "userId": "02552889854388316189"
     },
     "user_tz": 240
    },
    "id": "-MrPJTQD3Xz4"
   },
   "outputs": [
    {
     "name": "stdout",
     "output_type": "stream",
     "text": [
      "2.6.0-dev20210501\n"
     ]
    }
   ],
   "source": [
    "%autoreload 2\n",
    "\n",
    "from src.utilities.DDE_Solver import ddeinttf \n",
    "from src.utilities.helper_classes import * \n",
    "import src.solvers.neuralDDE_with_adjoint_accel as ndde\n",
    "import src.advec_diff_case.advec_diff_eqn_modcall as adeq\n",
    "from src.advec_diff_case.AD_Eqn_Helper_Classes import * \n",
    "\n",
    "import time\n",
    "import sys\n",
    "from IPython.core.debugger import set_trace\n",
    "\n",
    "import numpy as np\n",
    "import scipy as spy\n",
    "import tensorflow as tf\n",
    "import matplotlib.pyplot as plt\n",
    "from matplotlib import cm\n",
    "from mpl_toolkits.mplot3d import Axes3D\n",
    "from shutil import move\n",
    "import pickle\n",
    "\n",
    "print(tf.__version__)\n",
    "\n",
    "tf.keras.backend.set_floatx('float32')\n",
    "import logging\n",
    "tf.get_logger().setLevel(logging.ERROR)"
   ]
  },
  {
   "cell_type": "markdown",
   "metadata": {
    "id": "B6M2Jp_VH7k_"
   },
   "source": [
    "## Define some useful classes"
   ]
  },
  {
   "cell_type": "markdown",
   "metadata": {
    "id": "sAACaFzjH8tF"
   },
   "source": [
    "### Class for user-defined arguments"
   ]
  },
  {
   "cell_type": "code",
   "execution_count": 4,
   "metadata": {
    "executionInfo": {
     "elapsed": 6307,
     "status": "ok",
     "timestamp": 1601157814291,
     "user": {
      "displayName": "Abhinav Gupta",
      "photoUrl": "https://lh3.googleusercontent.com/a-/AOh14GgMtMT5ccMf8GLgQ3yu6fAY2d6upCEZXfzS-5A6Cg=s64",
      "userId": "02552889854388316189"
     },
     "user_tz": 240
    },
    "id": "SuiPlZi330MR"
   },
   "outputs": [],
   "source": [
    "class res_ad_eq_nDDE_args(ndde.arguments, adeq.ad_eqn_args):\n",
    "\n",
    "    def __init__(self, batch_time = 12, batch_time_skip = 2, batch_size = 5, epochs = 500, learning_rate = 0.05, decay_rate = 0.95, test_freq = 1, plot_freq = 2, \n",
    "                 d_max = 1.1, rnn_nmax = 3, rnn_dt = 0.5, state_dim = 2, adj_data_size = 2,\n",
    "                 model_dir = 'ROM_nODE_testcase/model_dir_test', restart = 0, val_percentage = 0.2,\n",
    "                 T = 2., nt = 200, L = 1., nx_high_res = 100, nx_low_res = 25, Re = 250, u_bc_0 = 0., u_bc_L =0., isplot = True, is_tstart_zero = True, \n",
    "                 ode_alg_name = 'dopri5', nsteps = 1): # add more arguments as needed\n",
    "        \n",
    "        ndde.arguments.__init__(self, data_size = nt, batch_time = batch_time, batch_time_skip = batch_time_skip, batch_size = batch_size, epochs = epochs,\n",
    "                           learning_rate = learning_rate, decay_rate = decay_rate, test_freq = test_freq, plot_freq = plot_freq, d_max = d_max, rnn_nmax = rnn_nmax, \n",
    "                           rnn_dt = rnn_dt, state_dim = nx_low_res, adj_data_size = nx_low_res, model_dir = model_dir, restart = restart, val_percentage = val_percentage, \n",
    "                           isplot = isplot, is_tstart_zero = is_tstart_zero)\n",
    "\n",
    "        adeq.ad_eqn_args.__init__(self, T = T, nt = nt, L = L, nx = nx_low_res, Re = Re, u_bc_0 = u_bc_0, u_bc_L = u_bc_L,\n",
    "                              multi_solve_size = batch_size)\n",
    "        \n",
    "        self.args_for_high_res = adeq.ad_eqn_args(T = T, nt = nt, L = L, nx = nx_high_res, Re = Re, u_bc_0 = u_bc_0, u_bc_L = u_bc_L, \n",
    "                              multi_solve_size = 1)\n",
    "        \n",
    "        self.args_for_low_res = adeq.ad_eqn_args(T = T, nt = nt, L = L, nx = nx_low_res, Re = Re, u_bc_0 = u_bc_0, u_bc_L = u_bc_L, \n",
    "                              multi_solve_size = 1)\n",
    "        \n",
    "        self.nx_high_res = nx_high_res\n",
    "        self.nx_low_res = nx_low_res\n",
    "        self.ode_alg_name = ode_alg_name\n",
    "        self.nsteps = nsteps"
   ]
  },
  {
   "cell_type": "markdown",
   "metadata": {},
   "source": [
    "### Define the NN architecture"
   ]
  },
  {
   "cell_type": "code",
   "execution_count": 5,
   "metadata": {
    "executionInfo": {
     "elapsed": 6267,
     "status": "ok",
     "timestamp": 1601157814294,
     "user": {
      "displayName": "Abhinav Gupta",
      "photoUrl": "https://lh3.googleusercontent.com/a-/AOh14GgMtMT5ccMf8GLgQ3yu6fAY2d6upCEZXfzS-5A6Cg=s64",
      "userId": "02552889854388316189"
     },
     "user_tz": 240
    },
    "id": "348y9-Bf7AzH"
   },
   "outputs": [],
   "source": [
    "class DDEFuncMain(tf.keras.Model):\n",
    "\n",
    "    def __init__(self, args, **kwargs):\n",
    "        super(DDEFuncMain, self).__init__(**kwargs)\n",
    "\n",
    "        self.c1 = tf.keras.layers.Conv1D(filters=4, kernel_size=3, strides=1, activation='swish',\n",
    "                                       kernel_initializer=tf.keras.initializers.TruncatedNormal(stddev=0.1), use_bias=True)\n",
    "        \n",
    "        self.c2 = tf.keras.layers.Conv1D(filters=5, kernel_size=3, strides=1, activation='swish',\n",
    "                                       kernel_initializer=tf.keras.initializers.TruncatedNormal(stddev=0.1), use_bias=True)\n",
    "        \n",
    "        self.c3 = tf.keras.layers.Conv1D(filters=5, kernel_size=3, strides=1, activation='swish',\n",
    "                                       kernel_initializer=tf.keras.initializers.TruncatedNormal(stddev=0.1), use_bias=True)\n",
    "        \n",
    "        self.c4 = tf.keras.layers.Conv1D(filters=5, kernel_size=3, strides=1, activation='swish',\n",
    "                                       kernel_initializer=tf.keras.initializers.TruncatedNormal(stddev=0.1), use_bias=True)\n",
    "        \n",
    "        self.c5 = tf.keras.layers.Conv1D(filters=5, kernel_size=3, strides=1, activation='swish',\n",
    "                                       kernel_initializer=tf.keras.initializers.TruncatedNormal(stddev=0.1), use_bias=True)\n",
    "        \n",
    "        self.dc1 = tf.keras.layers.Conv1DTranspose(filters=3, kernel_size=3, strides=1, activation='swish',\n",
    "                                       kernel_initializer=tf.keras.initializers.TruncatedNormal(stddev=0.1), use_bias=True)\n",
    "        \n",
    "        self.dc2 = tf.keras.layers.Conv1DTranspose(filters=2, kernel_size=3, strides=1, activation='swish',\n",
    "                                       kernel_initializer=tf.keras.initializers.TruncatedNormal(stddev=0.1), use_bias=True)\n",
    "        \n",
    "        self.dc3 = tf.keras.layers.Conv1DTranspose(filters=2, kernel_size=3, strides=1, activation='swish',\n",
    "                                       kernel_initializer=tf.keras.initializers.TruncatedNormal(stddev=0.1), use_bias=True)\n",
    "        \n",
    "        self.dc4 = tf.keras.layers.Conv1DTranspose(filters=2, kernel_size=3, strides=1, activation='swish',\n",
    "                                       kernel_initializer=tf.keras.initializers.TruncatedNormal(stddev=0.1), use_bias=True)\n",
    "        \n",
    "        self.dc_out = tf.keras.layers.Conv1DTranspose(filters=1, kernel_size=3, strides=1, activation='linear',\n",
    "                                       kernel_initializer=tf.keras.initializers.TruncatedNormal(stddev=0.1), use_bias=True)\n",
    "        \n",
    "        self.flat = tf.keras.layers.Flatten()\n",
    "        \n",
    "        self.args = args\n",
    "\n",
    "\n",
    "    @tf.function\n",
    "    def pass_layers(self, y_nn):\n",
    "        \n",
    "        for i in range(len(self.layers)):\n",
    "            y_nn = self.layers[i](y_nn)\n",
    "            \n",
    "        return y_nn\n",
    "    \n",
    "    def call(self, y_nn):\n",
    "        \n",
    "        y_nn = self.pass_layers(y_nn)\n",
    "        \n",
    "        return y_nn"
   ]
  },
  {
   "cell_type": "code",
   "execution_count": 6,
   "metadata": {},
   "outputs": [],
   "source": [
    "class DiscDDEFunc(tf.keras.Model):\n",
    "\n",
    "    def __init__(self, main, rom_model, args, **kwargs):\n",
    "        super(DiscDDEFunc, self).__init__(**kwargs)\n",
    "        \n",
    "        self.main = main\n",
    "        self.rom_model = rom_model\n",
    "        self.args = args\n",
    "        \n",
    "    def process_input(self, y, t ,d):     \n",
    "        \n",
    "        input = tf.expand_dims(y(t), axis=-1)\n",
    "        \n",
    "        return input\n",
    "\n",
    "    def call_nn_part(self, input):\n",
    "        dy_dt = self.main(input)\n",
    "        return dy_dt\n",
    "    \n",
    "    def __call__(self, y, t ,d, t_start = np.array([0.])):\n",
    "        \n",
    "        y_nn = self.process_input(y, t, d)\n",
    "\n",
    "        dy_dt = self.call_nn_part(y_nn) + self.rom_model(y, t, t_start)\n",
    "        \n",
    "        return dy_dt"
   ]
  },
  {
   "cell_type": "markdown",
   "metadata": {
    "id": "55JqC28YIS6c"
   },
   "source": [
    "### Initialize model related parameters"
   ]
  },
  {
   "cell_type": "code",
   "execution_count": 7,
   "metadata": {
    "executionInfo": {
     "elapsed": 6247,
     "status": "ok",
     "timestamp": 1601157814295,
     "user": {
      "displayName": "Abhinav Gupta",
      "photoUrl": "https://lh3.googleusercontent.com/a-/AOh14GgMtMT5ccMf8GLgQ3yu6fAY2d6upCEZXfzS-5A6Cg=s64",
      "userId": "02552889854388316189"
     },
     "user_tz": 240
    },
    "id": "AYlTE72b4PE2"
   },
   "outputs": [],
   "source": [
    "args = res_ad_eq_nDDE_args(batch_time = 6, batch_time_skip = 2, batch_size = 8, epochs = 250, learning_rate = 0.075, \n",
    "                           decay_rate = 0.97, test_freq = 1, plot_freq = 2, d_max = 0.2, rnn_nmax = 1, rnn_dt = 0.1, \n",
    "                           model_dir = 'Res_nODE_testcase_v2/model_dir_case1c', restart = 1, val_percentage = 3.,\n",
    "                           T = 1.25, nt = 125, L = 1., nx_high_res = 100, nx_low_res = 25, Re = 1000, u_bc_0 = 0., \n",
    "                           u_bc_L =0., ode_alg_name = 'vode', nsteps = -1)"
   ]
  },
  {
   "cell_type": "code",
   "execution_count": 8,
   "metadata": {},
   "outputs": [],
   "source": [
    "testcase_dir = 'neuralClosureModels/testcases/AD_Eqn_Res'\n",
    "save_dir_obj = save_dir(args = args, basedir = basedir, testcase_dir = testcase_dir)"
   ]
  },
  {
   "cell_type": "markdown",
   "metadata": {
    "id": "CeBwqst9IqRq"
   },
   "source": [
    "### Run setup"
   ]
  },
  {
   "cell_type": "code",
   "execution_count": 9,
   "metadata": {
    "colab": {
     "base_uri": "https://localhost:8080/",
     "height": 34
    },
    "executionInfo": {
     "elapsed": 89107,
     "status": "ok",
     "timestamp": 1601157897174,
     "user": {
      "displayName": "Abhinav Gupta",
      "photoUrl": "https://lh3.googleusercontent.com/a-/AOh14GgMtMT5ccMf8GLgQ3yu6fAY2d6upCEZXfzS-5A6Cg=s64",
      "userId": "02552889854388316189"
     },
     "user_tz": 240
    },
    "id": "Qzk4Frf04QHp",
    "outputId": "087581dd-7eab-466b-edfe-f30465f33760"
   },
   "outputs": [
    {
     "name": "stdout",
     "output_type": "stream",
     "text": [
      "High resolution model done!\n",
      "Low resolution model done!\n"
     ]
    }
   ],
   "source": [
    "os.chdir(os.path.join(basedir, testcase_dir))\n",
    "\n",
    "%run -i setup"
   ]
  },
  {
   "cell_type": "markdown",
   "metadata": {
    "id": "pscaRbpsJE25"
   },
   "source": [
    "### Make objects and define learning-rate schedule"
   ]
  },
  {
   "cell_type": "code",
   "execution_count": 10,
   "metadata": {
    "executionInfo": {
     "elapsed": 94545,
     "status": "ok",
     "timestamp": 1601157902653,
     "user": {
      "displayName": "Abhinav Gupta",
      "photoUrl": "https://lh3.googleusercontent.com/a-/AOh14GgMtMT5ccMf8GLgQ3yu6fAY2d6upCEZXfzS-5A6Cg=s64",
      "userId": "02552889854388316189"
     },
     "user_tz": 240
    },
    "id": "cnb1m74W8a3l"
   },
   "outputs": [],
   "source": [
    "adv_eq = adeq.ad_eqn(op = adeq.operators(args), app = args)\n",
    "func_main = DDEFuncMain(args)\n",
    "func = DiscDDEFunc(func_main, adv_eq, args)"
   ]
  },
  {
   "cell_type": "markdown",
   "metadata": {
    "id": "Ni3vuuA4JLWc"
   },
   "source": [
    "### Plot results"
   ]
  },
  {
   "cell_type": "code",
   "execution_count": 11,
   "metadata": {
    "colab": {
     "base_uri": "https://localhost:8080/",
     "height": 248
    },
    "executionInfo": {
     "elapsed": 95492,
     "status": "ok",
     "timestamp": 1601157903608,
     "user": {
      "displayName": "Abhinav Gupta",
      "photoUrl": "https://lh3.googleusercontent.com/a-/AOh14GgMtMT5ccMf8GLgQ3yu6fAY2d6upCEZXfzS-5A6Cg=s64",
      "userId": "02552889854388316189"
     },
     "user_tz": 240
    },
    "id": "KhCfEgh9HnJ5",
    "outputId": "11ad8a81-105f-4ebb-e5a7-4593a2bf5df4"
   },
   "outputs": [],
   "source": [
    "func.load_weights(tf.train.latest_checkpoint(save_dir_obj.checkpoint_dir))\n",
    "pred_y = ddeinttf(func, u0, tf.concat([t, val_t], axis=0), fargs=([args.rnn_nmax, args.rnn_dt],), alg_name = args.ode_alg_name, nsteps = args.nsteps)"
   ]
  },
  {
   "cell_type": "code",
   "execution_count": 12,
   "metadata": {},
   "outputs": [],
   "source": [
    "### Define a custom plotting function\n",
    "class custom_plot:\n",
    "\n",
    "    def __init__(self, true_y, y_no_nn, x, t, figsave_dir, args):\n",
    "        self.true_y = true_y\n",
    "        self.y_no_nn = y_no_nn\n",
    "        self.t = t\n",
    "        self.figsave_dir = figsave_dir\n",
    "        self.args = args\n",
    "        self.X, self.T = np.meshgrid(x.numpy(), t.numpy())\n",
    "        self.x = x\n",
    "\n",
    "    def plot_3d(self, *pred_y, epoch = 0):\n",
    "        fig = plt.figure(figsize=(24, 4), facecolor='white')\n",
    "        ax_u_lowres = fig.add_subplot(141, projection='3d')\n",
    "        ax_u_diff = fig.add_subplot(142, projection='3d')\n",
    "        ax_u_nn = fig.add_subplot(143, projection='3d')\n",
    "        ax_u_diff_nn = fig.add_subplot(144, projection='3d')\n",
    "\n",
    "        ax_u_lowres.cla()\n",
    "        ax_u_lowres.set_title('AD Eqn Low-Res Solution')\n",
    "        ax_u_lowres.set_xlabel('x')\n",
    "        ax_u_lowres.set_ylabel('t')\n",
    "        ax_u_lowres.plot_surface(self.X, self.T, tf.squeeze(self.y_no_nn, axis=1).numpy(), cmap=cm.coolwarm,\n",
    "                            linewidth=0, antialiased=False)\n",
    "        ax_u_lowres.set_xlim(self.x[0], self.x[-1])\n",
    "        ax_u_lowres.set_ylim(self.t[0], self.t[-1])\n",
    "\n",
    "        ax_u_diff.cla()\n",
    "        ax_u_diff.set_title('AD Eqn Difference without NN')\n",
    "        ax_u_diff.set_xlabel('x')\n",
    "        ax_u_diff.set_ylabel('t')\n",
    "        ax_u_diff.plot_surface(self.X, self.T, tf.squeeze(self.true_y - self.y_no_nn, axis=1).numpy(), cmap=cm.coolwarm,\n",
    "                            linewidth=0, antialiased=False)\n",
    "        ax_u_diff.set_xlim(self.x[0], self.x[-1])\n",
    "        ax_u_diff.set_ylim(self.t[0], self.t[-1])\n",
    "\n",
    "        if epoch != 0 or self.args.restart == 1 :\n",
    "            ax_u_nn.cla()\n",
    "            ax_u_nn.set_title('AD Eqn with NN Low-Res Solution')\n",
    "            ax_u_nn.set_xlabel('x')\n",
    "            ax_u_nn.set_ylabel('t')\n",
    "            ax_u_nn.plot_surface(self.X, self.T, tf.squeeze(pred_y[0][:, :, 0:self.args.state_dim], axis=1).numpy(), cmap=cm.coolwarm,\n",
    "                                linewidth=0, antialiased=False)\n",
    "            ax_u_nn.set_xlim(self.x[0], self.x[-1])\n",
    "            ax_u_nn.set_ylim(self.t[0], self.t[-1])\n",
    "\n",
    "            ax_u_diff_nn.cla()\n",
    "            ax_u_diff_nn.set_title('AD Eqn Difference with NN')\n",
    "            ax_u_diff_nn.set_xlabel('x')\n",
    "            ax_u_diff_nn.set_ylabel('t')\n",
    "            ax_u_diff_nn.plot_surface(self.X, self.T, tf.squeeze(self.true_y - pred_y[0][:, :, 0:self.args.state_dim], axis=1).numpy(), cmap=cm.coolwarm,\n",
    "                                linewidth=0, antialiased=False)\n",
    "            ax_u_diff_nn.set_xlim(self.x[0], self.x[-1])\n",
    "            ax_u_diff_nn.set_ylim(self.t[0], self.t[-1])\n",
    "\n",
    "        plt.show() \n",
    "\n",
    "        if epoch != 0: \n",
    "            fig.savefig(os.path.join(self.figsave_dir, 'img'+str(epoch)))\n",
    "            \n",
    "    def plot(self, *pred_y, epoch = 0):\n",
    "        fig = plt.figure(figsize=(14, 4.5), facecolor='white')\n",
    "        ax_u_nn = fig.add_subplot(121)\n",
    "        ax_u_diff_nn = fig.add_subplot(122)\n",
    "        \n",
    "        if epoch != 0 or self.args.restart == 1 :\n",
    "            ax_u_nn.cla()\n",
    "            ax_u_nn.set_title('Low-Res with nCM Solution', fontsize=14)\n",
    "            ax_u_nn.set_xlabel('x', fontsize=14)\n",
    "            ax_u_nn.set_ylabel('t', fontsize=14)\n",
    "            plot = ax_u_nn.contourf(self.X, self.T, tf.squeeze(pred_y[0][:, :, 0:self.args.state_dim], axis=1).numpy(), cmap=cm.coolwarm,\n",
    "                               antialiased=False, levels=np.linspace(0, 0.5, 40), extend='min')\n",
    "            ax_u_nn.set_xlim(self.x[0], self.x[-1])\n",
    "            ax_u_nn.set_ylim(self.t[0], self.t[-1])\n",
    "            plt.colorbar(plot, ax=ax_u_nn, shrink=0.5, aspect=10)\n",
    "\n",
    "            ax_u_diff_nn.cla()\n",
    "            ax_u_diff_nn.set_title('|Difference|', fontsize=14)\n",
    "            ax_u_diff_nn.set_xlabel('x', fontsize=14)\n",
    "            ax_u_diff_nn.set_ylabel('t', fontsize=14)\n",
    "            plot = ax_u_diff_nn.contourf(self.X, self.T, tf.abs(tf.squeeze(self.true_y - pred_y[0][:, :, 0:self.args.state_dim], axis=1)).numpy(), cmap=plt.get_cmap('coolwarm'),\n",
    "                                antialiased=False, levels=np.linspace(0, 0.25, 40))\n",
    "            ax_u_diff_nn.set_xlim(self.x[0], self.x[-1])\n",
    "            ax_u_diff_nn.set_ylim(self.t[0], self.t[-1])\n",
    "            plt.colorbar(plot, ax=ax_u_diff_nn, shrink=0.5, aspect=10)\n",
    "\n",
    "        plt.show()"
   ]
  },
  {
   "cell_type": "code",
   "execution_count": 13,
   "metadata": {},
   "outputs": [],
   "source": [
    "plot_obj = custom_plot(tf.concat([true_u_low_res, val_true_u_low_res], axis=0), \n",
    "                       tf.concat([u_low_res, val_u_low_res], axis=0), x_low_res, tf.concat([t, val_t], axis=0), save_dir_obj.figsave_dir, args)"
   ]
  },
  {
   "cell_type": "code",
   "execution_count": 14,
   "metadata": {},
   "outputs": [
    {
     "data": {
      "image/png": "[encoded data removed]",
      "text/plain": [
       "<Figure size 1008x324 with 4 Axes>"
      ]
     },
     "metadata": {},
     "output_type": "display_data"
    }
   ],
   "source": [
    "plot_obj.plot(pred_y)"
   ]
  },
  {
   "cell_type": "markdown",
   "metadata": {},
   "source": [
    "### Print the network architecture"
   ]
  },
  {
   "cell_type": "code",
   "execution_count": 15,
   "metadata": {},
   "outputs": [
    {
     "name": "stdout",
     "output_type": "stream",
     "text": [
      "Model: \"dde_func_main\"\n",
      "_________________________________________________________________\n",
      "Layer (type)                 Output Shape              Param #   \n",
      "=================================================================\n",
      "conv1d (Conv1D)              multiple                  16        \n",
      "_________________________________________________________________\n",
      "conv1d_1 (Conv1D)            multiple                  65        \n",
      "_________________________________________________________________\n",
      "conv1d_2 (Conv1D)            multiple                  80        \n",
      "_________________________________________________________________\n",
      "conv1d_3 (Conv1D)            multiple                  80        \n",
      "_________________________________________________________________\n",
      "conv1d_4 (Conv1D)            multiple                  80        \n",
      "_________________________________________________________________\n",
      "conv1d_transpose (Conv1DTran multiple                  48        \n",
      "_________________________________________________________________\n",
      "conv1d_transpose_1 (Conv1DTr multiple                  20        \n",
      "_________________________________________________________________\n",
      "conv1d_transpose_2 (Conv1DTr multiple                  14        \n",
      "_________________________________________________________________\n",
      "conv1d_transpose_3 (Conv1DTr multiple                  14        \n",
      "_________________________________________________________________\n",
      "conv1d_transpose_4 (Conv1DTr multiple                  7         \n",
      "_________________________________________________________________\n",
      "flatten (Flatten)            multiple                  0         \n",
      "=================================================================\n",
      "Total params: 424\n",
      "Trainable params: 424\n",
      "Non-trainable params: 0\n",
      "_________________________________________________________________\n"
     ]
    }
   ],
   "source": [
    "func_main.summary()"
   ]
  },
  {
   "cell_type": "markdown",
   "metadata": {},
   "source": [
    "### Compute errors"
   ]
  },
  {
   "cell_type": "code",
   "execution_count": 16,
   "metadata": {},
   "outputs": [],
   "source": [
    "class compute_error():\n",
    "    \n",
    "    def __init__(self, truth, thres = 0.02):\n",
    "        self.truth = truth\n",
    "        self.thres = thres\n",
    "        \n",
    "    def l2_error(self, pred):\n",
    "        \n",
    "        error = tf.reduce_mean(tf.sqrt(tf.reduce_sum(tf.math.squared_difference(pred, self.truth), axis=-1)), axis=0)\n",
    "        \n",
    "        return error.numpy()\n",
    "    \n",
    "    def RMSE(self, pred):\n",
    "        \n",
    "        thres = tf.reduce_max(self.truth)*0.02\n",
    "        error = []\n",
    "        diff = pred - self.truth\n",
    "        \n",
    "        for i in range(1, pred.shape[0]):\n",
    "            diff_t = np.abs(np.squeeze(diff[i, :, :].numpy()))\n",
    "            error_t = diff_t[np.where(diff_t >= thres)]\n",
    "            if len(error_t) == 0: continue\n",
    "            error_t = np.sqrt(np.sum(error_t**2)/len(error_t))\n",
    "            error.append(error_t)\n",
    "\n",
    "        error = np.mean(np.array(error))\n",
    "        return error"
   ]
  },
  {
   "cell_type": "code",
   "execution_count": 17,
   "metadata": {},
   "outputs": [],
   "source": [
    "truth = tf.concat([true_u_low_res, val_true_u_low_res], axis=0)\n",
    "\n",
    "err_obj = compute_error(truth)"
   ]
  },
  {
   "cell_type": "code",
   "execution_count": 18,
   "metadata": {},
   "outputs": [
    {
     "data": {
      "text/plain": [
       "array([0.104], dtype=float32)"
      ]
     },
     "execution_count": 18,
     "metadata": {},
     "output_type": "execute_result"
    }
   ],
   "source": [
    "np.round(err_obj.l2_error(pred_y), 3)"
   ]
  },
  {
   "cell_type": "code",
   "execution_count": 19,
   "metadata": {},
   "outputs": [
    {
     "data": {
      "text/plain": [
       "0.045"
      ]
     },
     "execution_count": 19,
     "metadata": {},
     "output_type": "execute_result"
    }
   ],
   "source": [
    "np.round(err_obj.RMSE(pred_y), 3)"
   ]
  },
  {
   "cell_type": "code",
   "execution_count": null,
   "metadata": {},
   "outputs": [],
   "source": []
  }
 ],
 "metadata": {
  "accelerator": "GPU",
  "colab": {
   "collapsed_sections": [],
   "machine_shape": "hm",
   "name": "neuralODE_Res_AD_Eqn_TestCase.ipynb",
   "provenance": []
  },
  "kernelspec": {
   "display_name": "Python 3",
   "language": "python",
   "name": "python3"
  },
  "language_info": {
   "codemirror_mode": {
    "name": "ipython",
    "version": 3
   },
   "file_extension": ".py",
   "mimetype": "text/x-python",
   "name": "python",
   "nbconvert_exporter": "python",
   "pygments_lexer": "ipython3",
   "version": "3.6.10"
  }
 },
 "nbformat": 4,
 "nbformat_minor": 1
}
