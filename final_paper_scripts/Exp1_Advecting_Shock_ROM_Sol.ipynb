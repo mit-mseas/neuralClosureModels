{
 "cells": [
  {
   "cell_type": "code",
   "execution_count": null,
   "metadata": {
    "colab": {
     "base_uri": "https://localhost:8080/",
     "height": 51
    },
    "colab_type": "code",
    "executionInfo": {
     "elapsed": 402,
     "status": "ok",
     "timestamp": 1598311434967,
     "user": {
      "displayName": "Abhinav Gupta",
      "photoUrl": "https://lh3.googleusercontent.com/a-/AOh14GgMtMT5ccMf8GLgQ3yu6fAY2d6upCEZXfzS-5A6Cg=s64",
      "userId": "02552889854388316189"
     },
     "user_tz": 240
    },
    "id": "XDWgrRegO_2W",
    "outputId": "65959776-7f7a-4b7d-9f9f-90f2c1e3c7a6"
   },
   "outputs": [],
   "source": [
    "basedir = '/home/abhinavgupta0110/NeuralODEs_ROM_Closure'\n",
    "\n",
    "import os\n",
    "\n",
    "is_google_colab = False\n",
    "is_use_GPU = False"
   ]
  },
  {
   "cell_type": "markdown",
   "metadata": {
    "colab_type": "text",
    "id": "OuuO0p7GPHgE"
   },
   "source": [
    "### Mount the drive"
   ]
  },
  {
   "cell_type": "code",
   "execution_count": null,
   "metadata": {
    "colab": {
     "base_uri": "https://localhost:8080/",
     "height": 51
    },
    "colab_type": "code",
    "executionInfo": {
     "elapsed": 497,
     "status": "ok",
     "timestamp": 1598311435107,
     "user": {
      "displayName": "Abhinav Gupta",
      "photoUrl": "https://lh3.googleusercontent.com/a-/AOh14GgMtMT5ccMf8GLgQ3yu6fAY2d6upCEZXfzS-5A6Cg=s64",
      "userId": "02552889854388316189"
     },
     "user_tz": 240
    },
    "id": "JK_YPDIhPJab",
    "outputId": "a06bb14f-6e00-483e-ab86-9229f346ea0a"
   },
   "outputs": [],
   "source": [
    "if is_use_GPU:\n",
    "    gpu_info = !nvidia-smi\n",
    "    gpu_info = '\\n'.join(gpu_info)\n",
    "    if gpu_info.find('failed') >= 0:\n",
    "        print('No GPU found!')\n",
    "    else:\n",
    "        print(gpu_info)\n",
    "\n",
    "if is_google_colab:\n",
    "    from google.colab import drive\n",
    "    drive.mount('/content/drive')\n",
    "\n",
    "    %pip install quadpy\n",
    "    \n",
    "os.chdir(os.path.join(basedir, 'neuralDDE_ROM_Closure'))"
   ]
  },
  {
   "cell_type": "markdown",
   "metadata": {
    "colab_type": "text",
    "id": "pGrHii5-PMUO"
   },
   "source": [
    "### Load modules"
   ]
  },
  {
   "cell_type": "code",
   "execution_count": null,
   "metadata": {
    "colab": {},
    "colab_type": "code",
    "executionInfo": {
     "elapsed": 2870,
     "status": "ok",
     "timestamp": 1598311441652,
     "user": {
      "displayName": "Abhinav Gupta",
      "photoUrl": "https://lh3.googleusercontent.com/a-/AOh14GgMtMT5ccMf8GLgQ3yu6fAY2d6upCEZXfzS-5A6Cg=s64",
      "userId": "02552889854388316189"
     },
     "user_tz": 240
    },
    "id": "zKsI9PDvPMvd"
   },
   "outputs": [],
   "source": [
    "from src.utilities.DDE_Solver import ddeinttf \n",
    "import src.advec_diff_case.advec_diff_eqn as adeq\n",
    "import src.advec_diff_case.rom_advec_diff as rom\n",
    "\n",
    "from IPython.core.debugger import set_trace\n",
    "\n",
    "import numpy as np\n",
    "import tensorflow as tf\n",
    "import matplotlib.pyplot as plt\n",
    "from matplotlib import cm\n",
    "from mpl_toolkits.mplot3d import Axes3D\n",
    "from matplotlib.animation import FuncAnimation\n",
    "\n",
    "tf.keras.backend.set_floatx('float32')"
   ]
  },
  {
   "cell_type": "markdown",
   "metadata": {
    "colab_type": "text",
    "id": "wCV9HvNGPvbF"
   },
   "source": [
    "## Define some useful classes"
   ]
  },
  {
   "cell_type": "markdown",
   "metadata": {
    "colab_type": "text",
    "id": "ASIxx-_6PyN4"
   },
   "source": [
    "### Initial conditions"
   ]
  },
  {
   "cell_type": "code",
   "execution_count": null,
   "metadata": {
    "colab": {},
    "colab_type": "code",
    "executionInfo": {
     "elapsed": 348,
     "status": "ok",
     "timestamp": 1598311442698,
     "user": {
      "displayName": "Abhinav Gupta",
      "photoUrl": "https://lh3.googleusercontent.com/a-/AOh14GgMtMT5ccMf8GLgQ3yu6fAY2d6upCEZXfzS-5A6Cg=s64",
      "userId": "02552889854388316189"
     },
     "user_tz": 240
    },
    "id": "CL75JxEsP0HU"
   },
   "outputs": [],
   "source": [
    "class initial_cond:\n",
    "\n",
    "    def __init__(self, x, app):\n",
    "        self.x = x\n",
    "        self.app = app\n",
    "\n",
    "    def __call__(self, t):\n",
    "        u0 = self.x / (1. + np.sqrt(1./self.app.t0) * np.exp(self.app.Re * self.x**2 / 4., dtype = np.float64))\n",
    "        return tf.convert_to_tensor([u0], dtype=tf.float32)"
   ]
  },
  {
   "cell_type": "code",
   "execution_count": null,
   "metadata": {},
   "outputs": [],
   "source": [
    "class create_mean_modes:\n",
    "    def __init__(self, fom_sol, app, t):\n",
    "        self.fom_sol = fom_sol\n",
    "        self.app = app\n",
    "        self.t = t\n",
    "\n",
    "    def __call__(self):\n",
    "\n",
    "        u_analy = tf.transpose(self.fom_sol)\n",
    "\n",
    "        u_mean = tf.expand_dims(tf.reduce_mean(u_analy, axis=-1), axis=1)\n",
    "\n",
    "        S, U, V = tf.linalg.svd(u_analy - tf.tile(u_mean, [1, len(self.t)]))\n",
    "\n",
    "        ui = U[:, 0:self.app.rom_dims]\n",
    "\n",
    "        return u_mean, ui, S"
   ]
  },
  {
   "cell_type": "code",
   "execution_count": null,
   "metadata": {},
   "outputs": [],
   "source": [
    "class red_initial_cond:\n",
    "    \n",
    "    def __init__(self, ai_t0, u_mean, u_modes):\n",
    "        self.ai_t0 = ai_t0\n",
    "        self.u_mean = u_mean\n",
    "        self.u_modes = u_modes\n",
    "        \n",
    "    def __call__(self, t):\n",
    "\n",
    "        u0_rom = tf.transpose(self.u_mean, perm=[1, 0]) \\\n",
    "            + tf.cast(tf.einsum('ab, db -> da', tf.cast(self.u_modes, tf.float64), tf.cast(self.ai_t0(t), tf.float64)), tf.float32)\n",
    "        \n",
    "        return u0_rom"
   ]
  },
  {
   "cell_type": "markdown",
   "metadata": {
    "colab_type": "text",
    "id": "hoYaoWjfQBwd"
   },
   "source": [
    "## Main part starts here"
   ]
  },
  {
   "cell_type": "markdown",
   "metadata": {
    "colab_type": "text",
    "id": "PcNHTlBiQHnv"
   },
   "source": [
    "### User-defined parameters, create objects, and solve the full order model"
   ]
  },
  {
   "cell_type": "code",
   "execution_count": null,
   "metadata": {
    "colab": {
     "base_uri": "https://localhost:8080/",
     "height": 34
    },
    "colab_type": "code",
    "executionInfo": {
     "elapsed": 35659,
     "status": "ok",
     "timestamp": 1598311479533,
     "user": {
      "displayName": "Abhinav Gupta",
      "photoUrl": "https://lh3.googleusercontent.com/a-/AOh14GgMtMT5ccMf8GLgQ3yu6fAY2d6upCEZXfzS-5A6Cg=s64",
      "userId": "02552889854388316189"
     },
     "user_tz": 240
    },
    "id": "oXJqd-gVQMt_",
    "outputId": "7e040f19-e478-4136-e0b3-30f57690c11e"
   },
   "outputs": [],
   "source": [
    "app = rom.rom_eqn_args(T = 2.5, nt = 250, L = 1., nx = 100, Re = 1000, u_bc_0 = 0., u_bc_L =0., rom_dims = 3, rom_batch_size = 1, ad_eq_batch_size = 1)\n",
    "\n",
    "x = tf.linspace(0., app.L, app.nx)\n",
    "t = tf.linspace(0., app.T, app.nt) # Time array\n",
    "\n",
    "u0 = initial_cond(x, app) # Initial conditions\n",
    "\n",
    "op = adeq.operators(app)\n",
    "\n",
    "u_fom = ddeinttf(adeq.ad_eqn(op), u0, t)\n",
    "\n",
    "print('FOM done!')"
   ]
  },
  {
   "cell_type": "markdown",
   "metadata": {
    "colab_type": "text",
    "id": "rrjXCPRmQcis"
   },
   "source": [
    "### Solve th ROM model and plot"
   ]
  },
  {
   "cell_type": "code",
   "execution_count": null,
   "metadata": {},
   "outputs": [],
   "source": [
    "u_mean, ui, sing_val = create_mean_modes(tf.squeeze(u_fom, axis=1), app, t)()\n",
    "\n",
    "ai_t0 = rom.initial_cond_rom(u0, ui, u_mean)\n",
    "\n",
    "ai = ddeinttf(rom.rom_ad_eqn(um = u_mean, ui = ui, op = op, app = app), ai_t0, t)\n",
    "\n",
    "u_rom = tf.tile(tf.expand_dims(tf.transpose(u_mean, perm=[1, 0]), axis=0), [app.nt, app.rom_batch_size, 1]) \\\n",
    "            + tf.cast(tf.einsum('ab, cdb -> cda', tf.cast(ui, tf.float64), tf.cast(ai, tf.float64)), tf.float32)\n",
    "\n",
    "print('ROM done!')"
   ]
  },
  {
   "cell_type": "code",
   "execution_count": null,
   "metadata": {
    "colab": {
     "base_uri": "https://localhost:8080/",
     "height": 265
    },
    "colab_type": "code",
    "executionInfo": {
     "elapsed": 37229,
     "status": "ok",
     "timestamp": 1598306281264,
     "user": {
      "displayName": "Abhinav Gupta",
      "photoUrl": "https://lh3.googleusercontent.com/a-/AOh14GgMtMT5ccMf8GLgQ3yu6fAY2d6upCEZXfzS-5A6Cg=s64",
      "userId": "02552889854388316189"
     },
     "user_tz": 240
    },
    "id": "PQ_sR-kVQgQs",
    "outputId": "a6607f52-58c9-434f-8b5f-da1954dc01ae"
   },
   "outputs": [],
   "source": [
    "fig = plt.figure(figsize=(7, 4.5), facecolor='white')\n",
    "ax_u_analy = fig.add_subplot(111, projection='3d')\n",
    "\n",
    "X, T = np.meshgrid(x.numpy(), t.numpy())\n",
    "\n",
    "ax_u_analy.cla()\n",
    "ax_u_analy.set_title('FOM Solution', fontsize=14)\n",
    "ax_u_analy.set_zlabel('u', fontsize=14)\n",
    "ax_u_analy.set_xlabel('x', fontsize=14)\n",
    "ax_u_analy.set_ylabel('t', fontsize=14)\n",
    "plot = ax_u_analy.plot_surface(X, T, tf.squeeze(u_fom, axis=1).numpy(), cmap=cm.coolwarm,\n",
    "                    linewidth=0, antialiased=False)\n",
    "ax_u_analy.set_xlim(x[0], x[-1])\n",
    "ax_u_analy.set_ylim(t[0], t[-1])\n",
    "\n",
    "plt.colorbar(plot, ax=ax_u_analy, shrink=0.5, aspect=10)\n",
    "\n",
    "fig.show()"
   ]
  },
  {
   "cell_type": "code",
   "execution_count": null,
   "metadata": {},
   "outputs": [],
   "source": [
    "fig = plt.figure(figsize=(6, 4), facecolor='white')\n",
    "ax_u = fig.add_subplot(111, projection='3d')\n",
    "\n",
    "X, T = np.meshgrid(x.numpy(), t.numpy())\n",
    "\n",
    "ax_u.cla()\n",
    "ax_u.set_title('3 Mode ROM Solution Reconstructed')\n",
    "ax_u.set_xlabel('x')\n",
    "ax_u.set_ylabel('t')\n",
    "ax_u.plot_surface(X, T, tf.squeeze(u_rom, axis=1).numpy(), cmap=cm.coolwarm,\n",
    "                    linewidth=0, antialiased=False)\n",
    "ax_u.set_xlim(x[0], x[-1])\n",
    "ax_u.set_ylim(t[0], t[-1])\n",
    "\n",
    "fig.show()"
   ]
  },
  {
   "cell_type": "code",
   "execution_count": null,
   "metadata": {},
   "outputs": [],
   "source": [
    "true_ai = u_fom - tf.tile(tf.expand_dims(tf.transpose(u_mean, perm=[1, 0]), axis=0), [app.nt, app.multi_solve_size, 1])\n",
    "true_ai = tf.cast(tf.einsum('ab, cda -> cdb', tf.cast(ui, tf.float64), tf.cast(true_ai, tf.float64)), tf.float32)"
   ]
  },
  {
   "cell_type": "code",
   "execution_count": null,
   "metadata": {},
   "outputs": [],
   "source": [
    "u0_rom = red_initial_cond(ai_t0, u_mean, ui)\n",
    "\n",
    "u_fom_red_ic = ddeinttf(adeq.ad_eqn(op), u0_rom, t)\n",
    "\n",
    "true_ai_red = u_fom_red_ic - tf.tile(tf.expand_dims(tf.transpose(u_mean, perm=[1, 0]), axis=0), [app.nt, app.multi_solve_size, 1])\n",
    "true_ai_red = tf.cast(tf.einsum('ab, cda -> cdb', tf.cast(ui, tf.float64), tf.cast(true_ai_red, tf.float64)), tf.float32)"
   ]
  },
  {
   "cell_type": "code",
   "execution_count": null,
   "metadata": {},
   "outputs": [],
   "source": [
    "diff_colors = ['b', 'g', 'r', 'k', 'c', 'm']\n",
    "\n",
    "fig = plt.figure(figsize=(6, 4), facecolor='white')\n",
    "ax = fig.add_subplot(111)\n",
    "\n",
    "ax.cla()\n",
    "ax.set_title('Coefficients')\n",
    "ax.set_xlabel('t')\n",
    "ax.set_ylabel('a_i')\n",
    "ax.set_xlim(min(t.numpy()), max(t.numpy()))\n",
    "ax.set_ylim(-1, 1)\n",
    "\n",
    "for i in range(app.rom_dims):\n",
    "    ax.plot(t.numpy(), true_ai[:, 0, i], diff_colors[i % app.rom_dims]+'-', label = 'True Coeff. '+str(i+1))\n",
    "    ax.plot(t.numpy(), ai[:, 0, i], diff_colors[i % app.rom_dims]+'-.', label = 'POD-GP Coeff. '+str(i+1))\n",
    "    ax.plot(t.numpy(), true_ai_red[:, 0, i], diff_colors[i % app.rom_dims]+'--', label = 'True Red Coeff. '+str(i+1))\n",
    "\n",
    "ax.legend(bbox_to_anchor=(1.04,1), loc=\"upper left\")\n",
    "plt.show() "
   ]
  },
  {
   "cell_type": "code",
   "execution_count": null,
   "metadata": {},
   "outputs": [],
   "source": [
    "diff_colors = ['b', 'g', 'r', 'k', 'c', 'm']\n",
    "\n",
    "fig = plt.figure(figsize=(6, 4), facecolor='white')\n",
    "ax = fig.add_subplot(111)\n",
    "\n",
    "ax.cla()\n",
    "ax.set_title('Coefficients', fontsize=14)\n",
    "ax.set_xlabel('t', fontsize=14)\n",
    "ax.set_ylabel('$a_i$', fontsize=14)\n",
    "ax.set_xlim(min(t.numpy()), max(t.numpy()))\n",
    "ax.set_ylim(-1, 1.1)\n",
    "\n",
    "for i in range(app.rom_dims):\n",
    "    ax.plot(t.numpy(), true_ai_red[:, 0, i], diff_colors[i % app.rom_dims]+'-', label = 'True Coeff. '+str(i+1))\n",
    "    ax.plot(t.numpy(), ai[:, 0, i], diff_colors[i % app.rom_dims]+'-.', label = 'POD-GP Coeff. '+str(i+1))\n",
    "\n",
    "ax.legend(bbox_to_anchor=(1.04,1), loc=\"upper left\")\n",
    "plt.show() "
   ]
  },
  {
   "cell_type": "code",
   "execution_count": null,
   "metadata": {},
   "outputs": [],
   "source": [
    "diff_colors = ['b', 'g', 'r', 'k', 'c', 'm']\n",
    "\n",
    "fig = plt.figure(figsize=(6, 4), facecolor='white')\n",
    "ax = fig.add_subplot(111)\n",
    "\n",
    "ax.cla()\n",
    "ax.set_title('Coefficients')\n",
    "ax.set_xlabel('t')\n",
    "ax.set_ylabel('$a_i$')\n",
    "ax.set_xlim(min(t.numpy()), max(t.numpy()))\n",
    "ax.set_ylim(-1, 1.1)\n",
    "\n",
    "for i in range(app.rom_dims):\n",
    "    ax.plot(t.numpy(), ai[:, 0, i], diff_colors[i % app.rom_dims]+'-.', label = 'POD-GP Coeff. '+str(i+1))\n",
    "\n",
    "ax.legend(bbox_to_anchor=(1.04,1), loc=\"upper left\")\n",
    "plt.show() "
   ]
  },
  {
   "cell_type": "code",
   "execution_count": null,
   "metadata": {},
   "outputs": [],
   "source": [
    "diff_colors = ['b', 'g', 'r', 'k', 'c', 'm']\n",
    "\n",
    "fig = plt.figure(figsize=(6, 4), facecolor='white')\n",
    "ax = fig.add_subplot(111)\n",
    "\n",
    "ax.cla()\n",
    "ax.set_title('Coefficients')\n",
    "ax.set_xlabel('t')\n",
    "ax.set_ylabel('$a_i$')\n",
    "ax.set_xlim(min(t.numpy()), max(t.numpy()))\n",
    "ax.set_ylim(-1, 1.1)\n",
    "\n",
    "for i in range(app.rom_dims):\n",
    "    ax.plot(t.numpy()[0:int(len(t.numpy())/2)], true_ai_red[0:int(len(t.numpy())/2), 0, i], diff_colors[i % app.rom_dims]+'-', label = 'True Coeff. '+str(i+1))\n",
    "\n",
    "ax.legend(loc=\"upper right\")\n",
    "plt.show() "
   ]
  },
  {
   "cell_type": "code",
   "execution_count": null,
   "metadata": {},
   "outputs": [],
   "source": [
    "u_rom_red = tf.tile(tf.expand_dims(tf.transpose(u_mean, perm=[1, 0]), axis=0), [app.nt, app.rom_batch_size, 1]) \\\n",
    "            + tf.cast(tf.einsum('ab, cdb -> cda', tf.cast(ui, tf.float64), tf.cast(true_ai_red, tf.float64)), tf.float32)\n",
    "\n",
    "fig = plt.figure(figsize=(6, 4), facecolor='white')\n",
    "ax_u = fig.add_subplot(111, projection='3d')\n",
    "\n",
    "X, T = np.meshgrid(x.numpy(), t.numpy())\n",
    "\n",
    "ax_u.cla()\n",
    "ax_u.set_title('Reconstructed Solution 3 Modes')\n",
    "ax_u.set_xlabel('x')\n",
    "ax_u.set_ylabel('t')\n",
    "ax_u.plot_surface(X, T, tf.squeeze(u_rom_red, axis=1).numpy(), cmap=cm.coolwarm,\n",
    "                    linewidth=0, antialiased=False)\n",
    "ax_u.set_xlim(x[0], x[-1])\n",
    "ax_u.set_ylim(t[0], t[-1])\n",
    "\n",
    "fig.show()"
   ]
  }
 ],
 "metadata": {
  "colab": {
   "authorship_tag": "ABX9TyMQ7lAL7ubMTgd5E9GA5u0m",
   "name": "ROM_Advec_Diff_Example.ipynb",
   "provenance": []
  },
  "kernelspec": {
   "display_name": "Python 3",
   "language": "python",
   "name": "python3"
  },
  "language_info": {
   "codemirror_mode": {
    "name": "ipython",
    "version": 3
   },
   "file_extension": ".py",
   "mimetype": "text/x-python",
   "name": "python",
   "nbconvert_exporter": "python",
   "pygments_lexer": "ipython3",
   "version": "3.7.4"
  }
 },
 "nbformat": 4,
 "nbformat_minor": 1
}
