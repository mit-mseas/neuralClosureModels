{
 "cells": [
  {
   "cell_type": "code",
   "execution_count": null,
   "metadata": {
    "colab": {
     "base_uri": "https://localhost:8080/",
     "height": 289
    },
    "colab_type": "code",
    "executionInfo": {
     "elapsed": 5346,
     "status": "ok",
     "timestamp": 1599494359135,
     "user": {
      "displayName": "Abhinav Gupta",
      "photoUrl": "https://lh3.googleusercontent.com/a-/AOh14GgMtMT5ccMf8GLgQ3yu6fAY2d6upCEZXfzS-5A6Cg=s64",
      "userId": "02552889854388316189"
     },
     "user_tz": 240
    },
    "id": "KcD1LoHU3qyb",
    "outputId": "a254603a-c83c-4e8c-fd29-c963f5627928"
   },
   "outputs": [],
   "source": [
    "basedir = '/home/abhinavgupta0110/NeuralODEs_ROM_Closure'\n",
    "\n",
    "import os\n",
    "\n",
    "is_google_colab = False\n",
    "is_use_GPU = False"
   ]
  },
  {
   "cell_type": "markdown",
   "metadata": {
    "colab_type": "text",
    "id": "sm_X5OL5VQdl"
   },
   "source": [
    "### Mount the Google drive if needed"
   ]
  },
  {
   "cell_type": "code",
   "execution_count": null,
   "metadata": {
    "colab": {},
    "colab_type": "code",
    "id": "ntu0uBUSVTDl"
   },
   "outputs": [],
   "source": [
    "if is_use_GPU:\n",
    "    gpu_info = !nvidia-smi\n",
    "    gpu_info = '\\n'.join(gpu_info)\n",
    "    if gpu_info.find('failed') >= 0:\n",
    "        print('No GPU found!')\n",
    "    else:\n",
    "        print(gpu_info)\n",
    "\n",
    "if is_google_colab:\n",
    "    from google.colab import drive\n",
    "    drive.mount('/content/drive')\n",
    "\n",
    "    %pip install quadpy\n",
    "    \n",
    "os.chdir(os.path.join(basedir, 'neuralClosureModels'))\n",
    "\n",
    "%load_ext autoreload"
   ]
  },
  {
   "cell_type": "markdown",
   "metadata": {
    "colab_type": "text",
    "id": "4Ypp2-6vHzUD"
   },
   "source": [
    "### Load modules"
   ]
  },
  {
   "cell_type": "code",
   "execution_count": null,
   "metadata": {
    "colab": {},
    "colab_type": "code",
    "id": "-MrPJTQD3Xz4"
   },
   "outputs": [],
   "source": [
    "%autoreload 2\n",
    "\n",
    "from src.utilities.DDE_Solver import ddeinttf \n",
    "from src.utilities.helper_classes import * \n",
    "import src.solvers.neuralDDE_with_adjoint_accel as ndde\n",
    "import src.advec_diff_case.advec_diff_eqn_modcall as adeq\n",
    "from src.advec_diff_case.ROM_AD_Eqn_Helper_Classes import * \n",
    "import src.advec_diff_case.rom_advec_diff_modcall as rom\n",
    "\n",
    "import time\n",
    "import sys\n",
    "from IPython.core.debugger import set_trace\n",
    "\n",
    "import numpy as np\n",
    "import tensorflow as tf\n",
    "import matplotlib.pyplot as plt\n",
    "from shutil import move\n",
    "import pickle\n",
    "\n",
    "print(tf.__version__) \n",
    "\n",
    "tf.keras.backend.set_floatx('float32')\n",
    "import logging\n",
    "tf.get_logger().setLevel(logging.ERROR)"
   ]
  },
  {
   "cell_type": "markdown",
   "metadata": {
    "colab_type": "text",
    "id": "sAACaFzjH8tF"
   },
   "source": [
    "### Class for user-defined arguments"
   ]
  },
  {
   "cell_type": "code",
   "execution_count": null,
   "metadata": {
    "colab": {},
    "colab_type": "code",
    "id": "SuiPlZi330MR"
   },
   "outputs": [],
   "source": [
    "class rom_ad_eq_nDDE_args(ndde.arguments, rom.rom_eqn_args):\n",
    "\n",
    "    def __init__(self, batch_time = 12, batch_time_skip = 2, batch_size = 5, epochs = 500, learning_rate = 0.05, decay_rate = 0.95, test_freq = 1, plot_freq = 2, \n",
    "                 d_max = 1.1, rnn_nmax = 3, rnn_dt = 0.5, state_dim = 2, adj_data_size = 2,\n",
    "                 model_dir = 'ROM_nDDE_testcase/model_dir_test', restart = 0, val_percentage = 0.2,\n",
    "                 T = 2., nt = 200, L = 1., nx = 100, Re = 250, u_bc_0 = 0., u_bc_L =0., rom_dims = 2, isplot = True, is_tstart_zero = True, \n",
    "                 ode_alg_name = 'dopri5', nsteps = 1): # add more arguments as needed\n",
    "        \n",
    "        ndde.arguments.__init__(self, data_size = nt, batch_time = batch_time, batch_time_skip = batch_time_skip, batch_size = batch_size, epochs = epochs,\n",
    "                           learning_rate = learning_rate, decay_rate = decay_rate, test_freq = test_freq, plot_freq = plot_freq, d_max = d_max, rnn_nmax = rnn_nmax, \n",
    "                           rnn_dt = rnn_dt, state_dim = rom_dims, adj_data_size = rom_dims, model_dir = model_dir, restart = restart, val_percentage = val_percentage, \n",
    "                           isplot = isplot, is_tstart_zero = is_tstart_zero)\n",
    "\n",
    "        rom.rom_eqn_args.__init__(self, T = T, nt = nt, L = L, nx = nx, Re = Re, u_bc_0 = u_bc_0, u_bc_L = u_bc_L, rom_dims = rom_dims, \n",
    "                              rom_batch_size = batch_size, ad_eq_batch_size = 1)\n",
    "        \n",
    "        self.rom_args_for_plot = rom.rom_eqn_args(T = T, nt = nt, L = L, nx = nx, Re = Re, u_bc_0 = u_bc_0, u_bc_L = u_bc_L, rom_dims = rom_dims, \n",
    "                              rom_batch_size = 1, ad_eq_batch_size = 1)\n",
    "        \n",
    "        self.ode_alg_name = ode_alg_name\n",
    "        self.nsteps = nsteps"
   ]
  },
  {
   "cell_type": "markdown",
   "metadata": {
    "colab_type": "text",
    "id": "Bgp85pBOIHjP"
   },
   "source": [
    "### Define the neural net architecture"
   ]
  },
  {
   "cell_type": "code",
   "execution_count": null,
   "metadata": {
    "colab": {},
    "colab_type": "code",
    "id": "uzl-0Opj4CWm"
   },
   "outputs": [],
   "source": [
    "class DDEFuncMain(tf.keras.Model):\n",
    "\n",
    "    def __init__(self, args, **kwargs):\n",
    "        super(DDEFuncMain, self).__init__(**kwargs)\n",
    "        \n",
    "        self.rnn_layer = tf.keras.layers.RNN(tf.keras.layers.SimpleRNNCell(5, activation='tanh', use_bias=True, kernel_initializer=tf.keras.initializers.TruncatedNormal(stddev=0.1), \n",
    "                                                                        recurrent_initializer='random_normal'))\n",
    "        \n",
    "#         self.x1 = tf.keras.layers.Dense(8, activation='tanh',\n",
    "#                                        kernel_initializer=tf.keras.initializers.TruncatedNormal(stddev=0.1), use_bias=True)\n",
    "        \n",
    "        self.out = tf.keras.layers.Dense(args.state_dim, activation='linear',\n",
    "                                        kernel_initializer=tf.keras.initializers.TruncatedNormal(stddev=0.1), use_bias=True)\n",
    "        \n",
    "        self.args = args\n",
    "\n",
    "\n",
    "    @tf.function\n",
    "    def pass_layers(self, y_nn):\n",
    "        \n",
    "        for i in range(len(self.layers)):\n",
    "            y_nn = self.layers[i](y_nn)\n",
    "            \n",
    "        return y_nn\n",
    "    \n",
    "    def call(self, y_nn):\n",
    "        \n",
    "        y_nn = self.pass_layers(y_nn)\n",
    "        \n",
    "        return y_nn"
   ]
  },
  {
   "cell_type": "code",
   "execution_count": null,
   "metadata": {},
   "outputs": [],
   "source": [
    "class DiscDDEFunc(tf.keras.Model):\n",
    "\n",
    "    def __init__(self, main, rom_model, args, **kwargs):\n",
    "        super(DiscDDEFunc, self).__init__(**kwargs)\n",
    "        \n",
    "        self.main = main\n",
    "        self.rom_model = rom_model\n",
    "        self.args = args\n",
    "        \n",
    "    def process_input(self, y, t ,d):     \n",
    "        input = []\n",
    "        for i in np.flip(np.arange(d[0])): # d is a list and d[0] contains the number of steps, while d[1] contains the time-step value to skip\n",
    "            input.append(tf.expand_dims(y(t - i*d[1]), axis=0))\n",
    "\n",
    "        input = tf.concat(input, axis=0)\n",
    "        input = tf.transpose(input, perm=[1, 0] + [i for i in range(2, input.shape.rank)])\n",
    "        \n",
    "        return input\n",
    "\n",
    "    def call_nn_part(self, input):\n",
    "        dy_dt = self.main(input)\n",
    "        return dy_dt\n",
    "    \n",
    "    def __call__(self, y, t ,d, t_start = np.array([0.])):\n",
    "        \n",
    "        y_nn = self.process_input(y, t, d)\n",
    "\n",
    "        dy_dt = self.call_nn_part(y_nn) + self.rom_model(y, t, t_start)\n",
    "        \n",
    "        return dy_dt"
   ]
  },
  {
   "cell_type": "markdown",
   "metadata": {
    "colab_type": "text",
    "id": "55JqC28YIS6c"
   },
   "source": [
    "### Initialize model related parameters"
   ]
  },
  {
   "cell_type": "code",
   "execution_count": null,
   "metadata": {
    "colab": {},
    "colab_type": "code",
    "id": "AYlTE72b4PE2"
   },
   "outputs": [],
   "source": [
    "args = rom_ad_eq_nDDE_args(batch_time = 6, batch_time_skip = 2, batch_size = 2, epochs = 200, learning_rate = 0.075, \n",
    "                           decay_rate = 0.97, test_freq = 1, plot_freq = 2, d_max = 0.4, rnn_nmax = 6+1, rnn_dt = 0.025, \n",
    "                           model_dir = 'ROM_nDDE_testcase_v3/model_dir_case_test', restart = 0, val_percentage = 1.,\n",
    "                           T = 2.0, nt = 200, L = 1., nx = 100, Re = 1000, u_bc_0 = 0., u_bc_L =0., rom_dims = 3, \n",
    "                           ode_alg_name = 'dopri5', nsteps = 5)"
   ]
  },
  {
   "cell_type": "markdown",
   "metadata": {
    "colab_type": "text",
    "id": "c3D0icD8IV9O"
   },
   "source": [
    "### Make a copy of the current script"
   ]
  },
  {
   "cell_type": "code",
   "execution_count": null,
   "metadata": {
    "colab": {
     "base_uri": "https://localhost:8080/",
     "height": 86
    },
    "colab_type": "code",
    "executionInfo": {
     "elapsed": 19905,
     "status": "ok",
     "timestamp": 1599494373726,
     "user": {
      "displayName": "Abhinav Gupta",
      "photoUrl": "https://lh3.googleusercontent.com/a-/AOh14GgMtMT5ccMf8GLgQ3yu6fAY2d6upCEZXfzS-5A6Cg=s64",
      "userId": "02552889854388316189"
     },
     "user_tz": 240
    },
    "id": "204TIzQKHNzQ",
    "outputId": "4de97d11-71f2-4cdd-d4cb-8e9f83de43d1"
   },
   "outputs": [],
   "source": [
    "testcase_dir = 'neuralClosureModels/testcases/AD_Eqn_ROM'\n",
    "save_dir_obj = save_dir(args = args, basedir = basedir, testcase_dir = testcase_dir)\n",
    "save_dir_obj(script_name = 'neuralDDE_ROM_AD_Eqn_TestCase-Reduced_IC-Accel')"
   ]
  },
  {
   "cell_type": "markdown",
   "metadata": {},
   "source": [
    "### Run setup"
   ]
  },
  {
   "cell_type": "code",
   "execution_count": null,
   "metadata": {},
   "outputs": [],
   "source": [
    "os.chdir(os.path.join(basedir, testcase_dir))\n",
    "\n",
    "%run -i setup"
   ]
  },
  {
   "cell_type": "markdown",
   "metadata": {
    "colab_type": "text",
    "id": "o9mHAYKBI1vM"
   },
   "source": [
    "## Main part starts here"
   ]
  },
  {
   "cell_type": "markdown",
   "metadata": {
    "colab_type": "text",
    "id": "pscaRbpsJE25"
   },
   "source": [
    "### Make objects and define learning-rate schedule"
   ]
  },
  {
   "cell_type": "code",
   "execution_count": null,
   "metadata": {
    "colab": {},
    "colab_type": "code",
    "id": "cnb1m74W8a3l"
   },
   "outputs": [],
   "source": [
    "time_meter = ndde.RunningAverageMeter(0.97)\n",
    "\n",
    "rom_model = rom.rom_ad_eqn(um = u_mean, ui = ui, op = op, app = args)\n",
    "func_main = DDEFuncMain(args)\n",
    "func = DiscDDEFunc(func_main, rom_model, args)\n",
    "adj_func = ndde.adj_eqn(func, args, rom_model.jac)\n",
    "\n",
    "get_batch = ndde.create_batch(true_ai_red, ai_t0, t, args)\n",
    "loss_obj = custom_loss()\n",
    "plot_obj = custom_plot(tf.concat([true_ai, val_true_ai], axis=0), tf.concat([true_ai_red, val_true_ai_red], axis=0), tf.concat([ai, val_ai], axis=0), \n",
    "                       tf.concat([t, val_t], axis=0), save_dir_obj.figsave_dir, args)\n",
    "loss_history = ndde.history(args)\n",
    "\n",
    "initial_learning_rate = args.learning_rate\n",
    "lr_schedule = tf.keras.optimizers.schedules.ExponentialDecay(\n",
    "    initial_learning_rate,\n",
    "    decay_steps=args.niters,\n",
    "    decay_rate=args.decay_rate,\n",
    "    staircase=True)"
   ]
  },
  {
   "cell_type": "markdown",
   "metadata": {
    "colab_type": "text",
    "id": "Ni3vuuA4JLWc"
   },
   "source": [
    "### Quick test to see how the true coefficients looks like"
   ]
  },
  {
   "cell_type": "code",
   "execution_count": null,
   "metadata": {
    "colab": {
     "base_uri": "https://localhost:8080/",
     "height": 295
    },
    "colab_type": "code",
    "executionInfo": {
     "elapsed": 123446,
     "status": "ok",
     "timestamp": 1599494477296,
     "user": {
      "displayName": "Abhinav Gupta",
      "photoUrl": "https://lh3.googleusercontent.com/a-/AOh14GgMtMT5ccMf8GLgQ3yu6fAY2d6upCEZXfzS-5A6Cg=s64",
      "userId": "02552889854388316189"
     },
     "user_tz": 240
    },
    "id": "KhCfEgh9HnJ5",
    "outputId": "e70a5ad6-4224-42ee-dd44-2ceda42c5793"
   },
   "outputs": [],
   "source": [
    "if args.restart == 1: \n",
    "    func.load_weights(tf.train.latest_checkpoint(save_dir_obj.checkpoint_dir))\n",
    "    pred_y = ddeinttf(func, ai_t0, tf.concat([t, val_t], axis=0), fargs=([args.rnn_nmax, args.rnn_dt],))\n",
    "    \n",
    "    plot_obj.plot(pred_y, epoch = 0)\n",
    " \n",
    "    loss_history.read()\n",
    "    \n",
    "    initial_learning_rate = 0.0175\n",
    "    lr_schedule = tf.keras.optimizers.schedules.ExponentialDecay(\n",
    "        initial_learning_rate, decay_steps=args.niters, decay_rate=0.99, staircase=True)\n",
    "    \n",
    "else:\n",
    "    plot_obj.plot(epoch = 0)"
   ]
  },
  {
   "cell_type": "markdown",
   "metadata": {
    "colab_type": "text",
    "id": "3RRmGtVWJRWC"
   },
   "source": [
    "### Training starts here"
   ]
  },
  {
   "cell_type": "code",
   "execution_count": null,
   "metadata": {
    "colab": {
     "base_uri": "https://localhost:8080/",
     "height": 1000
    },
    "colab_type": "code",
    "id": "CKLUq67EHpoy",
    "outputId": "ce29c92a-1ced-4d0e-bf57-32f704bf92b4"
   },
   "outputs": [],
   "source": [
    "optimizer = tf.keras.optimizers.RMSprop(learning_rate = lr_schedule)\n",
    "\n",
    "nDDE_train_obj = ndde.train_nDDE(func = func, adj_func = adj_func, d = [args.rnn_nmax, args.rnn_dt], loss_obj = loss_obj, batch_obj = get_batch,\n",
    "                            optimizer = optimizer, args = args, plot_obj = plot_obj, time_meter = time_meter, checkpoint_dir = save_dir_obj.checkpoint_prefix, \n",
    "                            validation_obj = val_obj, loss_history_obj = loss_history)\n",
    "\n",
    "nDDE_train_obj.train(true_ai_red, ai_t0, t, val_true_ai_red)"
   ]
  },
  {
   "cell_type": "code",
   "execution_count": null,
   "metadata": {},
   "outputs": [],
   "source": []
  }
 ],
 "metadata": {
  "colab": {
   "authorship_tag": "ABX9TyOaNIl82N0GLh3GItc1j1L9",
   "collapsed_sections": [],
   "name": "neuralDDE_ROM_AD_Eqn_TestCase.ipynb",
   "provenance": []
  },
  "kernelspec": {
   "display_name": "Python 3",
   "language": "python",
   "name": "python3"
  },
  "language_info": {
   "codemirror_mode": {
    "name": "ipython",
    "version": 3
   },
   "file_extension": ".py",
   "mimetype": "text/x-python",
   "name": "python",
   "nbconvert_exporter": "python",
   "pygments_lexer": "ipython3",
   "version": "3.7.4"
  }
 },
 "nbformat": 4,
 "nbformat_minor": 1
}
