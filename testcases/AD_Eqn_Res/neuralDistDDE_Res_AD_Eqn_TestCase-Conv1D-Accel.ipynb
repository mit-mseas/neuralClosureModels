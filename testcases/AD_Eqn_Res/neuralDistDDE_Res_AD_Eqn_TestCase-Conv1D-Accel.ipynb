{
 "cells": [
  {
   "cell_type": "code",
   "execution_count": null,
   "metadata": {
    "executionInfo": {
     "elapsed": 563,
     "status": "ok",
     "timestamp": 1601161398888,
     "user": {
      "displayName": "Abhinav Gupta",
      "photoUrl": "https://lh3.googleusercontent.com/a-/AOh14GgMtMT5ccMf8GLgQ3yu6fAY2d6upCEZXfzS-5A6Cg=s64",
      "userId": "02552889854388316189"
     },
     "user_tz": 240
    },
    "id": "mgv1axkGNvut"
   },
   "outputs": [],
   "source": [
    "basedir = '/home/abhinavgupta0110/NeuralODEs_ROM_Closure'\n",
    "\n",
    "import os\n",
    "\n",
    "is_google_colab = False\n",
    "is_use_GPU = False"
   ]
  },
  {
   "cell_type": "markdown",
   "metadata": {
    "id": "Jq_2LQ9UHud0"
   },
   "source": [
    "### Mount the Google drive if needed"
   ]
  },
  {
   "cell_type": "code",
   "execution_count": null,
   "metadata": {
    "colab": {
     "base_uri": "https://localhost:8080/",
     "height": 527
    },
    "executionInfo": {
     "elapsed": 3118,
     "status": "ok",
     "timestamp": 1601161401454,
     "user": {
      "displayName": "Abhinav Gupta",
      "photoUrl": "https://lh3.googleusercontent.com/a-/AOh14GgMtMT5ccMf8GLgQ3yu6fAY2d6upCEZXfzS-5A6Cg=s64",
      "userId": "02552889854388316189"
     },
     "user_tz": 240
    },
    "id": "IMm0YJf40nu4",
    "outputId": "a3a9148a-06b4-4932-9797-04c06e6e5f61"
   },
   "outputs": [],
   "source": [
    "if is_use_GPU:\n",
    "    gpu_info = !nvidia-smi\n",
    "    gpu_info = '\\n'.join(gpu_info)\n",
    "    if gpu_info.find('failed') >= 0:\n",
    "        print('No GPU found!')\n",
    "    else:\n",
    "        print(gpu_info)\n",
    "\n",
    "if is_google_colab:\n",
    "    from google.colab import drive\n",
    "    drive.mount('/content/drive')\n",
    "\n",
    "    %pip install quadpy\n",
    "    \n",
    "os.chdir(os.path.join(basedir, 'neuralClosureModels'))\n",
    "\n",
    "%load_ext autoreload"
   ]
  },
  {
   "cell_type": "markdown",
   "metadata": {
    "id": "4Ypp2-6vHzUD"
   },
   "source": [
    "### Load modules"
   ]
  },
  {
   "cell_type": "code",
   "execution_count": null,
   "metadata": {
    "executionInfo": {
     "elapsed": 5863,
     "status": "ok",
     "timestamp": 1601161404211,
     "user": {
      "displayName": "Abhinav Gupta",
      "photoUrl": "https://lh3.googleusercontent.com/a-/AOh14GgMtMT5ccMf8GLgQ3yu6fAY2d6upCEZXfzS-5A6Cg=s64",
      "userId": "02552889854388316189"
     },
     "user_tz": 240
    },
    "id": "-MrPJTQD3Xz4"
   },
   "outputs": [],
   "source": [
    "%autoreload 2\n",
    "\n",
    "from src.utilities.DDE_Solver import ddeinttf \n",
    "from src.utilities.helper_classes import * \n",
    "import src.solvers.neuralDistDDE_with_adjoint_accel as nddde\n",
    "import src.advec_diff_case.advec_diff_eqn_modcall as adeq\n",
    "from src.advec_diff_case.AD_Eqn_Helper_Classes import * \n",
    "\n",
    "import time\n",
    "import sys\n",
    "from IPython.core.debugger import set_trace\n",
    "\n",
    "import numpy as np\n",
    "import scipy as spy\n",
    "import tensorflow as tf\n",
    "import matplotlib.pyplot as plt\n",
    "from matplotlib import cm\n",
    "from mpl_toolkits.mplot3d import Axes3D\n",
    "from shutil import move\n",
    "import pickle\n",
    "\n",
    "print(tf.__version__)\n",
    "\n",
    "tf.keras.backend.set_floatx('float32')\n",
    "import logging\n",
    "tf.get_logger().setLevel(logging.ERROR)"
   ]
  },
  {
   "cell_type": "markdown",
   "metadata": {
    "id": "B6M2Jp_VH7k_"
   },
   "source": [
    "## Define some useful classes"
   ]
  },
  {
   "cell_type": "markdown",
   "metadata": {
    "id": "sAACaFzjH8tF"
   },
   "source": [
    "### Class for user-defined arguments"
   ]
  },
  {
   "cell_type": "code",
   "execution_count": null,
   "metadata": {
    "executionInfo": {
     "elapsed": 5855,
     "status": "ok",
     "timestamp": 1601161404212,
     "user": {
      "displayName": "Abhinav Gupta",
      "photoUrl": "https://lh3.googleusercontent.com/a-/AOh14GgMtMT5ccMf8GLgQ3yu6fAY2d6upCEZXfzS-5A6Cg=s64",
      "userId": "02552889854388316189"
     },
     "user_tz": 240
    },
    "id": "SuiPlZi330MR"
   },
   "outputs": [],
   "source": [
    "class res_ad_eq_nDistDDE_args(nddde.nddde_arguments, adeq.ad_eqn_args):\n",
    "\n",
    "    def __init__(self, batch_time = 12, batch_time_skip = 2, batch_size = 5, epochs = 500, learning_rate = 0.05, decay_rate = 0.95, test_freq = 1, plot_freq = 2, \n",
    "                 d_max = 1.1, nn_d1 = 0., nn_d2 = 0.2, state_dim = 2, adj_data_size = 2,\n",
    "                 model_dir = 'ROM_nDistDDE_testcase/model_dir_test', restart = 0, val_percentage = 0.2,\n",
    "                 T = 2., nt = 200, L = 1., nx_high_res = 100, nx_low_res = 25, Re = 250, u_bc_0 = 0., u_bc_L =0., isplot = True, is_tstart_zero = True, \n",
    "                 ode_alg_name = 'dopri5', nsteps = 1): # add more arguments as needed\n",
    "        \n",
    "        nddde.nddde_arguments.__init__(self, data_size = nt, batch_time = batch_time, batch_time_skip = batch_time_skip, batch_size = batch_size, epochs = epochs,\n",
    "                           learning_rate = learning_rate, decay_rate = decay_rate, test_freq = test_freq, plot_freq = plot_freq, d_max = d_max, nn_d1 = nn_d1, \n",
    "                           nn_d2 = nn_d2, state_dim = nx_low_res, adj_data_size = nx_low_res, model_dir = model_dir, restart = restart, val_percentage = val_percentage, \n",
    "                           isplot = isplot, is_tstart_zero = is_tstart_zero)\n",
    "\n",
    "        adeq.ad_eqn_args.__init__(self, T = T, nt = nt, L = L, nx = nx_low_res, Re = Re, u_bc_0 = u_bc_0, u_bc_L = u_bc_L,\n",
    "                              multi_solve_size = batch_size)\n",
    "        \n",
    "        self.args_for_high_res = adeq.ad_eqn_args(T = T, nt = nt, L = L, nx = nx_high_res, Re = Re, u_bc_0 = u_bc_0, u_bc_L = u_bc_L, \n",
    "                              multi_solve_size = 1)\n",
    "        \n",
    "        self.args_for_low_res = adeq.ad_eqn_args(T = T, nt = nt, L = L, nx = nx_low_res, Re = Re, u_bc_0 = u_bc_0, u_bc_L = u_bc_L, \n",
    "                              multi_solve_size = 1)\n",
    "        \n",
    "        self.nx_high_res = nx_high_res\n",
    "        self.nx_low_res = nx_low_res\n",
    "        self.ode_alg_name = ode_alg_name\n",
    "        self.nsteps = nsteps"
   ]
  },
  {
   "cell_type": "markdown",
   "metadata": {
    "id": "Bgp85pBOIHjP"
   },
   "source": [
    "### Define the neural net architecture"
   ]
  },
  {
   "cell_type": "code",
   "execution_count": null,
   "metadata": {
    "executionInfo": {
     "elapsed": 5847,
     "status": "ok",
     "timestamp": 1601161404213,
     "user": {
      "displayName": "Abhinav Gupta",
      "photoUrl": "https://lh3.googleusercontent.com/a-/AOh14GgMtMT5ccMf8GLgQ3yu6fAY2d6upCEZXfzS-5A6Cg=s64",
      "userId": "02552889854388316189"
     },
     "user_tz": 240
    },
    "id": "uzl-0Opj4CWm"
   },
   "outputs": [],
   "source": [
    "class DDEFuncMain(tf.keras.Model):\n",
    "\n",
    "    def __init__(self, args, **kwargs):\n",
    "        super(DDEFuncMain, self).__init__(**kwargs)\n",
    "        \n",
    "        self.c1 = tf.keras.layers.Conv1D(filters=4, kernel_size=3, strides=1, activation='swish',\n",
    "                                       kernel_initializer=tf.keras.initializers.TruncatedNormal(stddev=0.1), use_bias=True)\n",
    "        \n",
    "        self.c2 = tf.keras.layers.Conv1D(filters=5, kernel_size=3, strides=1, activation='swish',\n",
    "                                       kernel_initializer=tf.keras.initializers.TruncatedNormal(stddev=0.1), use_bias=True)\n",
    "        \n",
    "        self.c3 = tf.keras.layers.Conv1D(filters=5, kernel_size=3, strides=1, activation='swish',\n",
    "                                       kernel_initializer=tf.keras.initializers.TruncatedNormal(stddev=0.1), use_bias=True)\n",
    "        \n",
    "        self.dc1 = tf.keras.layers.Conv1DTranspose(filters=3, kernel_size=3, strides=1, activation='swish',\n",
    "                                       kernel_initializer=tf.keras.initializers.TruncatedNormal(stddev=0.1), use_bias=True)\n",
    "        \n",
    "        self.dc2 = tf.keras.layers.Conv1DTranspose(filters=2, kernel_size=3, strides=1, activation='swish',\n",
    "                                       kernel_initializer=tf.keras.initializers.TruncatedNormal(stddev=0.1), use_bias=True)\n",
    "        \n",
    "        self.dc_out = tf.keras.layers.Conv1DTranspose(filters=1, kernel_size=3, strides=1, activation='linear',\n",
    "                                       kernel_initializer=tf.keras.initializers.TruncatedNormal(stddev=0.1), use_bias=True)\n",
    "        \n",
    "        self.flat = tf.keras.layers.Flatten()\n",
    "        \n",
    "        self.args = args\n",
    "    \n",
    "    def process_input(self, zy):     \n",
    "        \n",
    "        z = zy[:, :self.args.state_dim]\n",
    "        y = zy[:, self.args.state_dim:]\n",
    "        z_stack_y = tf.concat([tf.expand_dims(z, axis=-1), tf.reshape(y, list(z.shape) + [-1])], axis=-1)\n",
    "        \n",
    "        return z_stack_y\n",
    "    \n",
    "    @tf.function\n",
    "    def pass_layers(self, z):\n",
    "        \n",
    "        for i in range(len(self.layers)):\n",
    "            z = self.layers[i](z)\n",
    "            \n",
    "        return z\n",
    "    \n",
    "    def call(self, z):\n",
    "        \n",
    "        z = self.process_input(z)\n",
    "        \n",
    "        z = self.pass_layers(z)\n",
    "        \n",
    "        return z"
   ]
  },
  {
   "cell_type": "code",
   "execution_count": null,
   "metadata": {
    "executionInfo": {
     "elapsed": 5840,
     "status": "ok",
     "timestamp": 1601161404214,
     "user": {
      "displayName": "Abhinav Gupta",
      "photoUrl": "https://lh3.googleusercontent.com/a-/AOh14GgMtMT5ccMf8GLgQ3yu6fAY2d6upCEZXfzS-5A6Cg=s64",
      "userId": "02552889854388316189"
     },
     "user_tz": 240
    },
    "id": "ZnfrtNCblvEr"
   },
   "outputs": [],
   "source": [
    "class DDEFuncAux(tf.keras.Model):\n",
    "\n",
    "    def __init__(self, **kwargs):\n",
    "        super(DDEFuncAux, self).__init__(**kwargs)\n",
    "        \n",
    "        self.c1 = tf.keras.layers.Conv1D(filters=2, kernel_size=3, strides=1, activation='swish',\n",
    "                                       kernel_initializer=tf.keras.initializers.TruncatedNormal(stddev=0.1), use_bias=True)\n",
    "        \n",
    "        self.c2 = tf.keras.layers.Conv1D(filters=3, kernel_size=3, strides=1, activation='swish',\n",
    "                                       kernel_initializer=tf.keras.initializers.TruncatedNormal(stddev=0.1), use_bias=True)\n",
    "        \n",
    "        self.dc1 = tf.keras.layers.Conv1DTranspose(filters=3, kernel_size=3, strides=1, activation='swish',\n",
    "                                       kernel_initializer=tf.keras.initializers.TruncatedNormal(stddev=0.1), use_bias=True)\n",
    "        \n",
    "        self.dc_out = tf.keras.layers.Conv1DTranspose(filters=3, kernel_size=3, strides=1, activation='linear',\n",
    "                                       kernel_initializer=tf.keras.initializers.TruncatedNormal(stddev=0.1), use_bias=True)\n",
    "        \n",
    "        self.flat = tf.keras.layers.Flatten()\n",
    "    \n",
    "    def process_input(self, y):     \n",
    "               \n",
    "        input = tf.expand_dims(y, axis=-1)\n",
    "        \n",
    "        return input\n",
    "    \n",
    "    @tf.function\n",
    "    def pass_layers(self, z):\n",
    "        \n",
    "        for i in range(len(self.layers)):\n",
    "            z = self.layers[i](z)\n",
    "            \n",
    "        return z\n",
    "    \n",
    "    def call(self, z):\n",
    "        \n",
    "        z = self.process_input(z)\n",
    "        \n",
    "        z = self.pass_layers(z)\n",
    "        \n",
    "        return z"
   ]
  },
  {
   "cell_type": "code",
   "execution_count": null,
   "metadata": {
    "executionInfo": {
     "elapsed": 5832,
     "status": "ok",
     "timestamp": 1601161404214,
     "user": {
      "displayName": "Abhinav Gupta",
      "photoUrl": "https://lh3.googleusercontent.com/a-/AOh14GgMtMT5ccMf8GLgQ3yu6fAY2d6upCEZXfzS-5A6Cg=s64",
      "userId": "02552889854388316189"
     },
     "user_tz": 240
    },
    "id": "aT9x25J2l3j9"
   },
   "outputs": [],
   "source": [
    "class split_zy:\n",
    "    def __init__(self, zy, args):\n",
    "        self.zy = zy\n",
    "        self.args = args\n",
    "\n",
    "    def __call__(self, t):\n",
    "        return self.zy(t)[:, :self.args.state_dim]"
   ]
  },
  {
   "cell_type": "code",
   "execution_count": null,
   "metadata": {
    "executionInfo": {
     "elapsed": 5825,
     "status": "ok",
     "timestamp": 1601161404215,
     "user": {
      "displayName": "Abhinav Gupta",
      "photoUrl": "https://lh3.googleusercontent.com/a-/AOh14GgMtMT5ccMf8GLgQ3yu6fAY2d6upCEZXfzS-5A6Cg=s64",
      "userId": "02552889854388316189"
     },
     "user_tz": 240
    },
    "id": "GPgDBnnel50q"
   },
   "outputs": [],
   "source": [
    "class DistDDEFunc(tf.keras.Model):\n",
    "\n",
    "    def __init__(self, main, aux, rom_model, args, **kwargs):\n",
    "        super(DistDDEFunc, self).__init__(**kwargs)\n",
    "        self.main = main\n",
    "        self.aux = aux\n",
    "        self.rom_model = rom_model\n",
    "        self.args = args\n",
    "    \n",
    "    def process_input(self, y, t ,d):     \n",
    "        \n",
    "        input = [y(t)]\n",
    "        input.append(y(t - d[0])[:, :self.args.state_dim])\n",
    "        input.append(y(t - d[1])[:, :self.args.state_dim])\n",
    "        \n",
    "        return input\n",
    "    \n",
    "    def call_nn_part(self, input):\n",
    "        \n",
    "        dz_dt = self.main(input[0])\n",
    "        gz_t1 = self.aux(input[1])\n",
    "        gz_t2 = self.aux(input[2])\n",
    "        dy_dt = gz_t1 - gz_t2\n",
    "        \n",
    "        return tf.concat([dz_dt, dy_dt], axis=-1)\n",
    "\n",
    "    def __call__(self, y, t ,d, t_start = np.array([0.])):\n",
    "        \n",
    "        get_z = split_zy(y, self.args)       \n",
    "        \n",
    "        input = self.process_input(y, t ,d)\n",
    "        dzy_dt = self.call_nn_part(input)\n",
    "        \n",
    "        rom_output = self.rom_model(get_z, t, t_start)\n",
    "        rom_output = tf.concat([rom_output, tf.zeros([dzy_dt.shape[0], dzy_dt.shape[1] - rom_output.shape[1]])], axis=-1)\n",
    "        \n",
    "        dzy_dt = dzy_dt + rom_output\n",
    "        \n",
    "        return dzy_dt"
   ]
  },
  {
   "cell_type": "markdown",
   "metadata": {
    "id": "55JqC28YIS6c"
   },
   "source": [
    "### Initialize model related parameters"
   ]
  },
  {
   "cell_type": "code",
   "execution_count": null,
   "metadata": {
    "executionInfo": {
     "elapsed": 5788,
     "status": "ok",
     "timestamp": 1601161404218,
     "user": {
      "displayName": "Abhinav Gupta",
      "photoUrl": "https://lh3.googleusercontent.com/a-/AOh14GgMtMT5ccMf8GLgQ3yu6fAY2d6upCEZXfzS-5A6Cg=s64",
      "userId": "02552889854388316189"
     },
     "user_tz": 240
    },
    "id": "AYlTE72b4PE2"
   },
   "outputs": [],
   "source": [
    "args = res_ad_eq_nDistDDE_args(batch_time = 6, batch_time_skip = 2, batch_size = 8, epochs = 250, learning_rate = 0.075, \n",
    "                               decay_rate = 0.97, test_freq = 1, plot_freq = 1, d_max = 0.5, nn_d1 = 0., nn_d2 = 0.3, \n",
    "                               model_dir = 'Res_nDistDDE_testcase_v3/model_dir_case_test', restart = 0, val_percentage = 1., \n",
    "                               T = 1.25, nt = 125, L = 1., nx_high_res = 100, nx_low_res = 25, Re = 1000, u_bc_0 = 0., \n",
    "                               u_bc_L =0., ode_alg_name = 'vode', nsteps = -1)"
   ]
  },
  {
   "cell_type": "markdown",
   "metadata": {
    "id": "c3D0icD8IV9O"
   },
   "source": [
    "### Make a copy of the current script"
   ]
  },
  {
   "cell_type": "code",
   "execution_count": null,
   "metadata": {
    "colab": {
     "base_uri": "https://localhost:8080/",
     "height": 69
    },
    "executionInfo": {
     "elapsed": 7206,
     "status": "ok",
     "timestamp": 1601161405647,
     "user": {
      "displayName": "Abhinav Gupta",
      "photoUrl": "https://lh3.googleusercontent.com/a-/AOh14GgMtMT5ccMf8GLgQ3yu6fAY2d6upCEZXfzS-5A6Cg=s64",
      "userId": "02552889854388316189"
     },
     "user_tz": 240
    },
    "id": "204TIzQKHNzQ",
    "outputId": "ef93b18b-52e0-4afb-9230-3872cf254538"
   },
   "outputs": [],
   "source": [
    "testcase_dir = 'neuralClosureModels/testcases/AD_Eqn_Res'\n",
    "save_dir_obj = save_dir(args = args, basedir = basedir, testcase_dir = testcase_dir)\n",
    "save_dir_obj(script_name = 'neuralDistDDE_Res_AD_Eqn_TestCase-Conv1D-Accel')"
   ]
  },
  {
   "cell_type": "markdown",
   "metadata": {},
   "source": [
    "### Run setup"
   ]
  },
  {
   "cell_type": "code",
   "execution_count": null,
   "metadata": {},
   "outputs": [],
   "source": [
    "os.chdir(os.path.join(basedir, testcase_dir))\n",
    "\n",
    "%run -i setup"
   ]
  },
  {
   "cell_type": "markdown",
   "metadata": {
    "id": "o9mHAYKBI1vM"
   },
   "source": [
    "## Main part starts here"
   ]
  },
  {
   "cell_type": "markdown",
   "metadata": {
    "id": "pscaRbpsJE25"
   },
   "source": [
    "### Make objects and define learning-rate schedule"
   ]
  },
  {
   "cell_type": "code",
   "execution_count": null,
   "metadata": {
    "executionInfo": {
     "elapsed": 94577,
     "status": "ok",
     "timestamp": 1601161493057,
     "user": {
      "displayName": "Abhinav Gupta",
      "photoUrl": "https://lh3.googleusercontent.com/a-/AOh14GgMtMT5ccMf8GLgQ3yu6fAY2d6upCEZXfzS-5A6Cg=s64",
      "userId": "02552889854388316189"
     },
     "user_tz": 240
    },
    "id": "cnb1m74W8a3l"
   },
   "outputs": [],
   "source": [
    "time_meter = nddde.RunningAverageMeter(0.97)\n",
    "\n",
    "adv_eq = adeq.ad_eqn(op = adeq.operators(args), app = args)\n",
    "func_main = DDEFuncMain(args)\n",
    "func_aux = DDEFuncAux()\n",
    "func = DistDDEFunc(func_main, func_aux, adv_eq, args)\n",
    "adj_func = nddde.nddde_adj_eqn(func, args, adv_eq.jac)\n",
    "get_batch = nddde.create_batch(true_u_low_res, u0, t, args)\n",
    "loss_obj = custom_loss()\n",
    "plot_obj = custom_plot(tf.concat([true_u_low_res, val_true_u_low_res], axis=0), \n",
    "                       tf.concat([u_low_res, val_u_low_res], axis=0), x_low_res, tf.concat([t, val_t], axis=0), save_dir_obj.figsave_dir, args)\n",
    "loss_history = nddde.history(args)\n",
    "val_obj = nddde.create_validation_set_nddde(u0, t, args)\n",
    "\n",
    "initial_learning_rate = args.learning_rate\n",
    "lr_schedule = tf.keras.optimizers.schedules.ExponentialDecay(\n",
    "    initial_learning_rate,\n",
    "    decay_steps=args.niters,\n",
    "    decay_rate=args.decay_rate,\n",
    "    staircase=True)"
   ]
  },
  {
   "cell_type": "markdown",
   "metadata": {
    "id": "Ni3vuuA4JLWc"
   },
   "source": [
    "### Quick test to see how the true coefficients looks like"
   ]
  },
  {
   "cell_type": "code",
   "execution_count": null,
   "metadata": {
    "colab": {
     "base_uri": "https://localhost:8080/",
     "height": 248
    },
    "executionInfo": {
     "elapsed": 95523,
     "status": "ok",
     "timestamp": 1601161494011,
     "user": {
      "displayName": "Abhinav Gupta",
      "photoUrl": "https://lh3.googleusercontent.com/a-/AOh14GgMtMT5ccMf8GLgQ3yu6fAY2d6upCEZXfzS-5A6Cg=s64",
      "userId": "02552889854388316189"
     },
     "user_tz": 240
    },
    "id": "KhCfEgh9HnJ5",
    "outputId": "66803ea8-575d-4a1b-c693-109bbb2ef8ed"
   },
   "outputs": [],
   "source": [
    "if args.restart == 1: \n",
    "    func.load_weights(tf.train.latest_checkpoint(save_dir_obj.checkpoint_dir))\n",
    "    process_true_z0 = nddde.process_DistDDE_IC(u0, func_aux, t_lowerlim = t[0] - args.nn_d2, t_upperlim = t[0] - args.nn_d1)\n",
    "    pred_zy = ddeinttf(func, process_true_z0, tf.concat([t, val_t], axis=0), fargs=([args.nn_d1, args.nn_d2],), alg_name = args.ode_alg_name, nsteps = args.nsteps)\n",
    "    \n",
    "    plot_obj.plot(pred_zy[:, :, :args.state_dim], epoch = 0)\n",
    "\n",
    "    loss_history.read()\n",
    "    \n",
    "    initial_learning_rate = 0.05\n",
    "    lr_schedule = tf.keras.optimizers.schedules.ExponentialDecay(\n",
    "        initial_learning_rate, decay_steps=args.niters, decay_rate=0.96, staircase=True)\n",
    "    \n",
    "else:\n",
    "    plot_obj.plot(epoch = 0)"
   ]
  },
  {
   "cell_type": "markdown",
   "metadata": {
    "id": "3RRmGtVWJRWC"
   },
   "source": [
    "### Training starts here"
   ]
  },
  {
   "cell_type": "code",
   "execution_count": null,
   "metadata": {
    "colab": {
     "base_uri": "https://localhost:8080/",
     "height": 1000
    },
    "id": "CKLUq67EHpoy",
    "outputId": "e9bdc282-58ab-4fee-fa2f-135598e0f406"
   },
   "outputs": [],
   "source": [
    "optimizer = tf.keras.optimizers.RMSprop(learning_rate = lr_schedule)\n",
    "\n",
    "nDistDDE_train_obj = nddde.train_nDistDDE(func = func, adj_func = adj_func, d = [args.nn_d1, args.nn_d2], loss_obj = loss_obj, batch_obj = get_batch,\n",
    "                            optimizer = optimizer, args = args, plot_obj = plot_obj, time_meter = time_meter, checkpoint_dir = save_dir_obj.checkpoint_prefix,\n",
    "                            validation_obj = val_obj, loss_history_obj = loss_history)\n",
    "\n",
    "nDistDDE_train_obj.train(true_u_low_res, u0, t, val_true_u_low_res)"
   ]
  },
  {
   "cell_type": "code",
   "execution_count": null,
   "metadata": {},
   "outputs": [],
   "source": []
  }
 ],
 "metadata": {
  "accelerator": "GPU",
  "colab": {
   "collapsed_sections": [],
   "machine_shape": "hm",
   "name": "neuralDistDDE_Res_AD_Eqn_TestCase.ipynb",
   "provenance": []
  },
  "kernelspec": {
   "display_name": "Python 3",
   "language": "python",
   "name": "python3"
  },
  "language_info": {
   "codemirror_mode": {
    "name": "ipython",
    "version": 3
   },
   "file_extension": ".py",
   "mimetype": "text/x-python",
   "name": "python",
   "nbconvert_exporter": "python",
   "pygments_lexer": "ipython3",
   "version": "3.7.4"
  }
 },
 "nbformat": 4,
 "nbformat_minor": 1
}
