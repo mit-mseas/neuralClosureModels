{
 "cells": [
  {
   "cell_type": "markdown",
   "metadata": {
    "colab_type": "text",
    "id": "view-in-github"
   },
   "source": [
    "<a href=\"https://colab.research.google.com/github/gabhinav0110/neuralDDE_ROM_Closure/blob/master/DDE_Examples.ipynb\" target=\"_parent\"><img src=\"https://colab.research.google.com/assets/colab-badge.svg\" alt=\"Open In Colab\"/></a>"
   ]
  },
  {
   "cell_type": "code",
   "execution_count": null,
   "metadata": {
    "colab": {
     "base_uri": "https://localhost:8080/",
     "height": 51
    },
    "colab_type": "code",
    "executionInfo": {
     "elapsed": 339,
     "status": "ok",
     "timestamp": 1598222918495,
     "user": {
      "displayName": "Abhinav Gupta",
      "photoUrl": "https://lh3.googleusercontent.com/a-/AOh14GgMtMT5ccMf8GLgQ3yu6fAY2d6upCEZXfzS-5A6Cg=s64",
      "userId": "02552889854388316189"
     },
     "user_tz": 240
    },
    "id": "QhIcCHyfSDCm",
    "outputId": "499db425-eb02-45a8-8363-56d9f0d45def"
   },
   "outputs": [],
   "source": [
    "basedir = '/home/abhinavgupta0110/NeuralODEs_ROM_Closure'\n",
    "\n",
    "import os\n",
    "\n",
    "is_google_colab = False\n",
    "is_use_GPU = False"
   ]
  },
  {
   "cell_type": "code",
   "execution_count": null,
   "metadata": {},
   "outputs": [],
   "source": [
    "if is_use_GPU:\n",
    "    gpu_info = !nvidia-smi\n",
    "    gpu_info = '\\n'.join(gpu_info)\n",
    "    if gpu_info.find('failed') >= 0:\n",
    "        print('No GPU found!')\n",
    "    else:\n",
    "        print(gpu_info)\n",
    "\n",
    "if is_google_colab:\n",
    "    from google.colab import drive\n",
    "    drive.mount('/content/drive')\n",
    "\n",
    "    %pip install quadpy\n",
    "\n",
    "os.chdir(os.path.join(basedir, 'neuralClosureModels'))"
   ]
  },
  {
   "cell_type": "code",
   "execution_count": null,
   "metadata": {
    "colab": {},
    "colab_type": "code",
    "executionInfo": {
     "elapsed": 2719,
     "status": "ok",
     "timestamp": 1598222931601,
     "user": {
      "displayName": "Abhinav Gupta",
      "photoUrl": "https://lh3.googleusercontent.com/a-/AOh14GgMtMT5ccMf8GLgQ3yu6fAY2d6upCEZXfzS-5A6Cg=s64",
      "userId": "02552889854388316189"
     },
     "user_tz": 240
    },
    "id": "M0l0WUyIRabo"
   },
   "outputs": [],
   "source": [
    "import tensorflow as tf\n",
    "from pylab import cos, linspace, subplots, array\n",
    "from src.utilities.DDE_Solver import ddeinttf\n",
    "\n",
    "tf.keras.backend.set_floatx('float32')"
   ]
  },
  {
   "cell_type": "markdown",
   "metadata": {
    "colab_type": "text",
    "id": "vDfep5xjUoPq"
   },
   "source": [
    "### Example 1"
   ]
  },
  {
   "cell_type": "code",
   "execution_count": null,
   "metadata": {
    "colab": {
     "base_uri": "https://localhost:8080/",
     "height": 282
    },
    "colab_type": "code",
    "executionInfo": {
     "elapsed": 2851,
     "status": "ok",
     "timestamp": 1598222938118,
     "user": {
      "displayName": "Abhinav Gupta",
      "photoUrl": "https://lh3.googleusercontent.com/a-/AOh14GgMtMT5ccMf8GLgQ3yu6fAY2d6upCEZXfzS-5A6Cg=s64",
      "userId": "02552889854388316189"
     },
     "user_tz": 240
    },
    "id": "lT5h_vJKQ3y3",
    "outputId": "2e4e4664-ab10-4a90-f73c-87d98a55ef1b"
   },
   "outputs": [],
   "source": [
    "class model(tf.keras.Model):\n",
    "    def call(self, Y, t):\n",
    "        return -Y(t - 3 * cos(Y(t)) ** 2)\n",
    "\n",
    "class values_before_zero(tf.keras.Model):\n",
    "    def call(self, t):\n",
    "        return tf.convert_to_tensor([1.], tf.float32)\n",
    "\n",
    "tt = tf.linspace(0., 30., 2000)\n",
    "\n",
    "ic = values_before_zero()\n",
    "func = model()\n",
    "yy = ddeinttf(func, ic, tt)\n",
    "\n",
    "fig, ax = subplots(1, figsize=(4, 4))\n",
    "ax.plot(tt.numpy(), yy[:, 0].numpy())"
   ]
  },
  {
   "cell_type": "markdown",
   "metadata": {
    "colab_type": "text",
    "id": "UQCTX1r6UpXX"
   },
   "source": [
    "### Example 2"
   ]
  },
  {
   "cell_type": "code",
   "execution_count": null,
   "metadata": {
    "colab": {
     "base_uri": "https://localhost:8080/",
     "height": 299
    },
    "colab_type": "code",
    "executionInfo": {
     "elapsed": 5375,
     "status": "ok",
     "timestamp": 1598222941031,
     "user": {
      "displayName": "Abhinav Gupta",
      "photoUrl": "https://lh3.googleusercontent.com/a-/AOh14GgMtMT5ccMf8GLgQ3yu6fAY2d6upCEZXfzS-5A6Cg=s64",
      "userId": "02552889854388316189"
     },
     "user_tz": 240
    },
    "id": "V40TNHM_RGht",
    "outputId": "e66ddd41-4afa-46e3-cd63-421a3addcce8"
   },
   "outputs": [],
   "source": [
    "class model(tf.keras.Model):\n",
    "    def call(self, Y, t, d):\n",
    "        x = Y(t)[0, 0]\n",
    "        y = Y(t)[0, 1]\n",
    "        xd = Y(t - d)[0, 0]\n",
    "        yd = Y(t - d)[0, 1]\n",
    "        return tf.expand_dims(tf.convert_to_tensor([0.5 * x * (1 - yd), -0.5 * y * (1 - xd)]), axis=0)\n",
    "\n",
    "class values_before_zero(tf.keras.Model):\n",
    "    def call(self, t):\n",
    "        return tf.expand_dims(tf.convert_to_tensor([1., 2.]), axis=0)\n",
    "\n",
    "tt = tf.linspace(2., 30., 2000)\n",
    "\n",
    "ic = values_before_zero()\n",
    "func = model()\n",
    "\n",
    "fig, ax = subplots(1, figsize=(4, 4))\n",
    "\n",
    "for d in tf.convert_to_tensor([0., 0.2], tf.float32):\n",
    "    print(\"Computing for d=%.02f\" % d)\n",
    "    yy = ddeinttf(func, ic, tt, fargs=(d,))\n",
    "    # WE PLOT X AGAINST Y\n",
    "    ax.plot(yy[:, 0, 0], yy[:, 0, 1], lw=2, label=\"delay = %.01f\" % d)"
   ]
  },
  {
   "cell_type": "markdown",
   "metadata": {
    "colab_type": "text",
    "id": "N73w9VzyUt-s"
   },
   "source": [
    "### Example 3 (Time-reversed)"
   ]
  },
  {
   "cell_type": "code",
   "execution_count": null,
   "metadata": {
    "colab": {
     "base_uri": "https://localhost:8080/",
     "height": 282
    },
    "colab_type": "code",
    "executionInfo": {
     "elapsed": 6215,
     "status": "ok",
     "timestamp": 1598222942920,
     "user": {
      "displayName": "Abhinav Gupta",
      "photoUrl": "https://lh3.googleusercontent.com/a-/AOh14GgMtMT5ccMf8GLgQ3yu6fAY2d6upCEZXfzS-5A6Cg=s64",
      "userId": "02552889854388316189"
     },
     "user_tz": 240
    },
    "id": "s36iCa2lRP0E",
    "outputId": "344b8b88-c967-4653-dca7-6c42afd1777c"
   },
   "outputs": [],
   "source": [
    "class model(tf.keras.Model):\n",
    "    def call(self, Y, t):\n",
    "        return Y(t + 3 * cos(Y(t)) ** 2)\n",
    "\n",
    "class values_before_zero(tf.keras.Model):\n",
    "    def call(self, t):\n",
    "        return tf.convert_to_tensor([1.], tf.float32)\n",
    "\n",
    "tt = tf.linspace(30., 0, 2000)\n",
    "\n",
    "ic = values_before_zero()\n",
    "func = model()\n",
    "yy = ddeinttf(func, ic, tt, alg_name='vode')\n",
    "\n",
    "fig, ax = subplots(1, figsize=(4, 4))\n",
    "ax.plot(tt.numpy(), yy[:, 0].numpy())"
   ]
  },
  {
   "cell_type": "code",
   "execution_count": null,
   "metadata": {
    "colab": {},
    "colab_type": "code",
    "id": "1ubUT_e-ZArI"
   },
   "outputs": [],
   "source": []
  }
 ],
 "metadata": {
  "colab": {
   "collapsed_sections": [],
   "name": "DDE_Examples.ipynb",
   "provenance": []
  },
  "kernelspec": {
   "display_name": "Python 3",
   "language": "python",
   "name": "python3"
  },
  "language_info": {
   "codemirror_mode": {
    "name": "ipython",
    "version": 3
   },
   "file_extension": ".py",
   "mimetype": "text/x-python",
   "name": "python",
   "nbconvert_exporter": "python",
   "pygments_lexer": "ipython3",
   "version": "3.7.4"
  }
 },
 "nbformat": 4,
 "nbformat_minor": 1
}
