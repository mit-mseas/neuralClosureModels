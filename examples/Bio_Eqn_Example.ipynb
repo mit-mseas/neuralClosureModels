{
 "cells": [
  {
   "cell_type": "code",
   "execution_count": null,
   "metadata": {
    "executionInfo": {
     "elapsed": 671,
     "status": "ok",
     "timestamp": 1601748745634,
     "user": {
      "displayName": "Abhinav Gupta",
      "photoUrl": "https://lh3.googleusercontent.com/a-/AOh14GgMtMT5ccMf8GLgQ3yu6fAY2d6upCEZXfzS-5A6Cg=s64",
      "userId": "02552889854388316189"
     },
     "user_tz": 240
    },
    "id": "fEmoqsriaTli"
   },
   "outputs": [],
   "source": [
    "basedir = '/home/abhinavgupta0110/NeuralODEs_ROM_Closure'\n",
    "\n",
    "import os\n",
    "\n",
    "is_google_colab = False\n",
    "is_use_GPU = False"
   ]
  },
  {
   "cell_type": "code",
   "execution_count": null,
   "metadata": {
    "colab": {
     "base_uri": "https://localhost:8080/",
     "height": 187
    },
    "executionInfo": {
     "elapsed": 3474,
     "status": "ok",
     "timestamp": 1601748748454,
     "user": {
      "displayName": "Abhinav Gupta",
      "photoUrl": "https://lh3.googleusercontent.com/a-/AOh14GgMtMT5ccMf8GLgQ3yu6fAY2d6upCEZXfzS-5A6Cg=s64",
      "userId": "02552889854388316189"
     },
     "user_tz": 240
    },
    "id": "fR1GRitOafTU",
    "outputId": "6ae06773-3173-4cae-adbf-2f76b713e985"
   },
   "outputs": [],
   "source": [
    "if is_use_GPU:\n",
    "    gpu_info = !nvidia-smi\n",
    "    gpu_info = '\\n'.join(gpu_info)\n",
    "    if gpu_info.find('failed') >= 0:\n",
    "        print('No GPU found!')\n",
    "    else:\n",
    "        print(gpu_info)\n",
    "\n",
    "if is_google_colab:\n",
    "    from google.colab import drive\n",
    "    drive.mount('/content/drive')\n",
    "\n",
    "    %pip install quadpy\n",
    "\n",
    "os.chdir(os.path.join(basedir, 'neuralClosureModels'))"
   ]
  },
  {
   "cell_type": "code",
   "execution_count": null,
   "metadata": {
    "executionInfo": {
     "elapsed": 10536,
     "status": "ok",
     "timestamp": 1601748755532,
     "user": {
      "displayName": "Abhinav Gupta",
      "photoUrl": "https://lh3.googleusercontent.com/a-/AOh14GgMtMT5ccMf8GLgQ3yu6fAY2d6upCEZXfzS-5A6Cg=s64",
      "userId": "02552889854388316189"
     },
     "user_tz": 240
    },
    "id": "L2prII95afur"
   },
   "outputs": [],
   "source": [
    "from src.utilities.DDE_Solver import ddeinttf \n",
    "import src.bio_eqn_case.bio_eqn_modcall as bio\n",
    "\n",
    "import time\n",
    "from math import *\n",
    "from IPython.core.debugger import set_trace\n",
    "\n",
    "import numpy as np\n",
    "import tensorflow as tf\n",
    "import matplotlib.pyplot as plt\n",
    "\n",
    "tf.keras.backend.set_floatx('float32')"
   ]
  },
  {
   "cell_type": "code",
   "execution_count": null,
   "metadata": {
    "executionInfo": {
     "elapsed": 10525,
     "status": "ok",
     "timestamp": 1601748755534,
     "user": {
      "displayName": "Abhinav Gupta",
      "photoUrl": "https://lh3.googleusercontent.com/a-/AOh14GgMtMT5ccMf8GLgQ3yu6fAY2d6upCEZXfzS-5A6Cg=s64",
      "userId": "02552889854388316189"
     },
     "user_tz": 240
    },
    "id": "o_fUJX85etQB"
   },
   "outputs": [],
   "source": [
    "class initial_cond:\n",
    "\n",
    "    def __init__(self, app):\n",
    "        self.app = app\n",
    "\n",
    "    def __call__(self, t):\n",
    "\n",
    "        if self.app.bio_model == 'NPZ':\n",
    "            x0 = [self.app.T_bio - 0.5*2, 0.5, 0.5]\n",
    "        elif self.app.bio_model == 'NPZD':\n",
    "            x0 = [self.app.T_bio - 0.5*2, 0.5, 0.5, 0.]\n",
    "        elif self.app.bio_model == 'NNPZD':\n",
    "            x0 = [self.app.T_bio/2., self.app.T_bio/2. - 2*0.5, 0.5, 0.5, 0.]\n",
    "        return tf.convert_to_tensor([x0], dtype=tf.float32)"
   ]
  },
  {
   "cell_type": "markdown",
   "metadata": {
    "id": "_QuhGWlmWS3C"
   },
   "source": [
    "## NPZ Model"
   ]
  },
  {
   "cell_type": "code",
   "execution_count": null,
   "metadata": {
    "executionInfo": {
     "elapsed": 10514,
     "status": "ok",
     "timestamp": 1601748755535,
     "user": {
      "displayName": "Abhinav Gupta",
      "photoUrl": "https://lh3.googleusercontent.com/a-/AOh14GgMtMT5ccMf8GLgQ3yu6fAY2d6upCEZXfzS-5A6Cg=s64",
      "userId": "02552889854388316189"
     },
     "user_tz": 240
    },
    "id": "YhWUiokFgHY2"
   },
   "outputs": [],
   "source": [
    "app = bio.bio_eqn_args(T = 50., nt = 500, z = -15, k_w = 0.067, alpha = 0.025, V_m = 1.5, I_0 = 158.075, K_u = 1., Psi = 1.46,\n",
    "                    Xi = 0.1, R_m = 1.5, Lambda = 0.06, gamma = 0.3, Tau = 0.145, Phi = 0.175, Omega = 0.041, T_bio = 30, bio_model = 'NPZ')\n",
    "\n",
    "x0 = initial_cond(app) # Initial conditions\n",
    "t = tf.linspace(0., app.T, app.nt) # Time array"
   ]
  },
  {
   "cell_type": "code",
   "execution_count": null,
   "metadata": {
    "executionInfo": {
     "elapsed": 12522,
     "status": "ok",
     "timestamp": 1601748757556,
     "user": {
      "displayName": "Abhinav Gupta",
      "photoUrl": "https://lh3.googleusercontent.com/a-/AOh14GgMtMT5ccMf8GLgQ3yu6fAY2d6upCEZXfzS-5A6Cg=s64",
      "userId": "02552889854388316189"
     },
     "user_tz": 240
    },
    "id": "HBot7ohGsWJV"
   },
   "outputs": [],
   "source": [
    "x_npz = ddeinttf(bio.bio_eqn(app), x0, t)"
   ]
  },
  {
   "cell_type": "code",
   "execution_count": null,
   "metadata": {
    "colab": {
     "base_uri": "https://localhost:8080/",
     "height": 312
    },
    "executionInfo": {
     "elapsed": 12920,
     "status": "ok",
     "timestamp": 1601748757968,
     "user": {
      "displayName": "Abhinav Gupta",
      "photoUrl": "https://lh3.googleusercontent.com/a-/AOh14GgMtMT5ccMf8GLgQ3yu6fAY2d6upCEZXfzS-5A6Cg=s64",
      "userId": "02552889854388316189"
     },
     "user_tz": 240
    },
    "id": "J2aU1kTrseCU",
    "outputId": "265550d5-0142-403d-d813-710fa38b9bab"
   },
   "outputs": [],
   "source": [
    "fig = plt.figure(figsize=(6, 4), facecolor='white')\n",
    "ax_x1 = fig.add_subplot(111)\n",
    "\n",
    "ax_x1.cla()\n",
    "ax_x1.set_title('Bio Model Evolution')\n",
    "ax_x1.set_xlabel('Bio Variable')\n",
    "ax_x1.set_ylabel('t')\n",
    "ax_x1.plot(t.numpy(), x_npz[:, 0, 0], '-r', label = 'N')\n",
    "ax_x1.plot(t.numpy(), x_npz[:, 0, 1], '-g', label = 'P')\n",
    "ax_x1.plot(t.numpy(), x_npz[:, 0, 2], '-b', label = 'Z')\n",
    "ax_x1.set_xlim(t[0], t[-1])\n",
    "ax_x1.legend(loc = 'best')\n"
   ]
  },
  {
   "cell_type": "markdown",
   "metadata": {
    "id": "0rkiGW2lWWMY"
   },
   "source": [
    "## NPZD Model"
   ]
  },
  {
   "cell_type": "code",
   "execution_count": null,
   "metadata": {
    "executionInfo": {
     "elapsed": 12909,
     "status": "ok",
     "timestamp": 1601748757969,
     "user": {
      "displayName": "Abhinav Gupta",
      "photoUrl": "https://lh3.googleusercontent.com/a-/AOh14GgMtMT5ccMf8GLgQ3yu6fAY2d6upCEZXfzS-5A6Cg=s64",
      "userId": "02552889854388316189"
     },
     "user_tz": 240
    },
    "id": "7IGIUY5dT7iN"
   },
   "outputs": [],
   "source": [
    "app = bio.bio_eqn_args(T = 50., nt = 500, z = -15, k_w = 0.067, alpha = 0.025, V_m = 1.5, I_0 = 158.075, K_u = 1., Psi = 1.46,\n",
    "                    Xi = 0.1, R_m = 1., Lambda = 0.06, gamma = 0.3, Tau = 0.145, Phi = 0.175, Omega = 0.041, T_bio = 30, bio_model = 'NPZD')\n",
    "\n",
    "x0 = initial_cond(app) # Initial conditions\n",
    "t = tf.linspace(0., app.T, app.nt) # Time array"
   ]
  },
  {
   "cell_type": "code",
   "execution_count": null,
   "metadata": {
    "executionInfo": {
     "elapsed": 14536,
     "status": "ok",
     "timestamp": 1601748759607,
     "user": {
      "displayName": "Abhinav Gupta",
      "photoUrl": "https://lh3.googleusercontent.com/a-/AOh14GgMtMT5ccMf8GLgQ3yu6fAY2d6upCEZXfzS-5A6Cg=s64",
      "userId": "02552889854388316189"
     },
     "user_tz": 240
    },
    "id": "Es6lpViHWcat"
   },
   "outputs": [],
   "source": [
    "x_npzd = ddeinttf(bio.bio_eqn(app), x0, t)"
   ]
  },
  {
   "cell_type": "code",
   "execution_count": null,
   "metadata": {
    "colab": {
     "base_uri": "https://localhost:8080/",
     "height": 312
    },
    "executionInfo": {
     "elapsed": 14928,
     "status": "ok",
     "timestamp": 1601748760013,
     "user": {
      "displayName": "Abhinav Gupta",
      "photoUrl": "https://lh3.googleusercontent.com/a-/AOh14GgMtMT5ccMf8GLgQ3yu6fAY2d6upCEZXfzS-5A6Cg=s64",
      "userId": "02552889854388316189"
     },
     "user_tz": 240
    },
    "id": "zaPXq6lDWeQ1",
    "outputId": "6676e6d9-faa8-4cfe-e04d-23cc7b40cfcb"
   },
   "outputs": [],
   "source": [
    "fig = plt.figure(figsize=(6, 4), facecolor='white')\n",
    "ax_x1 = fig.add_subplot(111)\n",
    "\n",
    "ax_x1.cla()\n",
    "ax_x1.set_title('Bio Model Evolution')\n",
    "ax_x1.set_xlabel('Bio Variable')\n",
    "ax_x1.set_ylabel('t')\n",
    "ax_x1.plot(t.numpy(), x_npzd[:, 0, 0], '-r', label = 'N')\n",
    "ax_x1.plot(t.numpy(), x_npzd[:, 0, 1], '-g', label = 'P')\n",
    "ax_x1.plot(t.numpy(), x_npzd[:, 0, 2], '-b', label = 'Z')\n",
    "ax_x1.plot(t.numpy(), x_npzd[:, 0, 3], '-m', label = 'D')\n",
    "ax_x1.set_xlim(t[0], t[-1])\n",
    "ax_x1.legend(loc = 'best')"
   ]
  },
  {
   "cell_type": "markdown",
   "metadata": {
    "id": "ZaJl_iXVXA23"
   },
   "source": [
    "## NNPZD Model"
   ]
  },
  {
   "cell_type": "code",
   "execution_count": null,
   "metadata": {
    "executionInfo": {
     "elapsed": 14915,
     "status": "ok",
     "timestamp": 1601748760014,
     "user": {
      "displayName": "Abhinav Gupta",
      "photoUrl": "https://lh3.googleusercontent.com/a-/AOh14GgMtMT5ccMf8GLgQ3yu6fAY2d6upCEZXfzS-5A6Cg=s64",
      "userId": "02552889854388316189"
     },
     "user_tz": 240
    },
    "id": "Vey6ptzhW8p3"
   },
   "outputs": [],
   "source": [
    "app = bio.bio_eqn_args(T = 50., nt = 500, z = -15, k_w = 0.067, alpha = 0.025, V_m = 1.5, I_0 = 158.075, K_u = 1., Psi = 1.46,\n",
    "                    Xi = 0.1, R_m = 1.5, Lambda = 0.06, gamma = 0.3, Tau = 0.145, Phi = 0.175, Omega = 0.041, T_bio = 30, bio_model = 'NNPZD')\n",
    "\n",
    "x0 = initial_cond(app) # Initial conditions\n",
    "t = tf.linspace(0., app.T, app.nt) # Time array"
   ]
  },
  {
   "cell_type": "code",
   "execution_count": null,
   "metadata": {
    "executionInfo": {
     "elapsed": 20065,
     "status": "ok",
     "timestamp": 1601748765177,
     "user": {
      "displayName": "Abhinav Gupta",
      "photoUrl": "https://lh3.googleusercontent.com/a-/AOh14GgMtMT5ccMf8GLgQ3yu6fAY2d6upCEZXfzS-5A6Cg=s64",
      "userId": "02552889854388316189"
     },
     "user_tz": 240
    },
    "id": "UG3eXUHvXHbI"
   },
   "outputs": [],
   "source": [
    "x_nnpzd = ddeinttf(bio.bio_eqn(app), x0, t)"
   ]
  },
  {
   "cell_type": "code",
   "execution_count": null,
   "metadata": {
    "colab": {
     "base_uri": "https://localhost:8080/",
     "height": 312
    },
    "executionInfo": {
     "elapsed": 20454,
     "status": "ok",
     "timestamp": 1601748765579,
     "user": {
      "displayName": "Abhinav Gupta",
      "photoUrl": "https://lh3.googleusercontent.com/a-/AOh14GgMtMT5ccMf8GLgQ3yu6fAY2d6upCEZXfzS-5A6Cg=s64",
      "userId": "02552889854388316189"
     },
     "user_tz": 240
    },
    "id": "1RHTcvMyXJII",
    "outputId": "1093f78b-554f-4fdb-ea9d-83f7bce6a4fa"
   },
   "outputs": [],
   "source": [
    "fig = plt.figure(figsize=(6, 4), facecolor='white')\n",
    "ax_x1 = fig.add_subplot(111)\n",
    "\n",
    "ax_x1.cla()\n",
    "ax_x1.set_title('Bio Model Evolution')\n",
    "ax_x1.set_xlabel('Bio Variable')\n",
    "ax_x1.set_ylabel('t')\n",
    "ax_x1.plot(t.numpy(), x_nnpzd[:, 0, 0], '-r', label = 'NO_3')\n",
    "ax_x1.plot(t.numpy(), x_nnpzd[:, 0, 1], '-c', label = 'NH_4')\n",
    "ax_x1.plot(t.numpy(), x_nnpzd[:, 0, 2], '-g', label = 'P')\n",
    "ax_x1.plot(t.numpy(), x_nnpzd[:, 0, 3], '-b', label = 'Z')\n",
    "ax_x1.plot(t.numpy(), x_nnpzd[:, 0, 4], '-m', label = 'D')\n",
    "ax_x1.set_xlim(t[0], t[-1])\n",
    "ax_x1.legend(loc = 'best')"
   ]
  },
  {
   "cell_type": "code",
   "execution_count": null,
   "metadata": {
    "colab": {
     "base_uri": "https://localhost:8080/",
     "height": 312
    },
    "executionInfo": {
     "elapsed": 20962,
     "status": "ok",
     "timestamp": 1601748766105,
     "user": {
      "displayName": "Abhinav Gupta",
      "photoUrl": "https://lh3.googleusercontent.com/a-/AOh14GgMtMT5ccMf8GLgQ3yu6fAY2d6upCEZXfzS-5A6Cg=s64",
      "userId": "02552889854388316189"
     },
     "user_tz": 240
    },
    "id": "5Wb_cg5zXRDZ",
    "outputId": "deb73728-ae3b-445b-8b6a-438c9d57a338"
   },
   "outputs": [],
   "source": [
    "fig = plt.figure(figsize=(6, 4), facecolor='white')\n",
    "ax_x1 = fig.add_subplot(111)\n",
    "\n",
    "ax_x1.cla()\n",
    "ax_x1.set_title('Bio Model Comparison')\n",
    "ax_x1.set_xlabel('Bio Variable')\n",
    "ax_x1.set_ylabel('t')\n",
    "ax_x1.plot(t.numpy(), x_npz[:, 0, 0], '-r', label = 'N (NPZ)')\n",
    "ax_x1.plot(t.numpy(), x_npzd[:, 0, 0] + x_npzd[:, 0, 3], '--r', label = 'N + D (NPZD)')\n",
    "ax_x1.plot(t.numpy(), x_nnpzd[:, 0, 0] + x_nnpzd[:, 0, 1] + x_nnpzd[:, 0, 4], '-.r', label = 'NO3 + NH4 + D (NNPZD)')\n",
    "ax_x1.plot(t.numpy(), x_npz[:, 0, 1], '-g', label = 'P (NPZ)')\n",
    "ax_x1.plot(t.numpy(), x_npzd[:, 0, 1], '--g', label = 'P (NPZD)')\n",
    "ax_x1.plot(t.numpy(), x_nnpzd[:, 0, 2], '-.g', label = 'P (NNPZD)')\n",
    "ax_x1.plot(t.numpy(), x_npz[:, 0, 2], '-b', label = 'Z (NPZ)')\n",
    "ax_x1.plot(t.numpy(), x_npzd[:, 0, 2], '--b', label = 'Z (NPZD)')\n",
    "ax_x1.plot(t.numpy(), x_nnpzd[:, 0, 3], '-.b', label = 'Z (NNPZD)')\n",
    "ax_x1.set_xlim(t[0], t[-1])\n",
    "ax_x1.legend(loc = 'best')"
   ]
  },
  {
   "cell_type": "code",
   "execution_count": null,
   "metadata": {
    "executionInfo": {
     "elapsed": 20943,
     "status": "ok",
     "timestamp": 1601748766105,
     "user": {
      "displayName": "Abhinav Gupta",
      "photoUrl": "https://lh3.googleusercontent.com/a-/AOh14GgMtMT5ccMf8GLgQ3yu6fAY2d6upCEZXfzS-5A6Cg=s64",
      "userId": "02552889854388316189"
     },
     "user_tz": 240
    },
    "id": "NitN9cIc7W8K"
   },
   "outputs": [],
   "source": []
  }
 ],
 "metadata": {
  "colab": {
   "collapsed_sections": [],
   "name": "Bio_Eqn_Example.ipynb",
   "provenance": []
  },
  "kernelspec": {
   "display_name": "Python 3",
   "language": "python",
   "name": "python3"
  },
  "language_info": {
   "codemirror_mode": {
    "name": "ipython",
    "version": 3
   },
   "file_extension": ".py",
   "mimetype": "text/x-python",
   "name": "python",
   "nbconvert_exporter": "python",
   "pygments_lexer": "ipython3",
   "version": "3.7.4"
  }
 },
 "nbformat": 4,
 "nbformat_minor": 1
}
