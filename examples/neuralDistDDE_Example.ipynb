{
 "cells": [
  {
   "cell_type": "markdown",
   "metadata": {
    "colab_type": "text",
    "id": "ChoGlO1EYTtF"
   },
   "source": [
    "### Import libraries, mount drive, etc."
   ]
  },
  {
   "cell_type": "code",
   "execution_count": null,
   "metadata": {
    "colab": {},
    "colab_type": "code",
    "id": "HMfKlANbg7HW"
   },
   "outputs": [],
   "source": [
    "gpu_info = !nvidia-smi\n",
    "gpu_info = '\\n'.join(gpu_info)\n",
    "if gpu_info.find('failed') >= 0:\n",
    "  print('Select the Runtime > \"Change runtime type\" menu to enable a GPU accelerator, ')\n",
    "  print('and then re-execute this cell.')\n",
    "else:\n",
    "  print(gpu_info)"
   ]
  },
  {
   "cell_type": "code",
   "execution_count": null,
   "metadata": {
    "colab": {},
    "colab_type": "code",
    "id": "CPC0rUyrg48m"
   },
   "outputs": [],
   "source": [
    "from google.colab import drive\n",
    "drive.mount('/content/drive')\n",
    "\n",
    "%cd /content/drive/My\\ Drive/Colab\\ Notebooks/NeuralODEs_ROM_Closure/neuralDDE_ROM_Closure"
   ]
  },
  {
   "cell_type": "code",
   "execution_count": null,
   "metadata": {
    "colab": {},
    "colab_type": "code",
    "id": "8rQZNemshhgJ"
   },
   "outputs": [],
   "source": [
    "%pip install quadpy"
   ]
  },
  {
   "cell_type": "code",
   "execution_count": null,
   "metadata": {
    "colab": {},
    "colab_type": "code",
    "executionInfo": {
     "elapsed": 6302,
     "status": "ok",
     "timestamp": 1598616545612,
     "user": {
      "displayName": "Abhinav Gupta",
      "photoUrl": "https://lh3.googleusercontent.com/a-/AOh14GgMtMT5ccMf8GLgQ3yu6fAY2d6upCEZXfzS-5A6Cg=s64",
      "userId": "02552889854388316189"
     },
     "user_tz": 240
    },
    "id": "dVSndoo1u7RH"
   },
   "outputs": [],
   "source": [
    "from src.utilities.DDE_Solver import ddeinttf\n",
    "import src.solvers.neuralDistDDE_with_adjoint as nddde\n",
    "\n",
    "import quadpy\n",
    "\n",
    "import time\n",
    "import sys\n",
    "import os\n",
    "from IPython.core.debugger import set_trace\n",
    "\n",
    "import numpy as np\n",
    "import tensorflow as tf\n",
    "import matplotlib.pyplot as plt\n",
    "from scipy import integrate\n",
    "import scipy.interpolate\n",
    "from shutil import move\n",
    "\n",
    "tf.keras.backend.set_floatx('float32')\n",
    "import logging\n",
    "tf.get_logger().setLevel(logging.ERROR)"
   ]
  },
  {
   "cell_type": "markdown",
   "metadata": {
    "colab_type": "text",
    "id": "6ogTRwZc6wey"
   },
   "source": [
    "## Define some useful classes"
   ]
  },
  {
   "cell_type": "markdown",
   "metadata": {
    "colab_type": "text",
    "id": "nz2VodLH61Zx"
   },
   "source": [
    "### Define a custom loss function"
   ]
  },
  {
   "cell_type": "code",
   "execution_count": null,
   "metadata": {
    "colab": {},
    "colab_type": "code",
    "executionInfo": {
     "elapsed": 6293,
     "status": "ok",
     "timestamp": 1598616545613,
     "user": {
      "displayName": "Abhinav Gupta",
      "photoUrl": "https://lh3.googleusercontent.com/a-/AOh14GgMtMT5ccMf8GLgQ3yu6fAY2d6upCEZXfzS-5A6Cg=s64",
      "userId": "02552889854388316189"
     },
     "user_tz": 240
    },
    "id": "aLjkdt86TvAg"
   },
   "outputs": [],
   "source": [
    "class custom_loss(tf.keras.losses.Loss):\n",
    "\n",
    "    def call(self, true_y, pred_y):\n",
    "        loss = tf.reduce_mean(tf.sqrt(tf.reduce_sum(tf.math.squared_difference(pred_y, true_y), axis=-1)), axis=0)\n",
    "        return loss"
   ]
  },
  {
   "cell_type": "markdown",
   "metadata": {
    "colab_type": "text",
    "id": "smE3QETk66Ff"
   },
   "source": [
    "### Define a custom plotting function"
   ]
  },
  {
   "cell_type": "code",
   "execution_count": null,
   "metadata": {
    "colab": {},
    "colab_type": "code",
    "executionInfo": {
     "elapsed": 6284,
     "status": "ok",
     "timestamp": 1598616545614,
     "user": {
      "displayName": "Abhinav Gupta",
      "photoUrl": "https://lh3.googleusercontent.com/a-/AOh14GgMtMT5ccMf8GLgQ3yu6fAY2d6upCEZXfzS-5A6Cg=s64",
      "userId": "02552889854388316189"
     },
     "user_tz": 240
    },
    "id": "NdbJj92I2YgP"
   },
   "outputs": [],
   "source": [
    "class custom_plot:\n",
    "\n",
    "    def __init__(self, true_y, t, figsave_dir, args):\n",
    "        self.true_y = true_y\n",
    "        self.t = t\n",
    "        self.figsave_dir = figsave_dir\n",
    "        self.args = args\n",
    "\n",
    "    def plot(self, *pred_y, epoch = 0):\n",
    "        fig = plt.figure(figsize=(12, 4), facecolor='white')\n",
    "        ax_traj = fig.add_subplot(121, frameon=False)\n",
    "        ax_phase = fig.add_subplot(122, frameon=False)\n",
    "\n",
    "        ax_traj.cla()\n",
    "        ax_traj.set_title('Trajectories')\n",
    "        ax_traj.set_xlabel('t')\n",
    "        ax_traj.set_ylabel('x,y')\n",
    "        ax_traj.plot(self.t.numpy(), self.true_y.numpy()[:, 0, 0], 'b-', self.t.numpy(), self.true_y.numpy()[:, 0, 1], 'g-')\n",
    "        ax_traj.set_xlim(min(t.numpy()), max(t.numpy()))\n",
    "        ax_traj.set_ylim(-1, 1)\n",
    "\n",
    "        ax_phase.cla()\n",
    "        ax_phase.set_title('Phase Portrait')\n",
    "        ax_phase.set_xlabel('x')\n",
    "        ax_phase.set_ylabel('y')\n",
    "        ax_phase.plot(self.true_y.numpy()[:, 0, 0], self.true_y.numpy()[:, 0, 1], 'g-')\n",
    "        ax_phase.set_xlim(-1, 1)\n",
    "        ax_phase.set_ylim(-1, 1)  \n",
    "\n",
    "        if epoch != 0 or self.args.restart == 1 :\n",
    "            ax_traj.plot(self.t.numpy(), pred_y[0].numpy()[:, 0, 0], 'b--', self.t.numpy(), pred_y[0].numpy()[:, 0, 1], 'g--',)\n",
    "            ax_phase.plot(pred_y[0].numpy()[:, 0, 0], pred_y[0].numpy()[:, 0, 1], 'g--')\n",
    "\n",
    "        plt.show() \n",
    "\n",
    "        if epoch != 0: \n",
    "            fig.savefig(os.path.join(self.figsave_dir, 'img'+str(epoch)))"
   ]
  },
  {
   "cell_type": "markdown",
   "metadata": {
    "colab_type": "text",
    "id": "jvunaxPb7DAz"
   },
   "source": [
    "### Define neural net architectures"
   ]
  },
  {
   "cell_type": "markdown",
   "metadata": {
    "colab_type": "text",
    "id": "DBTU6uCq7IIt"
   },
   "source": [
    "#### Main network"
   ]
  },
  {
   "cell_type": "code",
   "execution_count": null,
   "metadata": {
    "colab": {},
    "colab_type": "code",
    "executionInfo": {
     "elapsed": 6263,
     "status": "ok",
     "timestamp": 1598616545615,
     "user": {
      "displayName": "Abhinav Gupta",
      "photoUrl": "https://lh3.googleusercontent.com/a-/AOh14GgMtMT5ccMf8GLgQ3yu6fAY2d6upCEZXfzS-5A6Cg=s64",
      "userId": "02552889854388316189"
     },
     "user_tz": 240
    },
    "id": "o9CGlatnYC8J"
   },
   "outputs": [],
   "source": [
    "class DDEFuncMain(tf.keras.Model):\n",
    "\n",
    "    def __init__(self, **kwargs):\n",
    "        super(DDEFuncMain, self).__init__(**kwargs)\n",
    "        \n",
    "        self.out = tf.keras.layers.Dense(args_nddde.state_dim, activation='linear',\n",
    "                                       kernel_initializer=tf.keras.initializers.TruncatedNormal(stddev=0.1), use_bias=True)\n",
    "\n",
    "    def call(self, z):\n",
    "        for i in range(len(self.layers)):\n",
    "            z = self.layers[i](z)\n",
    "        return z"
   ]
  },
  {
   "cell_type": "markdown",
   "metadata": {
    "colab_type": "text",
    "id": "tH0aSud57KYx"
   },
   "source": [
    "#### Auxilary network"
   ]
  },
  {
   "cell_type": "code",
   "execution_count": null,
   "metadata": {
    "colab": {},
    "colab_type": "code",
    "executionInfo": {
     "elapsed": 6253,
     "status": "ok",
     "timestamp": 1598616545616,
     "user": {
      "displayName": "Abhinav Gupta",
      "photoUrl": "https://lh3.googleusercontent.com/a-/AOh14GgMtMT5ccMf8GLgQ3yu6fAY2d6upCEZXfzS-5A6Cg=s64",
      "userId": "02552889854388316189"
     },
     "user_tz": 240
    },
    "id": "9ii--3UPHnaD"
   },
   "outputs": [],
   "source": [
    "class DDEFuncAux(tf.keras.Model):\n",
    "\n",
    "    def __init__(self, **kwargs):\n",
    "        super(DDEFuncAux, self).__init__(**kwargs)\n",
    "        \n",
    "        self.out = tf.keras.layers.Dense(args_nddde.state_dim, activation='linear',\n",
    "                                       kernel_initializer=tf.keras.initializers.TruncatedNormal(stddev=0.1), use_bias=True)\n",
    "\n",
    "    def call(self, z):\n",
    "        for i in range(len(self.layers)):\n",
    "            z = self.layers[i](z)\n",
    "        return z"
   ]
  },
  {
   "cell_type": "markdown",
   "metadata": {
    "colab_type": "text",
    "id": "2IDGAvD97rdC"
   },
   "source": [
    "### Initialize model parameters"
   ]
  },
  {
   "cell_type": "code",
   "execution_count": null,
   "metadata": {
    "colab": {},
    "colab_type": "code",
    "executionInfo": {
     "elapsed": 6244,
     "status": "ok",
     "timestamp": 1598616545617,
     "user": {
      "displayName": "Abhinav Gupta",
      "photoUrl": "https://lh3.googleusercontent.com/a-/AOh14GgMtMT5ccMf8GLgQ3yu6fAY2d6upCEZXfzS-5A6Cg=s64",
      "userId": "02552889854388316189"
     },
     "user_tz": 240
    },
    "id": "xEn9NU2Cxgef"
   },
   "outputs": [],
   "source": [
    "args_nddde = nddde.nddde_arguments(data_size = 1000, batch_time = 12, batch_time_skip = 2, batch_size = 5, epochs = 500, learning_rate = 0.075, decay_rate = 0.95, test_freq = 1, plot_freq = 2, \n",
    "                 d_max = 1., nn_d1 = 0., nn_d2 = 0.5, state_dim = 2, adj_data_size = 2,\n",
    "                 model_dir = 'DistDDE_runs/model_dir_test', restart = 1, val_percentage = 0.2)"
   ]
  },
  {
   "cell_type": "markdown",
   "metadata": {
    "colab_type": "text",
    "id": "wriiBBOR8IxA"
   },
   "source": [
    "### Make a copy of the current script"
   ]
  },
  {
   "cell_type": "code",
   "execution_count": null,
   "metadata": {
    "colab": {},
    "colab_type": "code",
    "id": "jRb2g-64KMz7"
   },
   "outputs": [],
   "source": [
    "%cd /content/drive/My\\ Drive/Colab\\ Notebooks/NeuralODEs_ROM_Closure\n",
    "\n",
    "if not os.path.exists(args_nddde.model_dir):\n",
    "  os.makedirs(args_nddde.model_dir)\n",
    "\n",
    "checkpoint_dir_main = os.path.join(args_nddde.model_dir, \"ckpt_main\")\n",
    "checkpoint_dir_aux = os.path.join(args_nddde.model_dir, \"ckpt_aux\")\n",
    "checkpoint_prefix_main = os.path.join(checkpoint_dir_main, \"ckpt\")\n",
    "checkpoint_prefix_aux = os.path.join(checkpoint_dir_aux, \"ckpt\")\n",
    "if not os.path.exists(checkpoint_dir_main):\n",
    "  os.makedirs(checkpoint_dir_main)\n",
    "if not os.path.exists(checkpoint_dir_aux):\n",
    "  os.makedirs(checkpoint_dir_aux)\n",
    "\n",
    "figsave_dir = os.path.join(args_nddde.model_dir, \"img\")\n",
    "if not os.path.exists(figsave_dir):\n",
    "  os.makedirs(figsave_dir)\n",
    "\n",
    "!jupyter nbconvert --to script 'neuralDDE_ROM_Closure/examples/neuralDistDDE_Example.ipynb'\n",
    "move('neuralDDE_ROM_Closure/examples/neuralDistDDE_Example.txt', os.path.join(args_nddde.model_dir, \"orig_run_file.py\"))"
   ]
  },
  {
   "cell_type": "markdown",
   "metadata": {
    "colab_type": "text",
    "id": "pPJZ6shl74fe"
   },
   "source": [
    "### Define initial conditions and other parameters associated with the true DistDDE"
   ]
  },
  {
   "cell_type": "code",
   "execution_count": null,
   "metadata": {
    "colab": {},
    "colab_type": "code",
    "executionInfo": {
     "elapsed": 7269,
     "status": "ok",
     "timestamp": 1598616546667,
     "user": {
      "displayName": "Abhinav Gupta",
      "photoUrl": "https://lh3.googleusercontent.com/a-/AOh14GgMtMT5ccMf8GLgQ3yu6fAY2d6upCEZXfzS-5A6Cg=s64",
      "userId": "02552889854388316189"
     },
     "user_tz": 240
    },
    "id": "LjpFvhyidHLz"
   },
   "outputs": [],
   "source": [
    "class initial_cond(tf.keras.Model):\n",
    "\n",
    "    def call(self, t):\n",
    "        return tf.convert_to_tensor([[1., 0.]], dtype=tf.float32)\n",
    "\n",
    "class true_eqn_integrate:\n",
    "    def __init__(self, B, y, t_lowerlim, t_upperlim):\n",
    "        self.B = B\n",
    "        self.y = y\n",
    "        self.t_ll = t_lowerlim\n",
    "        self.t_ul = t_upperlim\n",
    "        self.scheme = quadpy.c1.gauss_legendre(5)\n",
    "        self.integ = self.integrate_By()\n",
    "\n",
    "    def By(self, t):\n",
    "\n",
    "        return tf.einsum('ab, cb -> ca', tf.cast(tf.transpose(self.B), tf.float64), tf.cast(self.y(t), tf.float64)).numpy()\n",
    "\n",
    "    def stack_By(self, t):\n",
    "        return np.stack([self.By(t[i]) for i in range(len(t))], axis=-1)\n",
    "\n",
    "    def integrate_By(self):\n",
    "        return tf.convert_to_tensor(self.scheme.integrate(self.stack_By, [self.t_ll, self.t_ul]), tf.float64)\n",
    "\n",
    "true_z0 = initial_cond() # Initial conditions\n",
    "t = tf.linspace(0., 10., args_nddde.data_size) # Time array\n",
    "true_A = tf.convert_to_tensor([[-0.1, 2.0], [-2.0, -0.1]], dtype=tf.float32)\n",
    "true_B = tf.convert_to_tensor([[0.1, -2.], [-2., 0.1]], dtype=tf.float32)\n",
    "d = [0., 0.5]"
   ]
  },
  {
   "cell_type": "code",
   "execution_count": null,
   "metadata": {
    "colab": {},
    "colab_type": "code",
    "executionInfo": {
     "elapsed": 7260,
     "status": "ok",
     "timestamp": 1598616546668,
     "user": {
      "displayName": "Abhinav Gupta",
      "photoUrl": "https://lh3.googleusercontent.com/a-/AOh14GgMtMT5ccMf8GLgQ3yu6fAY2d6upCEZXfzS-5A6Cg=s64",
      "userId": "02552889854388316189"
     },
     "user_tz": 240
    },
    "id": "7Fxr1UY554G0"
   },
   "outputs": [],
   "source": [
    "class Lambda(tf.keras.Model):\n",
    "\n",
    "    def call(self, y, t, d):\n",
    "\n",
    "        By_integ = true_eqn_integrate(true_B, y, t - d[1], t - d[0])\n",
    "\n",
    "        return tf.cast(tf.einsum('ab, cb -> ca', tf.cast(tf.transpose(true_A), tf.float64), tf.cast(y(t), tf.float64)) - 0.5*tf.einsum('ab, cb -> ca', tf.cast(tf.transpose(true_A), tf.float64), By_integ.integ), tf.float32)"
   ]
  },
  {
   "cell_type": "code",
   "execution_count": null,
   "metadata": {
    "colab": {},
    "colab_type": "code",
    "executionInfo": {
     "elapsed": 11426,
     "status": "ok",
     "timestamp": 1598616550844,
     "user": {
      "displayName": "Abhinav Gupta",
      "photoUrl": "https://lh3.googleusercontent.com/a-/AOh14GgMtMT5ccMf8GLgQ3yu6fAY2d6upCEZXfzS-5A6Cg=s64",
      "userId": "02552889854388316189"
     },
     "user_tz": 240
    },
    "id": "LJMevjWmdL2p"
   },
   "outputs": [],
   "source": [
    "true_z = ddeinttf(Lambda(), true_z0, t, fargs=(d,))  # Solve for the true ODE solution"
   ]
  },
  {
   "cell_type": "markdown",
   "metadata": {
    "colab_type": "text",
    "id": "VA2BNT438WKe"
   },
   "source": [
    "### Create validation set"
   ]
  },
  {
   "cell_type": "code",
   "execution_count": null,
   "metadata": {
    "colab": {},
    "colab_type": "code",
    "executionInfo": {
     "elapsed": 11633,
     "status": "ok",
     "timestamp": 1598616551065,
     "user": {
      "displayName": "Abhinav Gupta",
      "photoUrl": "https://lh3.googleusercontent.com/a-/AOh14GgMtMT5ccMf8GLgQ3yu6fAY2d6upCEZXfzS-5A6Cg=s64",
      "userId": "02552889854388316189"
     },
     "user_tz": 240
    },
    "id": "i0SHydHlLOIa"
   },
   "outputs": [],
   "source": [
    "val_obj = nddde.create_validation_set_nddde(true_z0, t, args_nddde)\n",
    "\n",
    "val_true_z = val_obj.data(Lambda(), true_z, t, d)"
   ]
  },
  {
   "cell_type": "markdown",
   "metadata": {
    "colab_type": "text",
    "id": "xQH2GjfrYGUT"
   },
   "source": [
    "## Main"
   ]
  },
  {
   "cell_type": "markdown",
   "metadata": {
    "colab_type": "text",
    "id": "z8aA27rvv_y1"
   },
   "source": [
    "### Make objects and define learning-rate schedule"
   ]
  },
  {
   "cell_type": "code",
   "execution_count": null,
   "metadata": {
    "colab": {},
    "colab_type": "code",
    "executionInfo": {
     "elapsed": 11622,
     "status": "ok",
     "timestamp": 1598616551066,
     "user": {
      "displayName": "Abhinav Gupta",
      "photoUrl": "https://lh3.googleusercontent.com/a-/AOh14GgMtMT5ccMf8GLgQ3yu6fAY2d6upCEZXfzS-5A6Cg=s64",
      "userId": "02552889854388316189"
     },
     "user_tz": 240
    },
    "id": "A88se6E1qRlb"
   },
   "outputs": [],
   "source": [
    "end = time.time()\n",
    "time_meter = nddde.RunningAverageMeter(0.97)\n",
    "\n",
    "func_main = DDEFuncMain()\n",
    "func_aux = DDEFuncAux()\n",
    "func = nddde.DistDDEFunc(func_main, func_aux, args_nddde)\n",
    "adj_func = nddde.nddde_adj_eqn(func, args_nddde)\n",
    "\n",
    "get_batch = nddde.create_batch(true_z, true_z0, t, args_nddde)\n",
    "loss_obj = custom_loss()\n",
    "plot_obj = custom_plot(true_z, t, figsave_dir, args_nddde)\n",
    "loss_history = nddde.history(args_nddde)\n",
    "\n",
    "initial_learning_rate = args_nddde.learning_rate\n",
    "lr_schedule = tf.keras.optimizers.schedules.ExponentialDecay(\n",
    "    initial_learning_rate,\n",
    "    decay_steps=args_nddde.niters,\n",
    "    decay_rate=args_nddde.decay_rate,\n",
    "    staircase=True)"
   ]
  },
  {
   "cell_type": "markdown",
   "metadata": {
    "colab_type": "text",
    "id": "49OTGMHiwGyO"
   },
   "source": [
    "### Quick test to see how the true DistDDE looks like"
   ]
  },
  {
   "cell_type": "code",
   "execution_count": null,
   "metadata": {
    "colab": {},
    "colab_type": "code",
    "id": "1Q5K9U8G0pkL"
   },
   "outputs": [],
   "source": [
    "if args_nddde.restart == 1: \n",
    "    func_main.load_weights(tf.train.latest_checkpoint(checkpoint_dir_main))\n",
    "    func_aux.load_weights(tf.train.latest_checkpoint(checkpoint_dir_aux))\n",
    "    process_true_z0 = nddde.process_DistDDE_IC(true_z0, func_aux, t_lowerlim = 0. - args_nddde.nn_d2, t_upperlim = 0. - args_nddde.nn_d1)\n",
    "    pred_z = ddeinttf(func, process_true_z0, t, fargs=([args_nddde.nn_d1, args_nddde.nn_d2],))\n",
    "    \n",
    "    plot_obj.plot(pred_z, epoch = 0)\n",
    "\n",
    "    loss_history.read()\n",
    "    \n",
    "    initial_learning_rate = 0.05\n",
    "    lr_schedule = tf.keras.optimizers.schedules.ExponentialDecay(\n",
    "        initial_learning_rate, decay_steps=args_nddde.niters, decay_rate=0.95, staircase=True)\n",
    "    \n",
    "else:\n",
    "    plot_obj.plot(epoch = 0) "
   ]
  },
  {
   "cell_type": "markdown",
   "metadata": {
    "colab_type": "text",
    "id": "UlvOUkQfwRE2"
   },
   "source": [
    "### Training starts here"
   ]
  },
  {
   "cell_type": "code",
   "execution_count": null,
   "metadata": {
    "colab": {},
    "colab_type": "code",
    "id": "KAEOTTlxRVPI"
   },
   "outputs": [],
   "source": [
    "optimizer_main = tf.keras.optimizers.RMSprop(learning_rate = lr_schedule)\n",
    "optimizer_aux = tf.keras.optimizers.RMSprop(learning_rate = lr_schedule)\n",
    "\n",
    "nDistDDE_train_obj = nddde.train_nDistDDE(func = func, adj_func = adj_func, d = [args_nddde.nn_d1, args_nddde.nn_d2], loss_obj = loss_obj, batch_obj = get_batch,\n",
    "                            checkpoint_dir_aux = checkpoint_prefix_aux, optimizer_main = optimizer_main, optimizer_aux = optimizer_aux, args = args_nddde, plot_obj = plot_obj, time_meter = time_meter, checkpoint_dir_main = checkpoint_prefix_main,\n",
    "                            validation_obj = val_obj, loss_history_obj = loss_history)\n",
    "\n",
    "nDistDDE_train_obj.train(true_z, true_z0, t, val_true_z)"
   ]
  }
 ],
 "metadata": {
  "accelerator": "GPU",
  "colab": {
   "authorship_tag": "ABX9TyNyYtRuO2zblzhrOvrOIbYG",
   "collapsed_sections": [],
   "machine_shape": "hm",
   "name": "neuralDistDDE_Example.ipynb",
   "provenance": []
  },
  "kernelspec": {
   "display_name": "Python 3",
   "language": "python",
   "name": "python3"
  },
  "language_info": {
   "codemirror_mode": {
    "name": "ipython",
    "version": 3
   },
   "file_extension": ".py",
   "mimetype": "text/x-python",
   "name": "python",
   "nbconvert_exporter": "python",
   "pygments_lexer": "ipython3",
   "version": "3.7.4"
  }
 },
 "nbformat": 4,
 "nbformat_minor": 1
}
