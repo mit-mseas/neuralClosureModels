{
 "cells": [
  {
   "cell_type": "code",
   "execution_count": null,
   "metadata": {
    "colab": {
     "base_uri": "https://localhost:8080/",
     "height": 51
    },
    "executionInfo": {
     "elapsed": 537,
     "status": "ok",
     "timestamp": 1601132234850,
     "user": {
      "displayName": "Abhinav Gupta",
      "photoUrl": "https://lh3.googleusercontent.com/a-/AOh14GgMtMT5ccMf8GLgQ3yu6fAY2d6upCEZXfzS-5A6Cg=s64",
      "userId": "02552889854388316189"
     },
     "user_tz": 240
    },
    "id": "dLs_9-sXH-LZ",
    "outputId": "ff408b2f-1919-439e-df6f-83a2672a0b27"
   },
   "outputs": [],
   "source": [
    "basedir = '/home/abhinavgupta0110/NeuralODEs_ROM_Closure'\n",
    "\n",
    "import os\n",
    "\n",
    "is_google_colab = False\n",
    "is_use_GPU = False"
   ]
  },
  {
   "cell_type": "markdown",
   "metadata": {
    "id": "jworEiRYIIyo"
   },
   "source": [
    "### Mount the drive"
   ]
  },
  {
   "cell_type": "code",
   "execution_count": null,
   "metadata": {
    "colab": {
     "base_uri": "https://localhost:8080/",
     "height": 51
    },
    "executionInfo": {
     "elapsed": 520,
     "status": "ok",
     "timestamp": 1601132234852,
     "user": {
      "displayName": "Abhinav Gupta",
      "photoUrl": "https://lh3.googleusercontent.com/a-/AOh14GgMtMT5ccMf8GLgQ3yu6fAY2d6upCEZXfzS-5A6Cg=s64",
      "userId": "02552889854388316189"
     },
     "user_tz": 240
    },
    "id": "FPfpRsk6IKqU",
    "outputId": "096b1360-67e1-4b64-b698-0e012ea6f565"
   },
   "outputs": [],
   "source": [
    "if is_use_GPU:\n",
    "    gpu_info = !nvidia-smi\n",
    "    gpu_info = '\\n'.join(gpu_info)\n",
    "    if gpu_info.find('failed') >= 0:\n",
    "        print('No GPU found!')\n",
    "    else:\n",
    "        print(gpu_info)\n",
    "\n",
    "if is_google_colab:\n",
    "    from google.colab import drive\n",
    "    drive.mount('/content/drive')\n",
    "\n",
    "    %pip install quadpy\n",
    "    \n",
    "os.chdir(os.path.join(basedir, 'neuralClosureModels'))"
   ]
  },
  {
   "cell_type": "markdown",
   "metadata": {
    "id": "i6XbE7zIIXsD"
   },
   "source": [
    "### Load modules"
   ]
  },
  {
   "cell_type": "code",
   "execution_count": null,
   "metadata": {
    "executionInfo": {
     "elapsed": 316,
     "status": "ok",
     "timestamp": 1601135688913,
     "user": {
      "displayName": "Abhinav Gupta",
      "photoUrl": "https://lh3.googleusercontent.com/a-/AOh14GgMtMT5ccMf8GLgQ3yu6fAY2d6upCEZXfzS-5A6Cg=s64",
      "userId": "02552889854388316189"
     },
     "user_tz": 240
    },
    "id": "_m_4It5jIPt8"
   },
   "outputs": [],
   "source": [
    "from src.utilities.DDE_Solver import ddeinttf \n",
    "import src.advec_diff_case.advec_diff_eqn_modcall as adeq\n",
    "\n",
    "import time\n",
    "import sys\n",
    "from IPython.core.debugger import set_trace\n",
    "\n",
    "import numpy as np\n",
    "import tensorflow as tf\n",
    "import matplotlib.pyplot as plt\n",
    "from matplotlib import cm\n",
    "import scipy as spy\n",
    "\n",
    "tf.keras.backend.set_floatx('float32')"
   ]
  },
  {
   "cell_type": "markdown",
   "metadata": {
    "id": "PtyZ5Gz6I17z"
   },
   "source": [
    "## Define some useful classes"
   ]
  },
  {
   "cell_type": "markdown",
   "metadata": {
    "id": "1RDd5ElWI5qU"
   },
   "source": [
    "### Initial conditions"
   ]
  },
  {
   "cell_type": "code",
   "execution_count": null,
   "metadata": {
    "executionInfo": {
     "elapsed": 2438,
     "status": "ok",
     "timestamp": 1601132236793,
     "user": {
      "displayName": "Abhinav Gupta",
      "photoUrl": "https://lh3.googleusercontent.com/a-/AOh14GgMtMT5ccMf8GLgQ3yu6fAY2d6upCEZXfzS-5A6Cg=s64",
      "userId": "02552889854388316189"
     },
     "user_tz": 240
    },
    "id": "TrJbzm05I8Jm"
   },
   "outputs": [],
   "source": [
    "class initial_cond:\n",
    "\n",
    "    def __init__(self, x, app):\n",
    "        self.x = x\n",
    "        self.app = app\n",
    "\n",
    "    def __call__(self, t):\n",
    "        u0 = self.x / (1. + np.sqrt(1./self.app.t0) * np.exp(self.app.Re * self.x**2 / 4., dtype = np.float64))\n",
    "        return tf.convert_to_tensor([u0], dtype=tf.float32)"
   ]
  },
  {
   "cell_type": "markdown",
   "metadata": {
    "id": "ipE09RRLJFyb"
   },
   "source": [
    "## Main part starts here"
   ]
  },
  {
   "cell_type": "markdown",
   "metadata": {
    "id": "w4oPbRWJ5vsn"
   },
   "source": [
    "## Solve for high-resolution"
   ]
  },
  {
   "cell_type": "code",
   "execution_count": null,
   "metadata": {
    "executionInfo": {
     "elapsed": 33483,
     "status": "ok",
     "timestamp": 1601132267849,
     "user": {
      "displayName": "Abhinav Gupta",
      "photoUrl": "https://lh3.googleusercontent.com/a-/AOh14GgMtMT5ccMf8GLgQ3yu6fAY2d6upCEZXfzS-5A6Cg=s64",
      "userId": "02552889854388316189"
     },
     "user_tz": 240
    },
    "id": "CJjsbj2LJKqF"
   },
   "outputs": [],
   "source": [
    "app = adeq.ad_eqn_args(T = 2.5, nt = 250, L = 1., nx = 100, Re = 1000, u_bc_0 = 0., u_bc_L =0., multi_solve_size = 1)\n",
    "\n",
    "x = tf.linspace(0., app.L, app.nx)\n",
    "u0 = initial_cond(x, app) # Initial conditions\n",
    "t = tf.linspace(0., app.T, app.nt) # Time array\n",
    "\n",
    "op = adeq.operators(app)\n",
    "\n",
    "u = ddeinttf(adeq.ad_eqn(op, app), u0, t)"
   ]
  },
  {
   "cell_type": "markdown",
   "metadata": {
    "id": "CNYi-rCE52C0"
   },
   "source": [
    "## Solve for low resolution"
   ]
  },
  {
   "cell_type": "code",
   "execution_count": null,
   "metadata": {
    "executionInfo": {
     "elapsed": 36433,
     "status": "ok",
     "timestamp": 1601132270804,
     "user": {
      "displayName": "Abhinav Gupta",
      "photoUrl": "https://lh3.googleusercontent.com/a-/AOh14GgMtMT5ccMf8GLgQ3yu6fAY2d6upCEZXfzS-5A6Cg=s64",
      "userId": "02552889854388316189"
     },
     "user_tz": 240
    },
    "id": "m7qI92dR55ki"
   },
   "outputs": [],
   "source": [
    "app_lowres = adeq.ad_eqn_args(T = 2.5, nt = 250, L = 1., nx = 25, Re = 1000, u_bc_0 = 0., u_bc_L =0., multi_solve_size = 1)\n",
    "\n",
    "x_lowres = tf.linspace(0., app_lowres.L, app_lowres.nx)\n",
    "u0_lowres = initial_cond(x_lowres, app_lowres) # Initial conditions\n",
    "t_lowres = tf.linspace(0., app_lowres.T, app_lowres.nt) # Time array\n",
    "\n",
    "op_lowres = adeq.operators(app_lowres)\n",
    "\n",
    "u_lowres = ddeinttf(adeq.ad_eqn(op_lowres, app_lowres), u0_lowres, t_lowres)"
   ]
  },
  {
   "cell_type": "markdown",
   "metadata": {
    "id": "RmJfH9ZJ6DuO"
   },
   "source": [
    "### Plot"
   ]
  },
  {
   "cell_type": "code",
   "execution_count": null,
   "metadata": {
    "colab": {
     "base_uri": "https://localhost:8080/",
     "height": 248
    },
    "executionInfo": {
     "elapsed": 1830,
     "status": "ok",
     "timestamp": 1601136402009,
     "user": {
      "displayName": "Abhinav Gupta",
      "photoUrl": "https://lh3.googleusercontent.com/a-/AOh14GgMtMT5ccMf8GLgQ3yu6fAY2d6upCEZXfzS-5A6Cg=s64",
      "userId": "02552889854388316189"
     },
     "user_tz": 240
    },
    "id": "wIe3IVpAJPJI",
    "outputId": "dfd9d747-0227-400c-ed97-545f3a503d26"
   },
   "outputs": [],
   "source": [
    "fig = plt.figure(figsize=(18, 4), facecolor='white')\n",
    "ax_u = fig.add_subplot(141, projection='3d')\n",
    "ax_u_high_interp_low = fig.add_subplot(142, projection='3d')\n",
    "ax_u_lowres = fig.add_subplot(143, projection='3d')\n",
    "ax_u_diff = fig.add_subplot(144, projection='3d')\n",
    "\n",
    "X, T = np.meshgrid(x.numpy(), t.numpy())\n",
    "\n",
    "ax_u.cla()\n",
    "ax_u.set_title('AD Eqn High-Res Solution')\n",
    "ax_u.set_xlabel('x')\n",
    "ax_u.set_ylabel('t')\n",
    "ax_u.plot_surface(X, T, tf.squeeze(u, axis=1).numpy(), cmap=cm.coolwarm,\n",
    "                    linewidth=0, antialiased=False)\n",
    "ax_u.set_xlim(x[0], x[-1])\n",
    "ax_u.set_ylim(t[0], t[-1])\n",
    "\n",
    "X_lowres, T_lowres = np.meshgrid(x_lowres.numpy(), t_lowres.numpy())\n",
    "\n",
    "f = spy.interpolate.interp2d(x, t, tf.squeeze(u, axis=1).numpy(), kind='cubic')\n",
    "\n",
    "ax_u_high_interp_low.cla()\n",
    "ax_u_high_interp_low.set_title('AD Eqn High-Res Interp.')\n",
    "ax_u_high_interp_low.set_xlabel('x')\n",
    "ax_u_high_interp_low.set_ylabel('t')\n",
    "ax_u_high_interp_low.plot_surface(X_lowres, T_lowres, f(x_lowres, t_lowres), cmap=cm.coolwarm,\n",
    "                    linewidth=0, antialiased=False)\n",
    "ax_u_high_interp_low.set_xlim(x_lowres[0], x_lowres[-1])\n",
    "ax_u_high_interp_low.set_ylim(t_lowres[0], t_lowres[-1])\n",
    "\n",
    "fig.show()\n",
    "\n",
    "ax_u_lowres.cla()\n",
    "ax_u_lowres.set_title('AD Eqn Low-Res Solution')\n",
    "ax_u_lowres.set_xlabel('x')\n",
    "ax_u_lowres.set_ylabel('t')\n",
    "ax_u_lowres.plot_surface(X_lowres, T_lowres, tf.squeeze(u_lowres, axis=1).numpy(), cmap=cm.coolwarm,\n",
    "                    linewidth=0, antialiased=False)\n",
    "ax_u_lowres.set_xlim(x_lowres[0], x_lowres[-1])\n",
    "ax_u_lowres.set_ylim(t_lowres[0], t_lowres[-1])\n",
    "\n",
    "ax_u_diff.cla()\n",
    "ax_u_diff.set_title('AD Eqn Difference')\n",
    "ax_u_diff.set_xlabel('x')\n",
    "ax_u_diff.set_ylabel('t')\n",
    "ax_u_diff.plot_surface(X_lowres, T_lowres, f(x_lowres, t_lowres) - tf.squeeze(u_lowres, axis=1).numpy(), cmap=cm.coolwarm,\n",
    "                    linewidth=0, antialiased=False)\n",
    "ax_u_diff.set_xlim(x_lowres[0], x_lowres[-1])\n",
    "ax_u_diff.set_ylim(t_lowres[0], t_lowres[-1])\n",
    "\n",
    "fig.show()"
   ]
  },
  {
   "cell_type": "code",
   "execution_count": null,
   "metadata": {
    "id": "00dk18YMKEgR"
   },
   "outputs": [],
   "source": []
  }
 ],
 "metadata": {
  "colab": {
   "authorship_tag": "ABX9TyMz8DvV63jvQTO1662cAB8d",
   "collapsed_sections": [],
   "name": "Advec_Diff_Eqn_Res_Comparison_Example.ipynb",
   "provenance": []
  },
  "kernelspec": {
   "display_name": "Python 3",
   "language": "python",
   "name": "python3"
  },
  "language_info": {
   "codemirror_mode": {
    "name": "ipython",
    "version": 3
   },
   "file_extension": ".py",
   "mimetype": "text/x-python",
   "name": "python",
   "nbconvert_exporter": "python",
   "pygments_lexer": "ipython3",
   "version": "3.7.4"
  }
 },
 "nbformat": 4,
 "nbformat_minor": 1
}
