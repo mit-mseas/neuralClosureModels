{
 "cells": [
  {
   "cell_type": "code",
   "execution_count": null,
   "metadata": {
    "colab": {
     "base_uri": "https://localhost:8080/",
     "height": 357
    },
    "colab_type": "code",
    "executionInfo": {
     "elapsed": 1291,
     "status": "ok",
     "timestamp": 1598476560254,
     "user": {
      "displayName": "Abhinav Gupta",
      "photoUrl": "https://lh3.googleusercontent.com/a-/AOh14GgMtMT5ccMf8GLgQ3yu6fAY2d6upCEZXfzS-5A6Cg=s64",
      "userId": "02552889854388316189"
     },
     "user_tz": 240
    },
    "id": "xsLSz3MEkhgq",
    "outputId": "faaf2f60-46e6-4415-cc6b-0d3cd0ea9fc4"
   },
   "outputs": [],
   "source": [
    "basedir = '/home/abhinavgupta0110/NeuralODEs_ROM_Closure'\n",
    "\n",
    "import os\n",
    "\n",
    "is_google_colab = False\n",
    "is_use_GPU = False"
   ]
  },
  {
   "cell_type": "markdown",
   "metadata": {
    "colab_type": "text",
    "id": "T2Ckn4oJAsqv"
   },
   "source": [
    "### Mount the drive"
   ]
  },
  {
   "cell_type": "code",
   "execution_count": null,
   "metadata": {
    "colab": {
     "base_uri": "https://localhost:8080/",
     "height": 139
    },
    "colab_type": "code",
    "executionInfo": {
     "elapsed": 25830,
     "status": "ok",
     "timestamp": 1598476587700,
     "user": {
      "displayName": "Abhinav Gupta",
      "photoUrl": "https://lh3.googleusercontent.com/a-/AOh14GgMtMT5ccMf8GLgQ3yu6fAY2d6upCEZXfzS-5A6Cg=s64",
      "userId": "02552889854388316189"
     },
     "user_tz": 240
    },
    "id": "lorG5GkXkV1u",
    "outputId": "3c22e0b9-be25-48d2-c809-2a4fd1655da3"
   },
   "outputs": [],
   "source": [
    "if is_use_GPU:\n",
    "    gpu_info = !nvidia-smi\n",
    "    gpu_info = '\\n'.join(gpu_info)\n",
    "    if gpu_info.find('failed') >= 0:\n",
    "        print('No GPU found!')\n",
    "    else:\n",
    "        print(gpu_info)\n",
    "\n",
    "if is_google_colab:\n",
    "    from google.colab import drive\n",
    "    drive.mount('/content/drive')\n",
    "\n",
    "    %pip install quadpy\n",
    "    \n",
    "os.chdir(os.path.join(basedir, 'neuralClosureModels'))"
   ]
  },
  {
   "cell_type": "markdown",
   "metadata": {
    "colab_type": "text",
    "id": "XSe3k2_4AzPg"
   },
   "source": [
    "\n",
    "### Load modules"
   ]
  },
  {
   "cell_type": "code",
   "execution_count": null,
   "metadata": {
    "colab": {},
    "colab_type": "code",
    "executionInfo": {
     "elapsed": 23201,
     "status": "ok",
     "timestamp": 1598476607207,
     "user": {
      "displayName": "Abhinav Gupta",
      "photoUrl": "https://lh3.googleusercontent.com/a-/AOh14GgMtMT5ccMf8GLgQ3yu6fAY2d6upCEZXfzS-5A6Cg=s64",
      "userId": "02552889854388316189"
     },
     "user_tz": 240
    },
    "id": "-sgj0Mn8kuXg"
   },
   "outputs": [],
   "source": [
    "from src.utilities.DDE_Solver import ddeinttf \n",
    "import src.solvers.neuralDDE_with_adjoint_accel as ndde\n",
    "\n",
    "import time\n",
    "import sys\n",
    "from IPython.core.debugger import set_trace\n",
    "\n",
    "import numpy as np\n",
    "import tensorflow as tf\n",
    "import matplotlib.pyplot as plt\n",
    "from shutil import move\n",
    "import pickle\n",
    "\n",
    "tf.keras.backend.set_floatx('float32')\n",
    "import logging\n",
    "tf.get_logger().setLevel(logging.ERROR)"
   ]
  },
  {
   "cell_type": "markdown",
   "metadata": {
    "colab_type": "text",
    "id": "Wb_1D2ucA13k"
   },
   "source": [
    "## Define some useful classes"
   ]
  },
  {
   "cell_type": "markdown",
   "metadata": {
    "colab_type": "text",
    "id": "IQ-8zZIEA65E"
   },
   "source": [
    "### Define a custom loss function"
   ]
  },
  {
   "cell_type": "code",
   "execution_count": null,
   "metadata": {
    "colab": {},
    "colab_type": "code",
    "executionInfo": {
     "elapsed": 20017,
     "status": "ok",
     "timestamp": 1598476607210,
     "user": {
      "displayName": "Abhinav Gupta",
      "photoUrl": "https://lh3.googleusercontent.com/a-/AOh14GgMtMT5ccMf8GLgQ3yu6fAY2d6upCEZXfzS-5A6Cg=s64",
      "userId": "02552889854388316189"
     },
     "user_tz": 240
    },
    "id": "4ldL9gvKlQE5"
   },
   "outputs": [],
   "source": [
    "class custom_loss(tf.keras.losses.Loss):\n",
    "\n",
    "    def __call__(self, true_y, pred_y):\n",
    "        loss = tf.reduce_mean(tf.sqrt(tf.reduce_sum(tf.math.squared_difference(pred_y, true_y), axis=-1)), axis=0)\n",
    "        return loss"
   ]
  },
  {
   "cell_type": "markdown",
   "metadata": {
    "colab_type": "text",
    "id": "Ds1_oKVAA_Og"
   },
   "source": [
    "### Define a custom plotting function"
   ]
  },
  {
   "cell_type": "code",
   "execution_count": null,
   "metadata": {
    "colab": {},
    "colab_type": "code",
    "executionInfo": {
     "elapsed": 19632,
     "status": "ok",
     "timestamp": 1598476607211,
     "user": {
      "displayName": "Abhinav Gupta",
      "photoUrl": "https://lh3.googleusercontent.com/a-/AOh14GgMtMT5ccMf8GLgQ3yu6fAY2d6upCEZXfzS-5A6Cg=s64",
      "userId": "02552889854388316189"
     },
     "user_tz": 240
    },
    "id": "1ExCDxUPlQnh"
   },
   "outputs": [],
   "source": [
    "class custom_plot:\n",
    "\n",
    "    def __init__(self, true_y, t, figsave_dir, args):\n",
    "        self.true_y = true_y\n",
    "        self.t = t\n",
    "        self.figsave_dir = figsave_dir\n",
    "        self.args = args\n",
    "\n",
    "    def plot(self, *pred_y, epoch = 0):\n",
    "        fig = plt.figure(figsize=(12, 4), facecolor='white')\n",
    "        ax_traj = fig.add_subplot(121, frameon=False)\n",
    "        ax_phase = fig.add_subplot(122, frameon=False)\n",
    "\n",
    "        ax_traj.cla()\n",
    "        ax_traj.set_title('Trajectories')\n",
    "        ax_traj.set_xlabel('t')\n",
    "        ax_traj.set_ylabel('x,y')\n",
    "        ax_traj.plot(self.t.numpy(), self.true_y.numpy()[:, 0, 0], 'b-', self.t.numpy(), self.true_y.numpy()[:, 0, 1], 'g-')\n",
    "        ax_traj.set_xlim(min(self.t.numpy()), max(self.t.numpy()))\n",
    "        ax_traj.set_ylim(-1, 1)\n",
    "\n",
    "        ax_phase.cla()\n",
    "        ax_phase.set_title('Phase Portrait')\n",
    "        ax_phase.set_xlabel('x')\n",
    "        ax_phase.set_ylabel('y')\n",
    "        ax_phase.plot(self.true_y.numpy()[:, 0, 0], self.true_y.numpy()[:, 0, 1], 'g-')\n",
    "        ax_phase.set_xlim(-1, 1)\n",
    "        ax_phase.set_ylim(-1, 1)  \n",
    "        \n",
    "        if epoch != 0 or self.args.restart == 1 :\n",
    "            ax_traj.plot(self.t.numpy(), pred_y[0].numpy()[:, 0, 0], 'b--', self.t.numpy(), pred_y[0].numpy()[:, 0, 1], 'g--',)\n",
    "            ax_phase.plot(pred_y[0].numpy()[:, 0, 0], pred_y[0].numpy()[:, 0, 1], 'g--')\n",
    "\n",
    "        plt.show() \n",
    "\n",
    "        if epoch != 0: \n",
    "            fig.savefig(os.path.join(self.figsave_dir, 'img'+str(epoch)))"
   ]
  },
  {
   "cell_type": "markdown",
   "metadata": {
    "colab_type": "text",
    "id": "VAREvr3oBb7D"
   },
   "source": [
    "### Define the neural net architecture"
   ]
  },
  {
   "cell_type": "code",
   "execution_count": null,
   "metadata": {
    "colab": {},
    "colab_type": "code",
    "executionInfo": {
     "elapsed": 19267,
     "status": "ok",
     "timestamp": 1598476607212,
     "user": {
      "displayName": "Abhinav Gupta",
      "photoUrl": "https://lh3.googleusercontent.com/a-/AOh14GgMtMT5ccMf8GLgQ3yu6fAY2d6upCEZXfzS-5A6Cg=s64",
      "userId": "02552889854388316189"
     },
     "user_tz": 240
    },
    "id": "uMTGb7AmlXJ5"
   },
   "outputs": [],
   "source": [
    "class DDEFunc(tf.keras.Model):\n",
    "\n",
    "    def __init__(self, **kwargs):\n",
    "        super(DDEFunc, self).__init__(**kwargs)\n",
    "        \n",
    "        self.rnn_layer = tf.keras.layers.RNN(tf.keras.layers.SimpleRNNCell(2, activation='linear', use_bias=False, kernel_initializer=tf.keras.initializers.TruncatedNormal(stddev=0.1), \n",
    "                                                                        recurrent_initializer='random_normal'))\n",
    "    \n",
    "    def call(self, y, t, d):\n",
    "        input = []\n",
    "        for i in np.flip(np.arange(d[0])): # d is a list and d[0] contains the number of steps, while d[1] contains the time-step value to skip\n",
    "            input.append(tf.expand_dims(y(t - i*d[1]), axis=0))\n",
    "\n",
    "        input = tf.concat(input, axis=0)\n",
    "        input = tf.transpose(input, perm=[1, 0] + [i for i in range(2, input.shape.rank)])\n",
    "        y = input\n",
    "        for i in range(len(self.layers)):\n",
    "            y = self.layers[i](y)\n",
    "        return y"
   ]
  },
  {
   "cell_type": "markdown",
   "metadata": {
    "colab_type": "text",
    "id": "9Dbp1K68BFMG"
   },
   "source": [
    "### Initialize model related parameters"
   ]
  },
  {
   "cell_type": "code",
   "execution_count": null,
   "metadata": {
    "colab": {},
    "colab_type": "code",
    "executionInfo": {
     "elapsed": 18786,
     "status": "ok",
     "timestamp": 1598476607213,
     "user": {
      "displayName": "Abhinav Gupta",
      "photoUrl": "https://lh3.googleusercontent.com/a-/AOh14GgMtMT5ccMf8GLgQ3yu6fAY2d6upCEZXfzS-5A6Cg=s64",
      "userId": "02552889854388316189"
     },
     "user_tz": 240
    },
    "id": "W3dzZs3MlTpa"
   },
   "outputs": [],
   "source": [
    "args = ndde.arguments(data_size = 100, batch_time = 12, batch_time_skip = 2, batch_size = 5, epochs = 500, learning_rate = 0.075, decay_rate = 0.95, test_freq = 1, plot_freq = 2, \n",
    "                d_max = 1.1, rnn_nmax = 3, rnn_dt = 0.5, state_dim = 2, adj_data_size = 2,\n",
    "                model_dir = 'DDE_runs/model_dir_example', restart = 0, val_percentage = 0.2)\n",
    "\n",
    "t = tf.linspace(0., 10., args.data_size) # Time array"
   ]
  },
  {
   "cell_type": "markdown",
   "metadata": {
    "colab_type": "text",
    "id": "MqoDbzPvBhMZ"
   },
   "source": [
    "### Make a copy of the current script"
   ]
  },
  {
   "cell_type": "code",
   "execution_count": null,
   "metadata": {
    "colab": {
     "base_uri": "https://localhost:8080/",
     "height": 86
    },
    "colab_type": "code",
    "executionInfo": {
     "elapsed": 19821,
     "status": "ok",
     "timestamp": 1598476609225,
     "user": {
      "displayName": "Abhinav Gupta",
      "photoUrl": "https://lh3.googleusercontent.com/a-/AOh14GgMtMT5ccMf8GLgQ3yu6fAY2d6upCEZXfzS-5A6Cg=s64",
      "userId": "02552889854388316189"
     },
     "user_tz": 240
    },
    "id": "68bGkGLrlbBD",
    "outputId": "7edbe31a-c1ed-49d1-e9e8-b67a7bc14748"
   },
   "outputs": [],
   "source": [
    "os.chdir(basedir)\n",
    "\n",
    "if not os.path.exists(args.model_dir):\n",
    "    os.makedirs(args.model_dir)\n",
    "\n",
    "checkpoint_dir = os.path.join(args.model_dir, \"ckpt\")\n",
    "checkpoint_prefix = os.path.join(checkpoint_dir, \"cp-{epoch:04d}.ckpt\")\n",
    "if not os.path.exists(checkpoint_dir):\n",
    "  os.makedirs(checkpoint_dir)\n",
    "\n",
    "\n",
    "figsave_dir = os.path.join(args.model_dir, \"img\")\n",
    "if not os.path.exists(figsave_dir):\n",
    "    os.makedirs(figsave_dir)\n",
    "\n",
    "!jupyter nbconvert --to python neuralDDE_ROM_Closure/examples/neuralDDE_Example.ipynb\n",
    "move(\"neuralDDE_ROM_Closure/examples/neuralDDE_Example.py\", os.path.join(args.model_dir, \"orig_run_file.py\"))\n",
    "\n",
    "with open(os.path.join(args.model_dir, 'args.pkl'), 'wb') as output:\n",
    "    pickle.dump(args, output, pickle.HIGHEST_PROTOCOL)"
   ]
  },
  {
   "cell_type": "markdown",
   "metadata": {
    "colab_type": "text",
    "id": "KkFiD5SlBnJ1"
   },
   "source": [
    "### Define initial conditions and other parameters associated with the true DDE"
   ]
  },
  {
   "cell_type": "code",
   "execution_count": null,
   "metadata": {
    "colab": {},
    "colab_type": "code",
    "executionInfo": {
     "elapsed": 19543,
     "status": "ok",
     "timestamp": 1598476609936,
     "user": {
      "displayName": "Abhinav Gupta",
      "photoUrl": "https://lh3.googleusercontent.com/a-/AOh14GgMtMT5ccMf8GLgQ3yu6fAY2d6upCEZXfzS-5A6Cg=s64",
      "userId": "02552889854388316189"
     },
     "user_tz": 240
    },
    "id": "_4YK_6iammz2"
   },
   "outputs": [],
   "source": [
    "class initial_cond(tf.keras.Model):\n",
    "\n",
    "    def call(self, t):\n",
    "        return tf.convert_to_tensor([[1., 0.]], dtype=tf.float32)\n",
    "\n",
    "true_y0 = initial_cond() # Initial conditions\n",
    "true_A = tf.convert_to_tensor([[-0.1, 2.0], [-2.0, -0.1]], dtype=tf.float32)\n",
    "d = [0.5, 1.]"
   ]
  },
  {
   "cell_type": "markdown",
   "metadata": {
    "colab_type": "text",
    "id": "oWJXNbWUBwen"
   },
   "source": [
    "### Solve for the true DDE"
   ]
  },
  {
   "cell_type": "code",
   "execution_count": null,
   "metadata": {
    "colab": {},
    "colab_type": "code",
    "executionInfo": {
     "elapsed": 21847,
     "status": "ok",
     "timestamp": 1598476613254,
     "user": {
      "displayName": "Abhinav Gupta",
      "photoUrl": "https://lh3.googleusercontent.com/a-/AOh14GgMtMT5ccMf8GLgQ3yu6fAY2d6upCEZXfzS-5A6Cg=s64",
      "userId": "02552889854388316189"
     },
     "user_tz": 240
    },
    "id": "X_SGNn_nmpZ5"
   },
   "outputs": [],
   "source": [
    "class Lambda(tf.keras.Model):\n",
    "\n",
    "    def call(self, y, t, d):\n",
    "        return tf.cast(tf.einsum('ab, cb -> ca', tf.cast(tf.transpose(true_A), tf.float64), tf.cast(y(t), tf.float64)) \n",
    "            - 0.1*tf.einsum('ab, cb -> ca', tf.cast(tf.transpose(true_A), tf.float64), tf.cast(y(t - d[0]), tf.float64))\n",
    "            - 0.1*tf.einsum('ab, cb -> ca', tf.cast(tf.transpose(true_A), tf.float64), tf.cast(y(t - d[1]), tf.float64)), tf.float32)\n",
    "        \n",
    "true_y = ddeinttf(Lambda(), true_y0, t, fargs=(d,))  # Solve for the true ODE solution"
   ]
  },
  {
   "cell_type": "markdown",
   "metadata": {
    "colab_type": "text",
    "id": "06D0tjWxn20f"
   },
   "source": [
    "### Create validation set"
   ]
  },
  {
   "cell_type": "code",
   "execution_count": null,
   "metadata": {
    "colab": {},
    "colab_type": "code",
    "executionInfo": {
     "elapsed": 21315,
     "status": "ok",
     "timestamp": 1598476613734,
     "user": {
      "displayName": "Abhinav Gupta",
      "photoUrl": "https://lh3.googleusercontent.com/a-/AOh14GgMtMT5ccMf8GLgQ3yu6fAY2d6upCEZXfzS-5A6Cg=s64",
      "userId": "02552889854388316189"
     },
     "user_tz": 240
    },
    "id": "GljNnO-Mn33R"
   },
   "outputs": [],
   "source": [
    "val_obj = ndde.create_validation_set(true_y0, t, args)\n",
    "\n",
    "val_true_y = val_obj.data(Lambda(), true_y, t, d)"
   ]
  },
  {
   "cell_type": "markdown",
   "metadata": {
    "colab_type": "text",
    "id": "8QKA9tuaB3BM"
   },
   "source": [
    "## Main part starts here"
   ]
  },
  {
   "cell_type": "markdown",
   "metadata": {
    "colab_type": "text",
    "id": "7XYXguR6B9CH"
   },
   "source": [
    "### Make objects and define learning-rate schedule"
   ]
  },
  {
   "cell_type": "code",
   "execution_count": null,
   "metadata": {
    "colab": {},
    "colab_type": "code",
    "executionInfo": {
     "elapsed": 19381,
     "status": "ok",
     "timestamp": 1598476613735,
     "user": {
      "displayName": "Abhinav Gupta",
      "photoUrl": "https://lh3.googleusercontent.com/a-/AOh14GgMtMT5ccMf8GLgQ3yu6fAY2d6upCEZXfzS-5A6Cg=s64",
      "userId": "02552889854388316189"
     },
     "user_tz": 240
    },
    "id": "-V7Eiw1Wm2lf"
   },
   "outputs": [],
   "source": [
    "time_meter = ndde.RunningAverageMeter(0.97)\n",
    "\n",
    "func = DDEFunc()\n",
    "adj_func = ndde.adj_eqn(func, args)\n",
    "get_batch = ndde.create_batch(true_y, true_y0, t, args)\n",
    "loss_obj = custom_loss()\n",
    "plot_obj = custom_plot(tf.concat([true_y, val_true_y], axis=0), tf.concat([t, val_obj.val_t], axis=0), figsave_dir, args)\n",
    "loss_history = ndde.history(args)\n",
    "\n",
    "initial_learning_rate = args.learning_rate\n",
    "lr_schedule = tf.keras.optimizers.schedules.ExponentialDecay(\n",
    "    initial_learning_rate,\n",
    "    decay_steps=args.niters,\n",
    "    decay_rate=args.decay_rate,\n",
    "    staircase=True)"
   ]
  },
  {
   "cell_type": "markdown",
   "metadata": {
    "colab_type": "text",
    "id": "0wKzSIvbCGkn"
   },
   "source": [
    "### Quick test to see how the true DDE looks like"
   ]
  },
  {
   "cell_type": "code",
   "execution_count": null,
   "metadata": {
    "colab": {
     "base_uri": "https://localhost:8080/",
     "height": 295
    },
    "colab_type": "code",
    "executionInfo": {
     "elapsed": 18395,
     "status": "ok",
     "timestamp": 1598476613736,
     "user": {
      "displayName": "Abhinav Gupta",
      "photoUrl": "https://lh3.googleusercontent.com/a-/AOh14GgMtMT5ccMf8GLgQ3yu6fAY2d6upCEZXfzS-5A6Cg=s64",
      "userId": "02552889854388316189"
     },
     "user_tz": 240
    },
    "id": "w59AWqMxm8Ri",
    "outputId": "326531ec-e146-43cd-f77b-ad36002f6241"
   },
   "outputs": [],
   "source": [
    "if args.restart == 1: \n",
    "    func.load_weights(tf.train.latest_checkpoint(checkpoint_dir))\n",
    "    pred_y = ddeinttf(func, true_y0, t, fargs=([args.rnn_nmax, args.rnn_dt],))\n",
    "    \n",
    "    plot_obj.plot(pred_y, epoch = 0)\n",
    "\n",
    "    loss_history.read()\n",
    "    \n",
    "    initial_learning_rate = 0.05\n",
    "    lr_schedule = tf.keras.optimizers.schedules.ExponentialDecay(\n",
    "        initial_learning_rate, decay_steps=args.niters, decay_rate=0.93, staircase=True)\n",
    "    \n",
    "else:\n",
    "    plot_obj.plot(epoch = 0)"
   ]
  },
  {
   "cell_type": "markdown",
   "metadata": {
    "colab_type": "text",
    "id": "kZNgzcp0CMMH"
   },
   "source": [
    "### Training starts here"
   ]
  },
  {
   "cell_type": "code",
   "execution_count": null,
   "metadata": {
    "colab": {
     "base_uri": "https://localhost:8080/",
     "height": 375
    },
    "colab_type": "code",
    "executionInfo": {
     "elapsed": 112606,
     "status": "error",
     "timestamp": 1598476785258,
     "user": {
      "displayName": "Abhinav Gupta",
      "photoUrl": "https://lh3.googleusercontent.com/a-/AOh14GgMtMT5ccMf8GLgQ3yu6fAY2d6upCEZXfzS-5A6Cg=s64",
      "userId": "02552889854388316189"
     },
     "user_tz": 240
    },
    "id": "8p54kHMzm_Ur",
    "outputId": "1f05dabb-da71-422a-a9a2-e8884da2f6bb"
   },
   "outputs": [],
   "source": [
    "optimizer = tf.keras.optimizers.RMSprop(learning_rate = lr_schedule)\n",
    "\n",
    "nDDE_train_obj = ndde.train_nDDE(func = func, adj_func = adj_func, d = [args.rnn_nmax, args.rnn_dt], loss_obj = loss_obj, batch_obj = get_batch,\n",
    "                            optimizer = optimizer, args = args, plot_obj = plot_obj, time_meter = time_meter, checkpoint_dir = checkpoint_prefix,\n",
    "                            validation_obj = val_obj, loss_history_obj = loss_history)\n",
    "\n",
    "nDDE_train_obj.train(true_y, true_y0, t, val_true_y)"
   ]
  },
  {
   "cell_type": "code",
   "execution_count": null,
   "metadata": {
    "colab": {},
    "colab_type": "code",
    "id": "E9Vqrya-oTWz"
   },
   "outputs": [],
   "source": []
  }
 ],
 "metadata": {
  "accelerator": "GPU",
  "colab": {
   "authorship_tag": "ABX9TyPCgMRrsc/E+FyXE24AnuH/",
   "collapsed_sections": [],
   "machine_shape": "hm",
   "name": "neuralDDE_Example.ipynb",
   "provenance": []
  },
  "kernelspec": {
   "display_name": "Python 3",
   "language": "python",
   "name": "python3"
  },
  "language_info": {
   "codemirror_mode": {
    "name": "ipython",
    "version": 3
   },
   "file_extension": ".py",
   "mimetype": "text/x-python",
   "name": "python",
   "nbconvert_exporter": "python",
   "pygments_lexer": "ipython3",
   "version": "3.7.4"
  }
 },
 "nbformat": 4,
 "nbformat_minor": 1
}
